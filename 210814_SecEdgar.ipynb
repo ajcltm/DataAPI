{
 "cells": [
  {
   "cell_type": "code",
   "execution_count": 1,
   "id": "3d1bece7",
   "metadata": {
    "ExecuteTime": {
     "end_time": "2021-08-18T14:53:55.982102Z",
     "start_time": "2021-08-18T14:53:51.374104Z"
    }
   },
   "outputs": [],
   "source": [
    "from io import BytesIO\n",
    "from zipfile import ZipFile, BadZipFile\n",
    "import requests\n",
    "from datetime import date, datetime\n",
    "from pathlib import Path\n",
    "import pandas_datareader.data as web\n",
    "import datetime\n",
    "import pandas as pd\n",
    "import json\n",
    "import re\n",
    "from pprint import pprint\n",
    "from bs4 import BeautifulSoup\n",
    "from collections import Counter\n",
    "import matplotlib.pyplot as plt\n",
    "import matplotlib.dates as mdates\n",
    "import matplotlib.ticker as mticker"
   ]
  },
  {
   "cell_type": "code",
   "execution_count": 4,
   "id": "183ac4f1",
   "metadata": {
    "ExecuteTime": {
     "end_time": "2021-08-18T14:54:25.480287Z",
     "start_time": "2021-08-18T14:54:25.474302Z"
    }
   },
   "outputs": [
    {
     "name": "stdout",
     "output_type": "stream",
     "text": [
      "data\n"
     ]
    }
   ],
   "source": [
    "data_path = Path('data')\n",
    "print(data_path)"
   ]
  },
  {
   "cell_type": "code",
   "execution_count": 46,
   "id": "1cec5bb1",
   "metadata": {
    "ExecuteTime": {
     "end_time": "2021-08-14T14:36:38.314323Z",
     "start_time": "2021-08-14T14:36:38.306331Z"
    }
   },
   "outputs": [],
   "source": [
    "SEC_URL = 'https://www.sec.gov/files/dera/data/financial-statement-and-notes-data-sets/'"
   ]
  },
  {
   "cell_type": "code",
   "execution_count": 47,
   "id": "5947f5c4",
   "metadata": {
    "ExecuteTime": {
     "end_time": "2021-08-14T14:36:38.642765Z",
     "start_time": "2021-08-14T14:36:38.628721Z"
    }
   },
   "outputs": [
    {
     "name": "stdout",
     "output_type": "stream",
     "text": [
      "2021-08-14 00:00:00\n",
      "filing_periods : [(2020, 1), (2020, 2), (2020, 3), (2020, 4), (2021, 1), (2021, 2), (2021, 3)]\n"
     ]
    }
   ],
   "source": [
    "today = pd.Timestamp(date.today())\n",
    "print(pd.Timestamp(date.today()))\n",
    "this_year = today.year\n",
    "this_quater = today.quarter\n",
    "\n",
    "past_years = range(2020, this_year)\n",
    "filing_periods = [(y,q) for y in past_years for q in range(1,5)]\n",
    "filing_periods.extend([(this_year, q) for q in range(1, this_quater+1)])\n",
    "print(f'filing_periods : {filing_periods}')"
   ]
  },
  {
   "cell_type": "code",
   "execution_count": 51,
   "id": "1f182750",
   "metadata": {
    "ExecuteTime": {
     "end_time": "2021-08-14T14:37:56.342481Z",
     "start_time": "2021-08-14T14:37:56.319442Z"
    }
   },
   "outputs": [
    {
     "name": "stdout",
     "output_type": "stream",
     "text": [
      "2020 1 data\\2020_1\\source\n",
      "2020 2 data\\2020_2\\source\n",
      "2020 3 data\\2020_3\\source\n",
      "2020 4 data\\2020_4\\source\n",
      "2021 1 data\\2021_1\\source\n",
      "2021 2 data\\2021_2\\source\n",
      "2021 3 data\\2021_3\\source\n"
     ]
    }
   ],
   "source": [
    "for i, (yr, qtr) in enumerate(filing_periods, 1) :\n",
    "    print(yr, qtr, end=' ', )\n",
    "    filing = f'{yr}q{qtr}_notes.zip'\n",
    "    path = data_path / f'{yr}_{qtr}' / 'source'\n",
    "    print(path)\n",
    "    if not path.exists():\n",
    "        path.mkdir(exist_ok=True, parents=True)"
   ]
  },
  {
   "cell_type": "code",
   "execution_count": 60,
   "id": "d17ea924",
   "metadata": {
    "ExecuteTime": {
     "end_time": "2021-08-14T15:46:45.054085Z",
     "start_time": "2021-08-14T15:02:35.903218Z"
    }
   },
   "outputs": [],
   "source": [
    "for i, (yr, qtr) in enumerate(filing_periods, 1):\n",
    "    print(yr, qtr, end=' ', )\n",
    "    filing = f'{yr}q{qtr}_notes.zip'\n",
    "    path = data_path / f'{yr}_{qtr}' / 'source'\n",
    "    if not path.exists():\n",
    "        path.mkdir(exist_ok=True, parents=True)\n",
    "\n",
    "    response = requests.get(SEC_URL + filing).content\n",
    "    print(f'response : {response}')\n",
    "    try:\n",
    "        with ZipFile(BytesIO(response)) as zip_file:\n",
    "            for file in zip_file.namelist():\n",
    "                local_file = path / file\n",
    "                print(local_file)\n",
    "                if local_file.exists():\n",
    "                    continue\n",
    "                with local_file.open('wb') as output:\n",
    "                    for line in zip_file.open(file).readlines():\n",
    "                        print(line)\n",
    "                        output.write(line)\n",
    "    except BadZipFile:\n",
    "        continue"
   ]
  },
  {
   "cell_type": "code",
   "execution_count": 5,
   "id": "95e2ea36",
   "metadata": {
    "ExecuteTime": {
     "end_time": "2021-08-18T14:54:31.001406Z",
     "start_time": "2021-08-18T14:54:30.978432Z"
    }
   },
   "outputs": [
    {
     "name": "stdout",
     "output_type": "stream",
     "text": [
      "data\\2020_1\\source\\cal.tsv\n",
      "data\\2020_1\\source\\dim.tsv\n",
      "data\\2020_1\\source\\num.tsv\n",
      "data\\2020_1\\source\\pre.tsv\n",
      "data\\2020_1\\source\\ren.tsv\n",
      "data\\2020_1\\source\\sub.tsv\n",
      "data\\2020_1\\source\\tag.tsv\n",
      "data\\2020_1\\source\\txt.tsv\n"
     ]
    }
   ],
   "source": [
    "for f in data_path.glob('**/*.tsv') :\n",
    "    file_name = f.stem + '.parquet'\n",
    "    path = Path(f.parents[1]) / 'parquet'\n",
    "    print(f)\n",
    "    if (path / file_name).exists() :\n",
    "        continue\n",
    "    if not path.exists():\n",
    "        path.mkdir(exist_ok=True)\n",
    "    try:\n",
    "        df = pd.read_csv(f, sep='\\t', encoding='latin1', low_memory=False)\n",
    "    except:\n",
    "        print(f)\n",
    "    df.to_parquet(path / file_name)"
   ]
  },
  {
   "cell_type": "code",
   "execution_count": 6,
   "id": "805b3e70",
   "metadata": {
    "ExecuteTime": {
     "end_time": "2021-08-18T14:54:34.336572Z",
     "start_time": "2021-08-18T14:54:33.930156Z"
    }
   },
   "outputs": [
    {
     "name": "stdout",
     "output_type": "stream",
     "text": [
      "<class 'pandas.core.frame.DataFrame'>\n",
      "RangeIndex: 13561 entries, 0 to 13560\n",
      "Data columns (total 40 columns):\n",
      " #   Column       Non-Null Count  Dtype  \n",
      "---  ------       --------------  -----  \n",
      " 0   adsh         13561 non-null  object \n",
      " 1   cik          13561 non-null  int64  \n",
      " 2   name         13561 non-null  object \n",
      " 3   sic          13557 non-null  float64\n",
      " 4   countryba    13545 non-null  object \n",
      " 5   stprba       12623 non-null  object \n",
      " 6   cityba       13544 non-null  object \n",
      " 7   zipba        13542 non-null  object \n",
      " 8   bas1         13545 non-null  object \n",
      " 9   bas2         5409 non-null   object \n",
      " 10  baph         13547 non-null  object \n",
      " 11  countryma    13489 non-null  object \n",
      " 12  stprma       12636 non-null  object \n",
      " 13  cityma       13489 non-null  object \n",
      " 14  zipma        13477 non-null  object \n",
      " 15  mas1         13487 non-null  object \n",
      " 16  mas2         5354 non-null   object \n",
      " 17  countryinc   12378 non-null  object \n",
      " 18  stprinc      11710 non-null  object \n",
      " 19  ein          13561 non-null  int64  \n",
      " 20  former       7898 non-null   object \n",
      " 21  changed      7898 non-null   float64\n",
      " 22  afs          13459 non-null  object \n",
      " 23  wksi         13561 non-null  int64  \n",
      " 24  fye          13556 non-null  float64\n",
      " 25  form         13561 non-null  object \n",
      " 26  period       13561 non-null  int64  \n",
      " 27  fy           5798 non-null   float64\n",
      " 28  fp           5789 non-null   object \n",
      " 29  filed        13561 non-null  int64  \n",
      " 30  accepted     13561 non-null  object \n",
      " 31  prevrpt      13561 non-null  int64  \n",
      " 32  detail       13561 non-null  int64  \n",
      " 33  instance     13561 non-null  object \n",
      " 34  nciks        13561 non-null  int64  \n",
      " 35  aciks        431 non-null    object \n",
      " 36  pubfloatusd  4151 non-null   float64\n",
      " 37  floatdate    4152 non-null   float64\n",
      " 38  floataxis    21 non-null     object \n",
      " 39  floatmems    22 non-null     float64\n",
      "dtypes: float64(7), int64(8), object(25)\n",
      "memory usage: 4.1+ MB\n"
     ]
    }
   ],
   "source": [
    "sub = pd.read_parquet(data_path / '2020_1' / 'parquet' / 'sub.parquet')\n",
    "sub.info()"
   ]
  },
  {
   "cell_type": "code",
   "execution_count": 43,
   "id": "be746e87",
   "metadata": {
    "ExecuteTime": {
     "end_time": "2021-08-18T15:46:19.882441Z",
     "start_time": "2021-08-18T15:46:19.853255Z"
    }
   },
   "outputs": [
    {
     "data": {
      "text/html": [
       "<div>\n",
       "<style scoped>\n",
       "    .dataframe tbody tr th:only-of-type {\n",
       "        vertical-align: middle;\n",
       "    }\n",
       "\n",
       "    .dataframe tbody tr th {\n",
       "        vertical-align: top;\n",
       "    }\n",
       "\n",
       "    .dataframe thead th {\n",
       "        text-align: right;\n",
       "    }\n",
       "</style>\n",
       "<table border=\"1\" class=\"dataframe\">\n",
       "  <thead>\n",
       "    <tr style=\"text-align: right;\">\n",
       "      <th></th>\n",
       "      <th>cik</th>\n",
       "      <th>name</th>\n",
       "      <th>form</th>\n",
       "      <th>instance</th>\n",
       "    </tr>\n",
       "  </thead>\n",
       "  <tbody>\n",
       "    <tr>\n",
       "      <th>1001</th>\n",
       "      <td>311094</td>\n",
       "      <td>WESTAMERICA BANCORPORATION</td>\n",
       "      <td>8-K</td>\n",
       "      <td>f8k_011620_htm.xml</td>\n",
       "    </tr>\n",
       "    <tr>\n",
       "      <th>1150</th>\n",
       "      <td>109380</td>\n",
       "      <td>ZIONS BANCORPORATION, NATIONAL ASSOCIATION /UT/</td>\n",
       "      <td>8-K</td>\n",
       "      <td>zion-201912318xkcoverp_htm.xml</td>\n",
       "    </tr>\n",
       "    <tr>\n",
       "      <th>1459</th>\n",
       "      <td>311094</td>\n",
       "      <td>WESTAMERICA BANCORPORATION</td>\n",
       "      <td>8-K</td>\n",
       "      <td>f8k_012320_htm.xml</td>\n",
       "    </tr>\n",
       "    <tr>\n",
       "      <th>1483</th>\n",
       "      <td>1212545</td>\n",
       "      <td>WESTERN ALLIANCE BANCORPORATION</td>\n",
       "      <td>8-K</td>\n",
       "      <td>coverpage-pressrelease_htm.xml</td>\n",
       "    </tr>\n",
       "    <tr>\n",
       "      <th>1508</th>\n",
       "      <td>1614184</td>\n",
       "      <td>CADENCE BANCORPORATION</td>\n",
       "      <td>8-K</td>\n",
       "      <td>cade-8k_20200123_htm.xml</td>\n",
       "    </tr>\n",
       "    <tr>\n",
       "      <th>2379</th>\n",
       "      <td>1767837</td>\n",
       "      <td>RICHMOND MUTUAL BANCORPORATION, INC.</td>\n",
       "      <td>8-K</td>\n",
       "      <td>rmbi-20200131_htm.xml</td>\n",
       "    </tr>\n",
       "    <tr>\n",
       "      <th>2871</th>\n",
       "      <td>1614184</td>\n",
       "      <td>CADENCE BANCORPORATION</td>\n",
       "      <td>8-K</td>\n",
       "      <td>cade-8k_20200204_htm.xml</td>\n",
       "    </tr>\n",
       "    <tr>\n",
       "      <th>3129</th>\n",
       "      <td>109380</td>\n",
       "      <td>ZIONS BANCORPORATION, NATIONAL ASSOCIATION /UT/</td>\n",
       "      <td>8-K</td>\n",
       "      <td>zions-20200205_htm.xml</td>\n",
       "    </tr>\n",
       "    <tr>\n",
       "      <th>3371</th>\n",
       "      <td>1212545</td>\n",
       "      <td>WESTERN ALLIANCE BANCORPORATION</td>\n",
       "      <td>8-K</td>\n",
       "      <td>a8-kdividendannounceme_htm.xml</td>\n",
       "    </tr>\n",
       "    <tr>\n",
       "      <th>4114</th>\n",
       "      <td>1212545</td>\n",
       "      <td>WESTERN ALLIANCE BANCORPORATION</td>\n",
       "      <td>8-K</td>\n",
       "      <td>investorpresentationfe_htm.xml</td>\n",
       "    </tr>\n",
       "    <tr>\n",
       "      <th>4428</th>\n",
       "      <td>867840</td>\n",
       "      <td>PRECISION OPTICS CORPORATION, INC.</td>\n",
       "      <td>10-Q</td>\n",
       "      <td>peye-20191231.xml</td>\n",
       "    </tr>\n",
       "    <tr>\n",
       "      <th>5100</th>\n",
       "      <td>1614184</td>\n",
       "      <td>CADENCE BANCORPORATION</td>\n",
       "      <td>8-K</td>\n",
       "      <td>cade-8k_20200218_htm.xml</td>\n",
       "    </tr>\n",
       "    <tr>\n",
       "      <th>6741</th>\n",
       "      <td>109380</td>\n",
       "      <td>ZIONS BANCORPORATION, NATIONAL ASSOCIATION /UT/</td>\n",
       "      <td>10-K</td>\n",
       "      <td>zions-20191231_htm.xml</td>\n",
       "    </tr>\n",
       "    <tr>\n",
       "      <th>7335</th>\n",
       "      <td>1166928</td>\n",
       "      <td>WEST BANCORPORATION INC</td>\n",
       "      <td>10-K</td>\n",
       "      <td>wtba-20191231.xml</td>\n",
       "    </tr>\n",
       "    <tr>\n",
       "      <th>7854</th>\n",
       "      <td>311094</td>\n",
       "      <td>WESTAMERICA BANCORPORATION</td>\n",
       "      <td>10-K</td>\n",
       "      <td>wabc20191231_10k_htm.xml</td>\n",
       "    </tr>\n",
       "    <tr>\n",
       "      <th>8168</th>\n",
       "      <td>1614184</td>\n",
       "      <td>CADENCE BANCORPORATION</td>\n",
       "      <td>8-K</td>\n",
       "      <td>cade-8k_20200228_htm.xml</td>\n",
       "    </tr>\n",
       "    <tr>\n",
       "      <th>8170</th>\n",
       "      <td>1614184</td>\n",
       "      <td>CADENCE BANCORPORATION</td>\n",
       "      <td>10-K</td>\n",
       "      <td>cade-10k_20191231_htm.xml</td>\n",
       "    </tr>\n",
       "    <tr>\n",
       "      <th>8349</th>\n",
       "      <td>1212545</td>\n",
       "      <td>WESTERN ALLIANCE BANCORPORATION</td>\n",
       "      <td>10-K</td>\n",
       "      <td>wal1231201910-k_htm.xml</td>\n",
       "    </tr>\n",
       "    <tr>\n",
       "      <th>9102</th>\n",
       "      <td>732417</td>\n",
       "      <td>HILLS BANCORPORATION</td>\n",
       "      <td>10-K</td>\n",
       "      <td>hbia2019123110k_htm.xml</td>\n",
       "    </tr>\n",
       "    <tr>\n",
       "      <th>9175</th>\n",
       "      <td>750574</td>\n",
       "      <td>AUBURN NATIONAL BANCORPORATION, INC</td>\n",
       "      <td>10-K</td>\n",
       "      <td>aubn-20191231.xml</td>\n",
       "    </tr>\n",
       "    <tr>\n",
       "      <th>9176</th>\n",
       "      <td>1614184</td>\n",
       "      <td>CADENCE BANCORPORATION</td>\n",
       "      <td>8-K</td>\n",
       "      <td>d900131d8k_htm.xml</td>\n",
       "    </tr>\n",
       "    <tr>\n",
       "      <th>9610</th>\n",
       "      <td>1614184</td>\n",
       "      <td>CADENCE BANCORPORATION</td>\n",
       "      <td>8-K</td>\n",
       "      <td>d897244d8k_htm.xml</td>\n",
       "    </tr>\n",
       "    <tr>\n",
       "      <th>9637</th>\n",
       "      <td>1212545</td>\n",
       "      <td>WESTERN ALLIANCE BANCORPORATION</td>\n",
       "      <td>8-K</td>\n",
       "      <td>a8-kinvestorpresentati_htm.xml</td>\n",
       "    </tr>\n",
       "    <tr>\n",
       "      <th>9706</th>\n",
       "      <td>1614184</td>\n",
       "      <td>CADENCE BANCORPORATION</td>\n",
       "      <td>8-K</td>\n",
       "      <td>cade-8k_20200310_htm.xml</td>\n",
       "    </tr>\n",
       "    <tr>\n",
       "      <th>12639</th>\n",
       "      <td>1767837</td>\n",
       "      <td>RICHMOND MUTUAL BANCORPORATION, INC.</td>\n",
       "      <td>10-K</td>\n",
       "      <td>rmbi-20191231.xml</td>\n",
       "    </tr>\n",
       "  </tbody>\n",
       "</table>\n",
       "</div>"
      ],
      "text/plain": [
       "           cik                                             name  form  \\\n",
       "1001    311094                       WESTAMERICA BANCORPORATION   8-K   \n",
       "1150    109380  ZIONS BANCORPORATION, NATIONAL ASSOCIATION /UT/   8-K   \n",
       "1459    311094                       WESTAMERICA BANCORPORATION   8-K   \n",
       "1483   1212545                  WESTERN ALLIANCE BANCORPORATION   8-K   \n",
       "1508   1614184                           CADENCE BANCORPORATION   8-K   \n",
       "2379   1767837             RICHMOND MUTUAL BANCORPORATION, INC.   8-K   \n",
       "2871   1614184                           CADENCE BANCORPORATION   8-K   \n",
       "3129    109380  ZIONS BANCORPORATION, NATIONAL ASSOCIATION /UT/   8-K   \n",
       "3371   1212545                  WESTERN ALLIANCE BANCORPORATION   8-K   \n",
       "4114   1212545                  WESTERN ALLIANCE BANCORPORATION   8-K   \n",
       "4428    867840               PRECISION OPTICS CORPORATION, INC.  10-Q   \n",
       "5100   1614184                           CADENCE BANCORPORATION   8-K   \n",
       "6741    109380  ZIONS BANCORPORATION, NATIONAL ASSOCIATION /UT/  10-K   \n",
       "7335   1166928                          WEST BANCORPORATION INC  10-K   \n",
       "7854    311094                       WESTAMERICA BANCORPORATION  10-K   \n",
       "8168   1614184                           CADENCE BANCORPORATION   8-K   \n",
       "8170   1614184                           CADENCE BANCORPORATION  10-K   \n",
       "8349   1212545                  WESTERN ALLIANCE BANCORPORATION  10-K   \n",
       "9102    732417                             HILLS BANCORPORATION  10-K   \n",
       "9175    750574              AUBURN NATIONAL BANCORPORATION, INC  10-K   \n",
       "9176   1614184                           CADENCE BANCORPORATION   8-K   \n",
       "9610   1614184                           CADENCE BANCORPORATION   8-K   \n",
       "9637   1212545                  WESTERN ALLIANCE BANCORPORATION   8-K   \n",
       "9706   1614184                           CADENCE BANCORPORATION   8-K   \n",
       "12639  1767837             RICHMOND MUTUAL BANCORPORATION, INC.  10-K   \n",
       "\n",
       "                             instance  \n",
       "1001               f8k_011620_htm.xml  \n",
       "1150   zion-201912318xkcoverp_htm.xml  \n",
       "1459               f8k_012320_htm.xml  \n",
       "1483   coverpage-pressrelease_htm.xml  \n",
       "1508         cade-8k_20200123_htm.xml  \n",
       "2379            rmbi-20200131_htm.xml  \n",
       "2871         cade-8k_20200204_htm.xml  \n",
       "3129           zions-20200205_htm.xml  \n",
       "3371   a8-kdividendannounceme_htm.xml  \n",
       "4114   investorpresentationfe_htm.xml  \n",
       "4428                peye-20191231.xml  \n",
       "5100         cade-8k_20200218_htm.xml  \n",
       "6741           zions-20191231_htm.xml  \n",
       "7335                wtba-20191231.xml  \n",
       "7854         wabc20191231_10k_htm.xml  \n",
       "8168         cade-8k_20200228_htm.xml  \n",
       "8170        cade-10k_20191231_htm.xml  \n",
       "8349          wal1231201910-k_htm.xml  \n",
       "9102          hbia2019123110k_htm.xml  \n",
       "9175                aubn-20191231.xml  \n",
       "9176               d900131d8k_htm.xml  \n",
       "9610               d897244d8k_htm.xml  \n",
       "9637   a8-kinvestorpresentati_htm.xml  \n",
       "9706         cade-8k_20200310_htm.xml  \n",
       "12639               rmbi-20191231.xml  "
      ]
     },
     "execution_count": 43,
     "metadata": {},
     "output_type": "execute_result"
    }
   ],
   "source": [
    "sub[sub.name.str.contains('CORPORATION')].loc[:, ['cik', 'name', 'form', 'instance']]\n",
    "# sub[sub['name'] == 'Microsoft Corporation'].loc[:, ['cik', 'name', 'form', 'instance']]"
   ]
  },
  {
   "cell_type": "code",
   "execution_count": 7,
   "id": "b68e0f6c",
   "metadata": {
    "ExecuteTime": {
     "end_time": "2021-08-18T14:54:36.869054Z",
     "start_time": "2021-08-18T14:54:36.812204Z"
    }
   },
   "outputs": [
    {
     "data": {
      "text/plain": [
       "name                    APPLE INC\n",
       "adsh         0000320193-20-000010\n",
       "cik                        320193\n",
       "sic                        3571.0\n",
       "countryba                      US\n",
       "stprba                         CA\n",
       "cityba                  CUPERTINO\n",
       "zipba                       95014\n",
       "bas1           ONE APPLE PARK WAY\n",
       "form                         10-Q\n",
       "period                   20191231\n",
       "fy                         2020.0\n",
       "fp                             Q1\n",
       "filed                    20200129\n",
       "Name: 1934, dtype: object"
      ]
     },
     "execution_count": 7,
     "metadata": {},
     "output_type": "execute_result"
    }
   ],
   "source": [
    "name = 'APPLE INC'\n",
    "key_cols = ['name', 'adsh', 'cik', 'sic', 'countryba', 'stprba',\n",
    "            'cityba', 'zipba', 'bas1', 'form', 'period', 'fy', 'fp', 'filed']\n",
    "sub_temp = sub[key_cols].copy()\n",
    "apple = sub_temp[sub_temp.name == name].T.dropna(how='any', axis=1).squeeze()\n",
    "apple"
   ]
  },
  {
   "cell_type": "code",
   "execution_count": 23,
   "id": "0ddfb478",
   "metadata": {
    "ExecuteTime": {
     "end_time": "2021-08-18T15:05:04.422016Z",
     "start_time": "2021-08-18T15:05:04.407054Z"
    }
   },
   "outputs": [
    {
     "data": {
      "text/plain": [
       "5480"
      ]
     },
     "execution_count": 23,
     "metadata": {},
     "output_type": "execute_result"
    }
   ],
   "source": [
    "len(sub_temp.cik.unique().tolist())"
   ]
  },
  {
   "cell_type": "code",
   "execution_count": 8,
   "id": "998609d7",
   "metadata": {
    "ExecuteTime": {
     "end_time": "2021-08-18T14:54:39.458267Z",
     "start_time": "2021-08-18T14:54:39.405410Z"
    }
   },
   "outputs": [
    {
     "data": {
      "text/html": [
       "<div>\n",
       "<style scoped>\n",
       "    .dataframe tbody tr th:only-of-type {\n",
       "        vertical-align: middle;\n",
       "    }\n",
       "\n",
       "    .dataframe tbody tr th {\n",
       "        vertical-align: top;\n",
       "    }\n",
       "\n",
       "    .dataframe thead th {\n",
       "        text-align: right;\n",
       "    }\n",
       "</style>\n",
       "<table border=\"1\" class=\"dataframe\">\n",
       "  <thead>\n",
       "    <tr style=\"text-align: right;\">\n",
       "      <th></th>\n",
       "      <th>adsh</th>\n",
       "      <th>cik</th>\n",
       "      <th>name</th>\n",
       "      <th>sic</th>\n",
       "      <th>countryba</th>\n",
       "      <th>stprba</th>\n",
       "      <th>cityba</th>\n",
       "      <th>zipba</th>\n",
       "      <th>bas1</th>\n",
       "      <th>bas2</th>\n",
       "      <th>...</th>\n",
       "      <th>accepted</th>\n",
       "      <th>prevrpt</th>\n",
       "      <th>detail</th>\n",
       "      <th>instance</th>\n",
       "      <th>nciks</th>\n",
       "      <th>aciks</th>\n",
       "      <th>pubfloatusd</th>\n",
       "      <th>floatdate</th>\n",
       "      <th>floataxis</th>\n",
       "      <th>floatmems</th>\n",
       "    </tr>\n",
       "  </thead>\n",
       "  <tbody>\n",
       "    <tr>\n",
       "      <th>1934</th>\n",
       "      <td>0000320193-20-000010</td>\n",
       "      <td>320193</td>\n",
       "      <td>APPLE INC</td>\n",
       "      <td>3571.0</td>\n",
       "      <td>US</td>\n",
       "      <td>CA</td>\n",
       "      <td>CUPERTINO</td>\n",
       "      <td>95014</td>\n",
       "      <td>ONE APPLE PARK WAY</td>\n",
       "      <td>None</td>\n",
       "      <td>...</td>\n",
       "      <td>2020-01-28 18:03:00.0</td>\n",
       "      <td>0</td>\n",
       "      <td>1</td>\n",
       "      <td>a10-qq1202012282019_htm.xml</td>\n",
       "      <td>1</td>\n",
       "      <td>None</td>\n",
       "      <td>NaN</td>\n",
       "      <td>NaN</td>\n",
       "      <td>None</td>\n",
       "      <td>NaN</td>\n",
       "    </tr>\n",
       "  </tbody>\n",
       "</table>\n",
       "<p>1 rows × 40 columns</p>\n",
       "</div>"
      ],
      "text/plain": [
       "                      adsh     cik       name     sic countryba stprba  \\\n",
       "1934  0000320193-20-000010  320193  APPLE INC  3571.0        US     CA   \n",
       "\n",
       "         cityba  zipba                bas1  bas2  ...               accepted  \\\n",
       "1934  CUPERTINO  95014  ONE APPLE PARK WAY  None  ...  2020-01-28 18:03:00.0   \n",
       "\n",
       "     prevrpt detail                     instance nciks aciks pubfloatusd  \\\n",
       "1934       0      1  a10-qq1202012282019_htm.xml     1  None         NaN   \n",
       "\n",
       "     floatdate floataxis  floatmems  \n",
       "1934       NaN      None        NaN  \n",
       "\n",
       "[1 rows x 40 columns]"
      ]
     },
     "execution_count": 8,
     "metadata": {},
     "output_type": "execute_result"
    }
   ],
   "source": [
    "aapl_sub = sub[(sub.cik.astype(int)==apple.cik)&(sub.form.isin(['10-Q', '10-K']))]\n",
    "aapl_sub"
   ]
  },
  {
   "cell_type": "code",
   "execution_count": 9,
   "id": "5539ecda",
   "metadata": {
    "ExecuteTime": {
     "end_time": "2021-08-18T14:54:52.132540Z",
     "start_time": "2021-08-18T14:54:44.252443Z"
    }
   },
   "outputs": [
    {
     "name": "stderr",
     "output_type": "stream",
     "text": [
      "c:\\users\\ajcltm\\desktop\\python\\pythonproject\\lib\\site-packages\\pandas\\core\\generic.py:5491: SettingWithCopyWarning: \n",
      "A value is trying to be set on a copy of a slice from a DataFrame.\n",
      "Try using .loc[row_indexer,col_indexer] = value instead\n",
      "\n",
      "See the caveats in the documentation: https://pandas.pydata.org/pandas-docs/stable/user_guide/indexing.html#returning-a-view-versus-a-copy\n",
      "  self[name] = value\n"
     ]
    }
   ],
   "source": [
    "num = pd.read_parquet(data_path/'2020_1'/'parquet'/ 'num.parquet')\n",
    "aapl_num = num[num.adsh.isin(aapl_sub.adsh)]\n",
    "aapl_num.ddate = pd.to_datetime(aapl_num.ddate, format='%Y%m%d')\n",
    "aapl_num.to_parquet(data_path / 'aapl_nums.parquet')"
   ]
  },
  {
   "cell_type": "code",
   "execution_count": 16,
   "id": "30d8f276",
   "metadata": {
    "ExecuteTime": {
     "end_time": "2021-08-18T14:58:34.300346Z",
     "start_time": "2021-08-18T14:58:34.255467Z"
    }
   },
   "outputs": [
    {
     "data": {
      "text/html": [
       "<div>\n",
       "<style scoped>\n",
       "    .dataframe tbody tr th:only-of-type {\n",
       "        vertical-align: middle;\n",
       "    }\n",
       "\n",
       "    .dataframe tbody tr th {\n",
       "        vertical-align: top;\n",
       "    }\n",
       "\n",
       "    .dataframe thead th {\n",
       "        text-align: right;\n",
       "    }\n",
       "</style>\n",
       "<table border=\"1\" class=\"dataframe\">\n",
       "  <thead>\n",
       "    <tr style=\"text-align: right;\">\n",
       "      <th></th>\n",
       "      <th></th>\n",
       "      <th>adsh</th>\n",
       "      <th>version</th>\n",
       "      <th>ddate</th>\n",
       "      <th>qtrs</th>\n",
       "      <th>uom</th>\n",
       "      <th>dimh</th>\n",
       "      <th>iprx</th>\n",
       "      <th>value</th>\n",
       "      <th>footnote</th>\n",
       "      <th>footlen</th>\n",
       "      <th>dimn</th>\n",
       "      <th>coreg</th>\n",
       "      <th>durp</th>\n",
       "      <th>datp</th>\n",
       "      <th>dcml</th>\n",
       "    </tr>\n",
       "    <tr>\n",
       "      <th>adsh</th>\n",
       "      <th></th>\n",
       "      <th></th>\n",
       "      <th></th>\n",
       "      <th></th>\n",
       "      <th></th>\n",
       "      <th></th>\n",
       "      <th></th>\n",
       "      <th></th>\n",
       "      <th></th>\n",
       "      <th></th>\n",
       "      <th></th>\n",
       "      <th></th>\n",
       "      <th></th>\n",
       "      <th></th>\n",
       "      <th></th>\n",
       "      <th></th>\n",
       "    </tr>\n",
       "  </thead>\n",
       "  <tbody>\n",
       "    <tr>\n",
       "      <th>0000320193-20-000010</th>\n",
       "      <th>1511138</th>\n",
       "      <td>0000320193-20-000010</td>\n",
       "      <td>us-gaap/2019</td>\n",
       "      <td>2019-12-31</td>\n",
       "      <td>1</td>\n",
       "      <td>USD</td>\n",
       "      <td>0x00000000</td>\n",
       "      <td>0</td>\n",
       "      <td>4.99</td>\n",
       "      <td>None</td>\n",
       "      <td>0</td>\n",
       "      <td>0</td>\n",
       "      <td>None</td>\n",
       "      <td>0.013699</td>\n",
       "      <td>3.0</td>\n",
       "      <td>2</td>\n",
       "    </tr>\n",
       "  </tbody>\n",
       "</table>\n",
       "</div>"
      ],
      "text/plain": [
       "                                              adsh       version      ddate  \\\n",
       "adsh                                                                          \n",
       "0000320193-20-000010 1511138  0000320193-20-000010  us-gaap/2019 2019-12-31   \n",
       "\n",
       "                              qtrs  uom        dimh  iprx  value footnote  \\\n",
       "adsh                                                                        \n",
       "0000320193-20-000010 1511138     1  USD  0x00000000     0   4.99     None   \n",
       "\n",
       "                              footlen  dimn coreg      durp  datp  dcml  \n",
       "adsh                                                                     \n",
       "0000320193-20-000010 1511138        0     0  None  0.013699   3.0     2  "
      ]
     },
     "execution_count": 16,
     "metadata": {},
     "output_type": "execute_result"
    }
   ],
   "source": [
    "eps = aapl_num[(aapl_num.tag == 'EarningsPerShareDiluted')\n",
    "                & (aapl_num.qtrs == 1)].drop('tag', axis=1)\n",
    "eps = eps.groupby('adsh').apply(lambda x: x.nlargest(n=1, columns=['ddate']))\n",
    "eps"
   ]
  }
 ],
 "metadata": {
  "kernelspec": {
   "display_name": "Python 3",
   "language": "python",
   "name": "python3"
  },
  "language_info": {
   "codemirror_mode": {
    "name": "ipython",
    "version": 3
   },
   "file_extension": ".py",
   "mimetype": "text/x-python",
   "name": "python",
   "nbconvert_exporter": "python",
   "pygments_lexer": "ipython3",
   "version": "3.8.6"
  }
 },
 "nbformat": 4,
 "nbformat_minor": 5
}
