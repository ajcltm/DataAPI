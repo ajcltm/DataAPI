{
 "cells": [
  {
   "cell_type": "code",
   "execution_count": 1,
   "id": "4f45865a",
   "metadata": {
    "ExecuteTime": {
     "end_time": "2021-09-26T13:34:44.293813Z",
     "start_time": "2021-09-26T13:34:43.151399Z"
    }
   },
   "outputs": [],
   "source": [
    "import pandas as pd\n",
    "import datetime\n",
    "import matplotlib.pyplot as plt\n",
    "import requests\n",
    "from pathlib import Path"
   ]
  },
  {
   "cell_type": "markdown",
   "id": "2aeb6c53",
   "metadata": {},
   "source": [
    "## Class Bokapi\n",
    "* See queryInfo : Bokapi.queryInfoDf<br>\n",
    "More info : <a href=\"https://ecos.bok.or.kr/jsp/openapi/OpenApiController.jsp?t=guideStatCd&menuGroup=MENU000004&menuCode=MENU000024\"> ECOS Open API</a>\n",
    "* Get data : Bokapi.getData(indicatorIndex, startDate, endDate, periodUnit='default')<br>Type of 'indicatorIndex' is int or list (eg: [code1, code2, code3, code4])"
   ]
  },
  {
   "cell_type": "code",
   "execution_count": 2,
   "id": "578d75d0",
   "metadata": {
    "ExecuteTime": {
     "end_time": "2021-09-26T13:34:44.308781Z",
     "start_time": "2021-09-26T13:34:44.295814Z"
    }
   },
   "outputs": [],
   "source": [
    "class Bokapi :\n",
    "    \n",
    "    def __init__(self, key):\n",
    "        self.key = key\n",
    "        self.start = '1'\n",
    "        self.end = '10000'\n",
    "        self.dataPath = Path.cwd() / 'DataBokAPI'\n",
    "        self.fileName = 'bokApiInfo.parquet'\n",
    "        self.queryInfoDf = pd.read_parquet(self.dataPath / self.fileName)\n",
    "    \n",
    "    def getUrl(self) :\n",
    "        edge_url =  '/'.join(self.codeList[1:])+'/'\n",
    "        url = 'http://ecos.bok.or.kr/api/StatisticSearch/' + self.key + '/json/kr/' + self.start + '/' + self.end + '/' + self.codeList[0] + '/' \\\n",
    "                + self.periodUnit+ '/' + self.startDate + '/' + self.endDate + '/' + edge_url\n",
    "        print(url)\n",
    "        return url\n",
    "    \n",
    "    def setIndex(self, resultDf) :\n",
    "        dateSeries = resultDf.reset_index().loc[:, 'index'].apply(lambda x: x[:-1] + \"Q\" + x[-1:])\n",
    "        dateSeries = dateSeries.apply(lambda x : pd.Period(x, freq='M'))\n",
    "        dateSeries = dateSeries.apply(lambda x : str(x)).tolist()\n",
    "        dateSeries = pd.Series(dateSeries)\n",
    "        dateSeries = pd.to_datetime(dateSeries, format='%Y-%m')\n",
    "        resultDf = resultDf.set_index(dateSeries)\n",
    "        \n",
    "        return resultDf\n",
    "        \n",
    "    def getData(self, indicatorIndex, startDate, endDate, periodUnit='default') :\n",
    "        \n",
    "        # set self.codeList and resultColName\n",
    "        if isinstance(indicatorIndex, int):\n",
    "            series = self.queryInfoDf.iloc[indicatorIndex]\n",
    "            self.codeList = series[['code1', 'code2', 'code3', 'code4']].dropna().tolist()\n",
    "            resultColName=[series['통계지표']+ ' ' +series['단위'].join('()')]\n",
    "            \n",
    "        elif isinstance(indicatorIndex, list):\n",
    "            self.codeList = indicatorIndex\n",
    "            resultColName=[self.codeList[0]]\n",
    "\n",
    "        # set date period for query \n",
    "        self.startDate = startDate\n",
    "        self.endDate = endDate\n",
    "        \n",
    "        # set period_unit\n",
    "        self.periodUnit = periodUnit\n",
    "        if periodUnit=='default':\n",
    "            self.periodUnit= self.queryInfoDf.iloc[indicatorIndex]['frequency1']\n",
    "        \n",
    "        # get url for query\n",
    "        url = self.getUrl()\n",
    "        \n",
    "        # request data\n",
    "        re = requests.get(url)\n",
    "        j = re.json()\n",
    "        data = j['StatisticSearch']['row']\n",
    "\n",
    "        valueList = []\n",
    "        timeList = []\n",
    "\n",
    "        for item in data:\n",
    "            value = item['DATA_VALUE']\n",
    "            time = item['TIME']\n",
    "            valueList.append(value)\n",
    "            timeList.append(time)\n",
    "        \n",
    "        resultDf = pd.DataFrame(valueList, index=timeList, columns=resultColName)\n",
    "        \n",
    "        resultDf = self.setIndex(resultDf)\n",
    "        \n",
    "        return resultDf"
   ]
  },
  {
   "cell_type": "code",
   "execution_count": 3,
   "id": "6de3044d",
   "metadata": {
    "ExecuteTime": {
     "end_time": "2021-09-26T13:34:44.981957Z",
     "start_time": "2021-09-26T13:34:44.903415Z"
    }
   },
   "outputs": [],
   "source": [
    "bok = Bokapi(key='EDWTSFA1RXMHZMM9PQQN')"
   ]
  },
  {
   "cell_type": "markdown",
   "id": "77793f48",
   "metadata": {},
   "source": [
    "### Load 'Bok API info' parquet file"
   ]
  },
  {
   "cell_type": "code",
   "execution_count": 4,
   "id": "9093fa72",
   "metadata": {
    "ExecuteTime": {
     "end_time": "2021-09-26T13:34:45.228047Z",
     "start_time": "2021-09-26T13:34:45.186589Z"
    }
   },
   "outputs": [
    {
     "data": {
      "text/html": [
       "<div>\n",
       "<style scoped>\n",
       "    .dataframe tbody tr th:only-of-type {\n",
       "        vertical-align: middle;\n",
       "    }\n",
       "\n",
       "    .dataframe tbody tr th {\n",
       "        vertical-align: top;\n",
       "    }\n",
       "\n",
       "    .dataframe thead th {\n",
       "        text-align: right;\n",
       "    }\n",
       "</style>\n",
       "<table border=\"1\" class=\"dataframe\">\n",
       "  <thead>\n",
       "    <tr style=\"text-align: right;\">\n",
       "      <th></th>\n",
       "      <th>통계구분</th>\n",
       "      <th>통계지표</th>\n",
       "      <th>시점</th>\n",
       "      <th>원자료</th>\n",
       "      <th>단위</th>\n",
       "      <th>code1</th>\n",
       "      <th>code2</th>\n",
       "      <th>code3</th>\n",
       "      <th>code4</th>\n",
       "      <th>frequency1</th>\n",
       "      <th>frequency2</th>\n",
       "      <th>frequency3</th>\n",
       "    </tr>\n",
       "  </thead>\n",
       "  <tbody>\n",
       "    <tr>\n",
       "      <th>0</th>\n",
       "      <td>국민소득-경기-기업경영</td>\n",
       "      <td>경제성장률(실질, 계절조정 전기대비)</td>\n",
       "      <td>20211</td>\n",
       "      <td>1.6</td>\n",
       "      <td>%</td>\n",
       "      <td>111Y055</td>\n",
       "      <td>10111</td>\n",
       "      <td>None</td>\n",
       "      <td>None</td>\n",
       "      <td>QQ</td>\n",
       "      <td>None</td>\n",
       "      <td>None</td>\n",
       "    </tr>\n",
       "    <tr>\n",
       "      <th>1</th>\n",
       "      <td>국민소득-경기-기업경영</td>\n",
       "      <td>민간소비증감률(실질, 계절조정 전기대비)</td>\n",
       "      <td>20211</td>\n",
       "      <td>1.1</td>\n",
       "      <td>%</td>\n",
       "      <td>111Y055</td>\n",
       "      <td>10122</td>\n",
       "      <td>None</td>\n",
       "      <td>None</td>\n",
       "      <td>QQ</td>\n",
       "      <td>None</td>\n",
       "      <td>None</td>\n",
       "    </tr>\n",
       "    <tr>\n",
       "      <th>2</th>\n",
       "      <td>국민소득-경기-기업경영</td>\n",
       "      <td>설비투자증감률(실질, 계절조정 전기대비)</td>\n",
       "      <td>20211</td>\n",
       "      <td>6.6</td>\n",
       "      <td>%</td>\n",
       "      <td>111Y055</td>\n",
       "      <td>10123</td>\n",
       "      <td>None</td>\n",
       "      <td>None</td>\n",
       "      <td>QQ</td>\n",
       "      <td>None</td>\n",
       "      <td>None</td>\n",
       "    </tr>\n",
       "    <tr>\n",
       "      <th>3</th>\n",
       "      <td>국민소득-경기-기업경영</td>\n",
       "      <td>건설투자증감률(실질, 계절조정 전기대비)</td>\n",
       "      <td>20211</td>\n",
       "      <td>0.4</td>\n",
       "      <td>%</td>\n",
       "      <td>111Y055</td>\n",
       "      <td>10124</td>\n",
       "      <td>None</td>\n",
       "      <td>None</td>\n",
       "      <td>QQ</td>\n",
       "      <td>None</td>\n",
       "      <td>None</td>\n",
       "    </tr>\n",
       "    <tr>\n",
       "      <th>4</th>\n",
       "      <td>국민소득-경기-기업경영</td>\n",
       "      <td>GDP(명목, 계절조정)</td>\n",
       "      <td>20204</td>\n",
       "      <td>490,139.30</td>\n",
       "      <td>십억원</td>\n",
       "      <td>111Y012</td>\n",
       "      <td>1400</td>\n",
       "      <td>None</td>\n",
       "      <td>None</td>\n",
       "      <td>QQ</td>\n",
       "      <td>None</td>\n",
       "      <td>None</td>\n",
       "    </tr>\n",
       "    <tr>\n",
       "      <th>5</th>\n",
       "      <td>국민소득-경기-기업경영</td>\n",
       "      <td>GDP디플레이터</td>\n",
       "      <td>20204</td>\n",
       "      <td>104.416</td>\n",
       "      <td>2015=100</td>\n",
       "      <td>111Y046</td>\n",
       "      <td>1400</td>\n",
       "      <td>None</td>\n",
       "      <td>None</td>\n",
       "      <td>QQ</td>\n",
       "      <td>YY</td>\n",
       "      <td>None</td>\n",
       "    </tr>\n",
       "  </tbody>\n",
       "</table>\n",
       "</div>"
      ],
      "text/plain": [
       "           통계구분                    통계지표     시점         원자료        단위    code1  \\\n",
       "0  국민소득-경기-기업경영    경제성장률(실질, 계절조정 전기대비)  20211         1.6         %  111Y055   \n",
       "1  국민소득-경기-기업경영  민간소비증감률(실질, 계절조정 전기대비)  20211         1.1         %  111Y055   \n",
       "2  국민소득-경기-기업경영  설비투자증감률(실질, 계절조정 전기대비)  20211         6.6         %  111Y055   \n",
       "3  국민소득-경기-기업경영  건설투자증감률(실질, 계절조정 전기대비)  20211         0.4         %  111Y055   \n",
       "4  국민소득-경기-기업경영           GDP(명목, 계절조정)  20204  490,139.30       십억원  111Y012   \n",
       "5  국민소득-경기-기업경영                GDP디플레이터  20204     104.416  2015=100  111Y046   \n",
       "\n",
       "   code2 code3 code4 frequency1 frequency2 frequency3  \n",
       "0  10111  None  None         QQ       None       None  \n",
       "1  10122  None  None         QQ       None       None  \n",
       "2  10123  None  None         QQ       None       None  \n",
       "3  10124  None  None         QQ       None       None  \n",
       "4   1400  None  None         QQ       None       None  \n",
       "5   1400  None  None         QQ         YY       None  "
      ]
     },
     "execution_count": 4,
     "metadata": {},
     "output_type": "execute_result"
    }
   ],
   "source": [
    "bok.queryInfoDf.iloc[0:6]"
   ]
  },
  {
   "cell_type": "code",
   "execution_count": 41,
   "id": "1a3af853",
   "metadata": {
    "ExecuteTime": {
     "end_time": "2021-09-24T15:34:34.227470Z",
     "start_time": "2021-09-24T15:34:34.164726Z"
    }
   },
   "outputs": [
    {
     "name": "stdout",
     "output_type": "stream",
     "text": [
      "http://ecos.bok.or.kr/api/StatisticSearch/EDWTSFA1RXMHZMM9PQQN/json/kr/1/10000/111Y055/QQ/201901/202201/10111/\n"
     ]
    },
    {
     "data": {
      "text/html": [
       "<div>\n",
       "<style scoped>\n",
       "    .dataframe tbody tr th:only-of-type {\n",
       "        vertical-align: middle;\n",
       "    }\n",
       "\n",
       "    .dataframe tbody tr th {\n",
       "        vertical-align: top;\n",
       "    }\n",
       "\n",
       "    .dataframe thead th {\n",
       "        text-align: right;\n",
       "    }\n",
       "</style>\n",
       "<table border=\"1\" class=\"dataframe\">\n",
       "  <thead>\n",
       "    <tr style=\"text-align: right;\">\n",
       "      <th></th>\n",
       "      <th>경제성장률(실질, 계절조정 전기대비) (%)</th>\n",
       "    </tr>\n",
       "  </thead>\n",
       "  <tbody>\n",
       "    <tr>\n",
       "      <th>2019-01-01</th>\n",
       "      <td>-0.2</td>\n",
       "    </tr>\n",
       "    <tr>\n",
       "      <th>2019-04-01</th>\n",
       "      <td>1.0</td>\n",
       "    </tr>\n",
       "    <tr>\n",
       "      <th>2019-07-01</th>\n",
       "      <td>0.4</td>\n",
       "    </tr>\n",
       "    <tr>\n",
       "      <th>2019-10-01</th>\n",
       "      <td>1.3</td>\n",
       "    </tr>\n",
       "    <tr>\n",
       "      <th>2020-01-01</th>\n",
       "      <td>-1.3</td>\n",
       "    </tr>\n",
       "    <tr>\n",
       "      <th>2020-04-01</th>\n",
       "      <td>-3.2</td>\n",
       "    </tr>\n",
       "    <tr>\n",
       "      <th>2020-07-01</th>\n",
       "      <td>2.2</td>\n",
       "    </tr>\n",
       "    <tr>\n",
       "      <th>2020-10-01</th>\n",
       "      <td>1.1</td>\n",
       "    </tr>\n",
       "    <tr>\n",
       "      <th>2021-01-01</th>\n",
       "      <td>1.7</td>\n",
       "    </tr>\n",
       "    <tr>\n",
       "      <th>2021-04-01</th>\n",
       "      <td>0.8</td>\n",
       "    </tr>\n",
       "  </tbody>\n",
       "</table>\n",
       "</div>"
      ],
      "text/plain": [
       "            경제성장률(실질, 계절조정 전기대비) (%)\n",
       "2019-01-01                      -0.2\n",
       "2019-04-01                       1.0\n",
       "2019-07-01                       0.4\n",
       "2019-10-01                       1.3\n",
       "2020-01-01                      -1.3\n",
       "2020-04-01                      -3.2\n",
       "2020-07-01                       2.2\n",
       "2020-10-01                       1.1\n",
       "2021-01-01                       1.7\n",
       "2021-04-01                       0.8"
      ]
     },
     "execution_count": 41,
     "metadata": {},
     "output_type": "execute_result"
    }
   ],
   "source": [
    "startDate = '201901'\n",
    "endDate = '202201'\n",
    "returnDf = bok.getData(0, startDate, endDate, periodUnit= 'QQ')\n",
    "returnDf.iloc[:,0] = returnDf.iloc[:,0].astype('float')\n",
    "returnDf"
   ]
  },
  {
   "cell_type": "code",
   "execution_count": 8,
   "id": "bf0b5f4b",
   "metadata": {
    "ExecuteTime": {
     "end_time": "2021-09-26T13:37:09.593721Z",
     "start_time": "2021-09-26T13:37:09.472943Z"
    }
   },
   "outputs": [
    {
     "name": "stdout",
     "output_type": "stream",
     "text": [
      "http://ecos.bok.or.kr/api/StatisticSearch/EDWTSFA1RXMHZMM9PQQN/json/kr/1/10000/111Y017/QQ/201901/202201/10101/\n"
     ]
    },
    {
     "data": {
      "text/plain": [
       "DatetimeIndex(['2019-01-01', '2019-04-01', '2019-07-01', '2019-10-01',\n",
       "               '2020-01-01', '2020-04-01', '2020-07-01', '2020-10-01',\n",
       "               '2021-01-01', '2021-04-01'],\n",
       "              dtype='datetime64[ns]', freq=None)"
      ]
     },
     "execution_count": 8,
     "metadata": {},
     "output_type": "execute_result"
    }
   ],
   "source": [
    "startDate = '201901'\n",
    "endDate = '202201'\n",
    "returnDf = bok.getData(['111Y017', '10101'], startDate, endDate, periodUnit= 'QQ')\n",
    "returnDf.iloc[:,0] = returnDf.iloc[:,0].astype('float')\n",
    "returnDf.index"
   ]
  }
 ],
 "metadata": {
  "kernelspec": {
   "display_name": "Python 3",
   "language": "python",
   "name": "python3"
  },
  "language_info": {
   "codemirror_mode": {
    "name": "ipython",
    "version": 3
   },
   "file_extension": ".py",
   "mimetype": "text/x-python",
   "name": "python",
   "nbconvert_exporter": "python",
   "pygments_lexer": "ipython3",
   "version": "3.8.6"
  }
 },
 "nbformat": 4,
 "nbformat_minor": 5
}
