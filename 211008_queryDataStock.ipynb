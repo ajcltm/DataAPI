{
 "cells": [
  {
   "cell_type": "code",
   "execution_count": 1,
   "metadata": {},
   "outputs": [],
   "source": [
    "from pathlib import Path\n",
    "import re\n",
    "import pandas as pd\n",
    "from datetime import datetime, timedelta\n",
    "import sqlite3\n",
    "import QueryStockDataDB\n",
    "import stockdata"
   ]
  },
  {
   "cell_type": "code",
   "execution_count": 2,
   "metadata": {},
   "outputs": [
    {
     "data": {
      "text/plain": [
       "WindowsPath('c:/Users/ajcltm/PycharmProjects/DataAPI/DataStock')"
      ]
     },
     "execution_count": 2,
     "metadata": {},
     "output_type": "execute_result"
    }
   ],
   "source": [
    "# Set Path\n",
    "folderPath = Path.cwd() / 'DataStock'\n",
    "folderPath"
   ]
  },
  {
   "cell_type": "code",
   "execution_count": 8,
   "metadata": {},
   "outputs": [
    {
     "name": "stderr",
     "output_type": "stream",
     "text": [
      "100%|██████████| 939/939 [09:10<00:00,  1.71it/s]\n",
      "100%|██████████| 8450/8450 [01:17<00:00, 109.39it/s]\n"
     ]
    }
   ],
   "source": [
    "sd = stockdata.StockData(folderPath)\n",
    "# sd.createDb(kind='stockList', start='20100101', end='20100215')\n",
    "# sd.upgradeDb('stockList')\n",
    "# sd.createDb(kind='stockPrice', start='20100101', end='20100215')\n",
    "# sd.upgradeDb('stockPrice')\n",
    "\n",
    "# sd.createDb(kind='nOfShares', start='20100101', end='20100228')\n",
    "sd.upgradeDb('nOfShares')"
   ]
  },
  {
   "cell_type": "code",
   "execution_count": 9,
   "metadata": {},
   "outputs": [],
   "source": [
    "query = QueryStockDataDB.QueryStockData(folderPath)"
   ]
  },
  {
   "cell_type": "code",
   "execution_count": 19,
   "metadata": {},
   "outputs": [],
   "source": [
    "df = query.queryStockNumberOfSharesDB(by='parquet')"
   ]
  },
  {
   "cell_type": "code",
   "execution_count": 31,
   "metadata": {},
   "outputs": [
    {
     "data": {
      "text/plain": [
       "939"
      ]
     },
     "execution_count": 31,
     "metadata": {},
     "output_type": "execute_result"
    }
   ],
   "source": [
    "con = df.loc[:,'date'] == datetime(2021,10,22)\n",
    "len(df.loc[con])"
   ]
  }
 ],
 "metadata": {
  "interpreter": {
   "hash": "402f732f45210a8f3cf204d18ac474bcfde6f1d7d558ffc6d28a7b91f39123e2"
  },
  "kernelspec": {
   "display_name": "Python 3.8.6 64-bit ('pythonProject': venv)",
   "name": "python3"
  },
  "language_info": {
   "codemirror_mode": {
    "name": "ipython",
    "version": 3
   },
   "file_extension": ".py",
   "mimetype": "text/x-python",
   "name": "python",
   "nbconvert_exporter": "python",
   "pygments_lexer": "ipython3",
   "version": "3.8.6"
  },
  "orig_nbformat": 4
 },
 "nbformat": 4,
 "nbformat_minor": 2
}
