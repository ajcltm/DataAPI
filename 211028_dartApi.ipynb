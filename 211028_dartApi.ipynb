{
 "cells": [
  {
   "cell_type": "code",
   "execution_count": 1,
   "metadata": {},
   "outputs": [],
   "source": [
    "from pathlib import Path\n",
    "from tqdm import tqdm\n",
    "import re\n",
    "import pandas as pd\n",
    "from datetime import datetime, timedelta\n",
    "import sqlite3\n",
    "import QueryStockDataDB\n",
    "import stockdata\n",
    "import OpenDartReader\n",
    "from pykrx import stock\n",
    "\n",
    "import re\n",
    "\n",
    "import requests"
   ]
  },
  {
   "cell_type": "code",
   "execution_count": 37,
   "metadata": {},
   "outputs": [
    {
     "name": "stderr",
     "output_type": "stream",
     "text": [
      "100%|██████████| 1023/1023 [00:05<00:00, 197.62it/s]\n"
     ]
    }
   ],
   "source": [
    "folderPath = Path.home().joinpath('Desktop','dataBackUp(211027)')\n",
    "stockN = pd.read_parquet(folderPath/'stockNumberOfSharesDB.parquet')\n",
    "con = stockN.loc[:,'kindOfStock'] == 'commonStock'\n",
    "names = stockN.loc[con, 'name'].unique().tolist()\n",
    "\n",
    "corp_codes = []\n",
    "fail_corp_codes = [] \n",
    "for name in tqdm(names) :\n",
    "    try:\n",
    "        corp_code = dart.find_corp_code(name)\n",
    "        corp_codes.append(corp_code)\n",
    "    except :\n",
    "        fail_corp_codes.append(corp_code)"
   ]
  },
  {
   "cell_type": "code",
   "execution_count": 46,
   "metadata": {},
   "outputs": [],
   "source": [
    "name_code_df = pd.DataFrame(\n",
    "    {   'names' : names,\n",
    "        'corp_codes' : corp_codes\n",
    "        }\n",
    "        )"
   ]
  },
  {
   "cell_type": "code",
   "execution_count": 53,
   "metadata": {},
   "outputs": [
    {
     "data": {
      "text/html": [
       "<div>\n",
       "<style scoped>\n",
       "    .dataframe tbody tr th:only-of-type {\n",
       "        vertical-align: middle;\n",
       "    }\n",
       "\n",
       "    .dataframe tbody tr th {\n",
       "        vertical-align: top;\n",
       "    }\n",
       "\n",
       "    .dataframe thead th {\n",
       "        text-align: right;\n",
       "    }\n",
       "</style>\n",
       "<table border=\"1\" class=\"dataframe\">\n",
       "  <thead>\n",
       "    <tr style=\"text-align: right;\">\n",
       "      <th></th>\n",
       "      <th>names</th>\n",
       "      <th>corp_codes</th>\n",
       "    </tr>\n",
       "  </thead>\n",
       "  <tbody>\n",
       "    <tr>\n",
       "      <th>357</th>\n",
       "      <td>SG충남방적우</td>\n",
       "      <td>None</td>\n",
       "    </tr>\n",
       "    <tr>\n",
       "      <th>93</th>\n",
       "      <td>아시아7호</td>\n",
       "      <td>None</td>\n",
       "    </tr>\n",
       "    <tr>\n",
       "      <th>79</th>\n",
       "      <td>아시아4호</td>\n",
       "      <td>None</td>\n",
       "    </tr>\n",
       "    <tr>\n",
       "      <th>344</th>\n",
       "      <td>한국아태특별</td>\n",
       "      <td>None</td>\n",
       "    </tr>\n",
       "    <tr>\n",
       "      <th>850</th>\n",
       "      <td>트러스제7호</td>\n",
       "      <td>None</td>\n",
       "    </tr>\n",
       "    <tr>\n",
       "      <th>376</th>\n",
       "      <td>지비베트남1</td>\n",
       "      <td>None</td>\n",
       "    </tr>\n",
       "    <tr>\n",
       "      <th>570</th>\n",
       "      <td>전기초자</td>\n",
       "      <td>None</td>\n",
       "    </tr>\n",
       "    <tr>\n",
       "      <th>536</th>\n",
       "      <td>한신기계</td>\n",
       "      <td>None</td>\n",
       "    </tr>\n",
       "    <tr>\n",
       "      <th>505</th>\n",
       "      <td>한국프랜지</td>\n",
       "      <td>None</td>\n",
       "    </tr>\n",
       "    <tr>\n",
       "      <th>293</th>\n",
       "      <td>코크렙8호</td>\n",
       "      <td>None</td>\n",
       "    </tr>\n",
       "  </tbody>\n",
       "</table>\n",
       "</div>"
      ],
      "text/plain": [
       "       names corp_codes\n",
       "357  SG충남방적우       None\n",
       "93     아시아7호       None\n",
       "79     아시아4호       None\n",
       "344   한국아태특별       None\n",
       "850   트러스제7호       None\n",
       "376   지비베트남1       None\n",
       "570     전기초자       None\n",
       "536     한신기계       None\n",
       "505    한국프랜지       None\n",
       "293    코크렙8호       None"
      ]
     },
     "execution_count": 53,
     "metadata": {},
     "output_type": "execute_result"
    }
   ],
   "source": [
    "con = name_code_df.loc[:, 'corp_codes'].isnull()\n",
    "name_code_df.loc[con].sample(10)"
   ]
  },
  {
   "cell_type": "code",
   "execution_count": 48,
   "metadata": {},
   "outputs": [
    {
     "data": {
      "text/html": [
       "<div>\n",
       "<style scoped>\n",
       "    .dataframe tbody tr th:only-of-type {\n",
       "        vertical-align: middle;\n",
       "    }\n",
       "\n",
       "    .dataframe tbody tr th {\n",
       "        vertical-align: top;\n",
       "    }\n",
       "\n",
       "    .dataframe thead th {\n",
       "        text-align: right;\n",
       "    }\n",
       "</style>\n",
       "<table border=\"1\" class=\"dataframe\">\n",
       "  <thead>\n",
       "    <tr style=\"text-align: right;\">\n",
       "      <th></th>\n",
       "      <th>names</th>\n",
       "      <th>corp_codes</th>\n",
       "    </tr>\n",
       "  </thead>\n",
       "  <tbody>\n",
       "    <tr>\n",
       "      <th>7</th>\n",
       "      <td>현대리바트</td>\n",
       "      <td>00164803</td>\n",
       "    </tr>\n",
       "  </tbody>\n",
       "</table>\n",
       "</div>"
      ],
      "text/plain": [
       "   names corp_codes\n",
       "7  현대리바트   00164803"
      ]
     },
     "execution_count": 48,
     "metadata": {},
     "output_type": "execute_result"
    }
   ],
   "source": [
    "con = name_code_df.loc[:,'corp_codes'] == '00164803'\n",
    "name_code_df.loc[con]"
   ]
  },
  {
   "cell_type": "code",
   "execution_count": 4,
   "metadata": {},
   "outputs": [],
   "source": [
    "def checkOrder(current_m, before_m):\n",
    "    dic = {'03':'12', '06':'03', '09':'06', '12':'09'}\n",
    "\n",
    "    if dic[current_m] == before_m:\n",
    "        return 'correct'\n",
    "    else :\n",
    "        return 'wrong'"
   ]
  },
  {
   "cell_type": "code",
   "execution_count": 5,
   "metadata": {},
   "outputs": [],
   "source": [
    "api_key = '92c176817e681dcc4ad263eb3fa5182792b0b7a3'\n",
    "dart = OpenDartReader(api_key)"
   ]
  },
  {
   "cell_type": "code",
   "execution_count": null,
   "metadata": {},
   "outputs": [],
   "source": []
  },
  {
   "cell_type": "code",
   "execution_count": 40,
   "metadata": {},
   "outputs": [
    {
     "name": "stderr",
     "output_type": "stream",
     "text": [
      "100%|██████████| 1023/1023 [00:04<00:00, 219.33it/s]\n",
      "  0%|          | 4/1023 [00:00<01:51,  9.14it/s]"
     ]
    },
    {
     "name": "stdout",
     "output_type": "stream",
     "text": [
      "{\"status\":\"100\",\"message\":\"corp_code가 없는 경우 검색기간은 3개월만 가능합니다.\"}\n"
     ]
    },
    {
     "name": "stderr",
     "output_type": "stream",
     "text": [
      "  1%|          | 10/1023 [00:00<01:33, 10.84it/s]"
     ]
    },
    {
     "name": "stdout",
     "output_type": "stream",
     "text": [
      "{\"status\":\"013\",\"message\":\"조회된 데이타가 없습니다.\"}\n",
      "{\"status\":\"100\",\"message\":\"corp_code가 없는 경우 검색기간은 3개월만 가능합니다.\"}\n"
     ]
    },
    {
     "name": "stderr",
     "output_type": "stream",
     "text": [
      "  1%|▏         | 14/1023 [00:01<01:22, 12.19it/s]"
     ]
    },
    {
     "name": "stdout",
     "output_type": "stream",
     "text": [
      "{\"status\":\"100\",\"message\":\"corp_code가 없는 경우 검색기간은 3개월만 가능합니다.\"}\n",
      "{\"status\":\"013\",\"message\":\"조회된 데이타가 없습니다.\"}\n",
      "{\"status\":\"100\",\"message\":\"corp_code가 없는 경우 검색기간은 3개월만 가능합니다.\"}\n",
      "{\"status\":\"100\",\"message\":\"corp_code가 없는 경우 검색기간은 3개월만 가능합니다.\"}\n"
     ]
    },
    {
     "name": "stderr",
     "output_type": "stream",
     "text": [
      "  2%|▏         | 18/1023 [00:01<01:18, 12.82it/s]"
     ]
    },
    {
     "name": "stdout",
     "output_type": "stream",
     "text": [
      "{\"status\":\"100\",\"message\":\"corp_code가 없는 경우 검색기간은 3개월만 가능합니다.\"}\n",
      "{\"status\":\"100\",\"message\":\"corp_code가 없는 경우 검색기간은 3개월만 가능합니다.\"}\n"
     ]
    },
    {
     "name": "stderr",
     "output_type": "stream",
     "text": [
      "  2%|▏         | 22/1023 [00:01<01:18, 12.80it/s]"
     ]
    },
    {
     "name": "stdout",
     "output_type": "stream",
     "text": [
      "{\"status\":\"100\",\"message\":\"corp_code가 없는 경우 검색기간은 3개월만 가능합니다.\"}\n"
     ]
    },
    {
     "name": "stderr",
     "output_type": "stream",
     "text": [
      "  2%|▏         | 24/1023 [00:02<01:21, 12.27it/s]"
     ]
    },
    {
     "name": "stdout",
     "output_type": "stream",
     "text": [
      "{\"status\":\"013\",\"message\":\"조회된 데이타가 없습니다.\"}\n",
      "{\"status\":\"013\",\"message\":\"조회된 데이타가 없습니다.\"}\n"
     ]
    },
    {
     "name": "stderr",
     "output_type": "stream",
     "text": [
      "  3%|▎         | 32/1023 [00:02<01:30, 10.99it/s]"
     ]
    },
    {
     "name": "stdout",
     "output_type": "stream",
     "text": [
      "{\"status\":\"100\",\"message\":\"corp_code가 없는 경우 검색기간은 3개월만 가능합니다.\"}\n"
     ]
    },
    {
     "name": "stderr",
     "output_type": "stream",
     "text": [
      "  4%|▍         | 40/1023 [00:03<01:29, 10.97it/s]"
     ]
    },
    {
     "name": "stdout",
     "output_type": "stream",
     "text": [
      "{\"status\":\"013\",\"message\":\"조회된 데이타가 없습니다.\"}\n"
     ]
    },
    {
     "name": "stderr",
     "output_type": "stream",
     "text": [
      "  5%|▍         | 50/1023 [00:04<01:16, 12.71it/s]"
     ]
    },
    {
     "name": "stdout",
     "output_type": "stream",
     "text": [
      "{\"status\":\"100\",\"message\":\"corp_code가 없는 경우 검색기간은 3개월만 가능합니다.\"}\n",
      "{\"status\":\"100\",\"message\":\"corp_code가 없는 경우 검색기간은 3개월만 가능합니다.\"}\n",
      "{\"status\":\"100\",\"message\":\"corp_code가 없는 경우 검색기간은 3개월만 가능합니다.\"}\n",
      "{\"status\":\"013\",\"message\":\"조회된 데이타가 없습니다.\"}\n"
     ]
    },
    {
     "name": "stderr",
     "output_type": "stream",
     "text": [
      "  5%|▌         | 54/1023 [00:04<01:11, 13.55it/s]"
     ]
    },
    {
     "name": "stdout",
     "output_type": "stream",
     "text": [
      "{\"status\":\"100\",\"message\":\"corp_code가 없는 경우 검색기간은 3개월만 가능합니다.\"}\n",
      "{\"status\":\"013\",\"message\":\"조회된 데이타가 없습니다.\"}\n"
     ]
    },
    {
     "name": "stderr",
     "output_type": "stream",
     "text": [
      "  5%|▌         | 56/1023 [00:04<01:11, 13.51it/s]"
     ]
    },
    {
     "name": "stdout",
     "output_type": "stream",
     "text": [
      "{\"status\":\"100\",\"message\":\"corp_code가 없는 경우 검색기간은 3개월만 가능합니다.\"}\n"
     ]
    },
    {
     "name": "stderr",
     "output_type": "stream",
     "text": [
      "  6%|▌         | 60/1023 [00:05<01:16, 12.62it/s]"
     ]
    },
    {
     "name": "stdout",
     "output_type": "stream",
     "text": [
      "{\"status\":\"100\",\"message\":\"corp_code가 없는 경우 검색기간은 3개월만 가능합니다.\"}\n",
      "{\"status\":\"100\",\"message\":\"corp_code가 없는 경우 검색기간은 3개월만 가능합니다.\"}\n"
     ]
    },
    {
     "name": "stderr",
     "output_type": "stream",
     "text": [
      "  6%|▋         | 64/1023 [00:05<01:11, 13.40it/s]"
     ]
    },
    {
     "name": "stdout",
     "output_type": "stream",
     "text": [
      "{\"status\":\"013\",\"message\":\"조회된 데이타가 없습니다.\"}\n",
      "{\"status\":\"100\",\"message\":\"corp_code가 없는 경우 검색기간은 3개월만 가능합니다.\"}\n",
      "{\"status\":\"100\",\"message\":\"corp_code가 없는 경우 검색기간은 3개월만 가능합니다.\"}\n"
     ]
    },
    {
     "name": "stderr",
     "output_type": "stream",
     "text": [
      "  7%|▋         | 68/1023 [00:05<01:06, 14.32it/s]"
     ]
    },
    {
     "name": "stdout",
     "output_type": "stream",
     "text": [
      "{\"status\":\"100\",\"message\":\"corp_code가 없는 경우 검색기간은 3개월만 가능합니다.\"}\n",
      "{\"status\":\"100\",\"message\":\"corp_code가 없는 경우 검색기간은 3개월만 가능합니다.\"}\n"
     ]
    },
    {
     "name": "stderr",
     "output_type": "stream",
     "text": [
      "  7%|▋         | 72/1023 [00:06<01:10, 13.51it/s]"
     ]
    },
    {
     "name": "stdout",
     "output_type": "stream",
     "text": [
      "{\"status\":\"100\",\"message\":\"corp_code가 없는 경우 검색기간은 3개월만 가능합니다.\"}\n",
      "{\"status\":\"100\",\"message\":\"corp_code가 없는 경우 검색기간은 3개월만 가능합니다.\"}\n"
     ]
    },
    {
     "name": "stderr",
     "output_type": "stream",
     "text": [
      "  8%|▊         | 78/1023 [00:06<01:10, 13.49it/s]"
     ]
    },
    {
     "name": "stdout",
     "output_type": "stream",
     "text": [
      "{\"status\":\"100\",\"message\":\"corp_code가 없는 경우 검색기간은 3개월만 가능합니다.\"}\n",
      "{\"status\":\"100\",\"message\":\"corp_code가 없는 경우 검색기간은 3개월만 가능합니다.\"}\n"
     ]
    },
    {
     "name": "stderr",
     "output_type": "stream",
     "text": [
      "  8%|▊         | 82/1023 [00:06<01:11, 13.22it/s]"
     ]
    },
    {
     "name": "stdout",
     "output_type": "stream",
     "text": [
      "{\"status\":\"100\",\"message\":\"corp_code가 없는 경우 검색기간은 3개월만 가능합니다.\"}\n",
      "{\"status\":\"100\",\"message\":\"corp_code가 없는 경우 검색기간은 3개월만 가능합니다.\"}\n"
     ]
    },
    {
     "name": "stderr",
     "output_type": "stream",
     "text": [
      "  8%|▊         | 84/1023 [00:06<01:10, 13.33it/s]"
     ]
    },
    {
     "name": "stdout",
     "output_type": "stream",
     "text": [
      "{\"status\":\"013\",\"message\":\"조회된 데이타가 없습니다.\"}\n"
     ]
    },
    {
     "name": "stderr",
     "output_type": "stream",
     "text": [
      "  9%|▊         | 88/1023 [00:07<01:14, 12.61it/s]"
     ]
    },
    {
     "name": "stdout",
     "output_type": "stream",
     "text": [
      "{\"status\":\"100\",\"message\":\"corp_code가 없는 경우 검색기간은 3개월만 가능합니다.\"}\n",
      "{\"status\":\"013\",\"message\":\"조회된 데이타가 없습니다.\"}\n",
      "{\"status\":\"100\",\"message\":\"corp_code가 없는 경우 검색기간은 3개월만 가능합니다.\"}\n",
      "{\"status\":\"100\",\"message\":\"corp_code가 없는 경우 검색기간은 3개월만 가능합니다.\"}"
     ]
    },
    {
     "name": "stderr",
     "output_type": "stream",
     "text": [
      "  9%|▉         | 92/1023 [00:07<01:10, 13.22it/s]"
     ]
    },
    {
     "name": "stdout",
     "output_type": "stream",
     "text": [
      "\n",
      "{\"status\":\"100\",\"message\":\"corp_code가 없는 경우 검색기간은 3개월만 가능합니다.\"}\n"
     ]
    },
    {
     "name": "stderr",
     "output_type": "stream",
     "text": [
      "  9%|▉         | 96/1023 [00:07<01:14, 12.39it/s]"
     ]
    },
    {
     "name": "stdout",
     "output_type": "stream",
     "text": [
      "{\"status\":\"100\",\"message\":\"corp_code가 없는 경우 검색기간은 3개월만 가능합니다.\"}\n"
     ]
    },
    {
     "name": "stderr",
     "output_type": "stream",
     "text": [
      " 10%|▉         | 100/1023 [00:08<01:05, 14.18it/s]"
     ]
    },
    {
     "name": "stdout",
     "output_type": "stream",
     "text": [
      "{\"status\":\"013\",\"message\":\"조회된 데이타가 없습니다.\"}\n",
      "{\"status\":\"100\",\"message\":\"corp_code가 없는 경우 검색기간은 3개월만 가능합니다.\"}\n",
      "{\"status\":\"100\",\"message\":\"corp_code가 없는 경우 검색기간은 3개월만 가능합니다.\"}\n",
      "{\"status\":\"100\",\"message\":\"corp_code가 없는 경우 검색기간은 3개월만 가능합니다.\"}\n"
     ]
    },
    {
     "name": "stderr",
     "output_type": "stream",
     "text": [
      " 11%|█         | 108/1023 [00:08<01:14, 12.23it/s]"
     ]
    },
    {
     "name": "stdout",
     "output_type": "stream",
     "text": [
      "{\"status\":\"100\",\"message\":\"corp_code가 없는 경우 검색기간은 3개월만 가능합니다.\"}\n"
     ]
    },
    {
     "name": "stderr",
     "output_type": "stream",
     "text": [
      " 12%|█▏        | 118/1023 [00:09<01:13, 12.25it/s]"
     ]
    },
    {
     "name": "stdout",
     "output_type": "stream",
     "text": [
      "{\"status\":\"013\",\"message\":\"조회된 데이타가 없습니다.\"}\n",
      "{\"status\":\"013\",\"message\":\"조회된 데이타가 없습니다.\"}\n",
      "{\"status\":\"100\",\"message\":\"corp_code가 없는 경우 검색기간은 3개월만 가능합니다.\"}\n"
     ]
    },
    {
     "name": "stderr",
     "output_type": "stream",
     "text": [
      " 12%|█▏        | 124/1023 [00:10<01:14, 12.07it/s]"
     ]
    },
    {
     "name": "stdout",
     "output_type": "stream",
     "text": [
      "{\"status\":\"013\",\"message\":\"조회된 데이타가 없습니다.\"}\n",
      "{\"status\":\"100\",\"message\":\"corp_code가 없는 경우 검색기간은 3개월만 가능합니다.\"}\n"
     ]
    },
    {
     "name": "stderr",
     "output_type": "stream",
     "text": [
      " 13%|█▎        | 128/1023 [00:10<01:10, 12.78it/s]"
     ]
    },
    {
     "name": "stdout",
     "output_type": "stream",
     "text": [
      "{\"status\":\"100\",\"message\":\"corp_code가 없는 경우 검색기간은 3개월만 가능합니다.\"}\n",
      "{\"status\":\"013\",\"message\":\"조회된 데이타가 없습니다.\"}\n"
     ]
    },
    {
     "name": "stderr",
     "output_type": "stream",
     "text": [
      " 13%|█▎        | 136/1023 [00:11<01:19, 11.16it/s]"
     ]
    },
    {
     "name": "stdout",
     "output_type": "stream",
     "text": [
      "{\"status\":\"100\",\"message\":\"corp_code가 없는 경우 검색기간은 3개월만 가능합니다.\"}\n",
      "{\"status\":\"100\",\"message\":\"corp_code가 없는 경우 검색기간은 3개월만 가능합니다.\"}\n"
     ]
    },
    {
     "name": "stderr",
     "output_type": "stream",
     "text": [
      " 13%|█▎        | 138/1023 [00:11<01:19, 11.13it/s]"
     ]
    },
    {
     "name": "stdout",
     "output_type": "stream",
     "text": [
      "{\"status\":\"013\",\"message\":\"조회된 데이타가 없습니다.\"}\n"
     ]
    },
    {
     "name": "stderr",
     "output_type": "stream",
     "text": [
      " 14%|█▍        | 144/1023 [00:12<01:13, 12.04it/s]"
     ]
    },
    {
     "name": "stdout",
     "output_type": "stream",
     "text": [
      "{\"status\":\"013\",\"message\":\"조회된 데이타가 없습니다.\"}\n",
      "{\"status\":\"100\",\"message\":\"corp_code가 없는 경우 검색기간은 3개월만 가능합니다.\"}\n"
     ]
    },
    {
     "name": "stderr",
     "output_type": "stream",
     "text": [
      " 14%|█▍        | 148/1023 [00:12<01:15, 11.52it/s]"
     ]
    },
    {
     "name": "stdout",
     "output_type": "stream",
     "text": [
      "{\"status\":\"013\",\"message\":\"조회된 데이타가 없습니다.\"}\n"
     ]
    },
    {
     "name": "stderr",
     "output_type": "stream",
     "text": [
      " 15%|█▍        | 152/1023 [00:12<01:15, 11.55it/s]"
     ]
    },
    {
     "name": "stdout",
     "output_type": "stream",
     "text": [
      "{\"status\":\"013\",\"message\":\"조회된 데이타가 없습니다.\"}\n"
     ]
    },
    {
     "name": "stderr",
     "output_type": "stream",
     "text": [
      " 16%|█▌        | 160/1023 [00:13<01:07, 12.76it/s]"
     ]
    },
    {
     "name": "stdout",
     "output_type": "stream",
     "text": [
      "{\"status\":\"100\",\"message\":\"corp_code가 없는 경우 검색기간은 3개월만 가능합니다.\"}\n",
      "{\"status\":\"100\",\"message\":\"corp_code가 없는 경우 검색기간은 3개월만 가능합니다.\"}\n",
      "{\"status\":\"100\",\"message\":\"corp_code가 없는 경우 검색기간은 3개월만 가능합니다.\"}\n",
      "{\"status\":\"100\",\"message\":\"corp_code가 없는 경우 검색기간은 3개월만 가능합니다.\"}\n"
     ]
    },
    {
     "name": "stderr",
     "output_type": "stream",
     "text": [
      " 16%|█▌        | 164/1023 [00:13<01:03, 13.55it/s]"
     ]
    },
    {
     "name": "stdout",
     "output_type": "stream",
     "text": [
      "{\"status\":\"100\",\"message\":\"corp_code가 없는 경우 검색기간은 3개월만 가능합니다.\"}\n",
      "{\"status\":\"100\",\"message\":\"corp_code가 없는 경우 검색기간은 3개월만 가능합니다.\"}\n",
      "{\"status\":\"100\",\"message\":\"corp_code가 없는 경우 검색기간은 3개월만 가능합니다.\"}\n"
     ]
    },
    {
     "name": "stderr",
     "output_type": "stream",
     "text": [
      " 18%|█▊        | 180/1023 [00:14<01:05, 12.96it/s]"
     ]
    },
    {
     "name": "stdout",
     "output_type": "stream",
     "text": [
      "{\"status\":\"100\",\"message\":\"corp_code가 없는 경우 검색기간은 3개월만 가능합니다.\"}\n",
      "{\"status\":\"100\",\"message\":\"corp_code가 없는 경우 검색기간은 3개월만 가능합니다.\"}\n"
     ]
    },
    {
     "name": "stderr",
     "output_type": "stream",
     "text": [
      " 18%|█▊        | 186/1023 [00:15<01:06, 12.51it/s]"
     ]
    },
    {
     "name": "stdout",
     "output_type": "stream",
     "text": [
      "{\"status\":\"100\",\"message\":\"corp_code가 없는 경우 검색기간은 3개월만 가능합니다.\"}\n",
      "{\"status\":\"013\",\"message\":\"조회된 데이타가 없습니다.\"}\n",
      "{\"status\":\"100\",\"message\":\"corp_code가 없는 경우 검색기간은 3개월만 가능합니다.\"}\n"
     ]
    },
    {
     "name": "stderr",
     "output_type": "stream",
     "text": [
      " 19%|█▉        | 194/1023 [00:16<01:20, 10.36it/s]"
     ]
    },
    {
     "name": "stdout",
     "output_type": "stream",
     "text": [
      "{\"status\":\"013\",\"message\":\"조회된 데이타가 없습니다.\"}\n"
     ]
    },
    {
     "name": "stderr",
     "output_type": "stream",
     "text": [
      " 20%|██        | 206/1023 [00:17<01:18, 10.47it/s]"
     ]
    },
    {
     "name": "stdout",
     "output_type": "stream",
     "text": [
      "{\"status\":\"013\",\"message\":\"조회된 데이타가 없습니다.\"}\n"
     ]
    },
    {
     "name": "stderr",
     "output_type": "stream",
     "text": [
      " 21%|██        | 210/1023 [00:17<01:05, 12.36it/s]"
     ]
    },
    {
     "name": "stdout",
     "output_type": "stream",
     "text": [
      "{\"status\":\"100\",\"message\":\"corp_code가 없는 경우 검색기간은 3개월만 가능합니다.\"}\n",
      "{\"status\":\"100\",\"message\":\"corp_code가 없는 경우 검색기간은 3개월만 가능합니다.\"}\n"
     ]
    },
    {
     "name": "stderr",
     "output_type": "stream",
     "text": [
      " 21%|██▏       | 218/1023 [00:18<01:09, 11.61it/s]"
     ]
    },
    {
     "name": "stdout",
     "output_type": "stream",
     "text": [
      "{\"status\":\"100\",\"message\":\"corp_code가 없는 경우 검색기간은 3개월만 가능합니다.\"}\n",
      "{\"status\":\"013\",\"message\":\"조회된 데이타가 없습니다.\"}\n"
     ]
    },
    {
     "name": "stderr",
     "output_type": "stream",
     "text": [
      " 22%|██▏       | 220/1023 [00:19<02:10,  6.17it/s]"
     ]
    },
    {
     "name": "stdout",
     "output_type": "stream",
     "text": [
      "{\"status\":\"100\",\"message\":\"corp_code가 없는 경우 검색기간은 3개월만 가능합니다.\"}\n"
     ]
    },
    {
     "name": "stderr",
     "output_type": "stream",
     "text": [
      " 22%|██▏       | 221/1023 [00:19<02:53,  4.62it/s]"
     ]
    },
    {
     "name": "stdout",
     "output_type": "stream",
     "text": [
      "{\"status\":\"100\",\"message\":\"corp_code가 없는 경우 검색기간은 3개월만 가능합니다.\"}\n"
     ]
    },
    {
     "name": "stderr",
     "output_type": "stream",
     "text": [
      " 22%|██▏       | 222/1023 [00:19<03:06,  4.29it/s]"
     ]
    },
    {
     "name": "stdout",
     "output_type": "stream",
     "text": [
      "{\"status\":\"013\",\"message\":\"조회된 데이타가 없습니다.\"}\n"
     ]
    },
    {
     "name": "stderr",
     "output_type": "stream",
     "text": [
      " 22%|██▏       | 225/1023 [00:20<02:31,  5.26it/s]"
     ]
    },
    {
     "name": "stdout",
     "output_type": "stream",
     "text": [
      "{\"status\":\"100\",\"message\":\"corp_code가 없는 경우 검색기간은 3개월만 가능합니다.\"}\n"
     ]
    },
    {
     "name": "stderr",
     "output_type": "stream",
     "text": [
      " 22%|██▏       | 228/1023 [00:20<01:56,  6.84it/s]"
     ]
    },
    {
     "name": "stdout",
     "output_type": "stream",
     "text": [
      "{\"status\":\"100\",\"message\":\"corp_code가 없는 경우 검색기간은 3개월만 가능합니다.\"}\n"
     ]
    },
    {
     "name": "stderr",
     "output_type": "stream",
     "text": [
      " 23%|██▎       | 232/1023 [00:21<01:24,  9.40it/s]"
     ]
    },
    {
     "name": "stdout",
     "output_type": "stream",
     "text": [
      "{\"status\":\"100\",\"message\":\"corp_code가 없는 경우 검색기간은 3개월만 가능합니다.\"}\n"
     ]
    },
    {
     "name": "stderr",
     "output_type": "stream",
     "text": [
      " 24%|██▍       | 246/1023 [00:22<01:05, 11.78it/s]"
     ]
    },
    {
     "name": "stdout",
     "output_type": "stream",
     "text": [
      "{\"status\":\"100\",\"message\":\"corp_code가 없는 경우 검색기간은 3개월만 가능합니다.\"}\n",
      "{\"status\":\"013\",\"message\":\"조회된 데이타가 없습니다.\"}\n"
     ]
    },
    {
     "name": "stderr",
     "output_type": "stream",
     "text": [
      " 24%|██▍       | 250/1023 [00:22<01:07, 11.53it/s]"
     ]
    },
    {
     "name": "stdout",
     "output_type": "stream",
     "text": [
      "{\"status\":\"013\",\"message\":\"조회된 데이타가 없습니다.\"}\n"
     ]
    },
    {
     "name": "stderr",
     "output_type": "stream",
     "text": [
      " 26%|██▌       | 264/1023 [00:23<01:01, 12.36it/s]"
     ]
    },
    {
     "name": "stdout",
     "output_type": "stream",
     "text": [
      "{\"status\":\"100\",\"message\":\"corp_code가 없는 경우 검색기간은 3개월만 가능합니다.\"}\n",
      "{\"status\":\"100\",\"message\":\"corp_code가 없는 경우 검색기간은 3개월만 가능합니다.\"}\n"
     ]
    },
    {
     "name": "stderr",
     "output_type": "stream",
     "text": [
      " 26%|██▌       | 268/1023 [00:24<00:59, 12.61it/s]"
     ]
    },
    {
     "name": "stdout",
     "output_type": "stream",
     "text": [
      "{\"status\":\"100\",\"message\":\"corp_code가 없는 경우 검색기간은 3개월만 가능합니다.\"}\n"
     ]
    },
    {
     "name": "stderr",
     "output_type": "stream",
     "text": [
      " 27%|██▋       | 272/1023 [00:24<01:01, 12.13it/s]"
     ]
    },
    {
     "name": "stdout",
     "output_type": "stream",
     "text": [
      "{\"status\":\"013\",\"message\":\"조회된 데이타가 없습니다.\"}\n"
     ]
    },
    {
     "name": "stderr",
     "output_type": "stream",
     "text": [
      " 27%|██▋       | 276/1023 [00:24<01:09, 10.79it/s]"
     ]
    },
    {
     "name": "stdout",
     "output_type": "stream",
     "text": [
      "{\"status\":\"100\",\"message\":\"corp_code가 없는 경우 검색기간은 3개월만 가능합니다.\"}\n"
     ]
    },
    {
     "name": "stderr",
     "output_type": "stream",
     "text": [
      " 28%|██▊       | 282/1023 [00:25<01:08, 10.90it/s]"
     ]
    },
    {
     "name": "stdout",
     "output_type": "stream",
     "text": [
      "{\"status\":\"013\",\"message\":\"조회된 데이타가 없습니다.\"}\n"
     ]
    },
    {
     "name": "stderr",
     "output_type": "stream",
     "text": [
      " 28%|██▊       | 286/1023 [00:25<01:03, 11.66it/s]"
     ]
    },
    {
     "name": "stdout",
     "output_type": "stream",
     "text": [
      "{\"status\":\"100\",\"message\":\"corp_code가 없는 경우 검색기간은 3개월만 가능합니다.\"}\n"
     ]
    },
    {
     "name": "stderr",
     "output_type": "stream",
     "text": [
      " 28%|██▊       | 290/1023 [00:26<01:03, 11.62it/s]"
     ]
    },
    {
     "name": "stdout",
     "output_type": "stream",
     "text": [
      "{\"status\":\"100\",\"message\":\"corp_code가 없는 경우 검색기간은 3개월만 가능합니다.\"}\n",
      "{\"status\":\"013\",\"message\":\"조회된 데이타가 없습니다.\"}\n"
     ]
    },
    {
     "name": "stderr",
     "output_type": "stream",
     "text": [
      " 29%|██▊       | 294/1023 [00:26<01:02, 11.60it/s]"
     ]
    },
    {
     "name": "stdout",
     "output_type": "stream",
     "text": [
      "{\"status\":\"100\",\"message\":\"corp_code가 없는 경우 검색기간은 3개월만 가능합니다.\"}\n",
      "{\"status\":\"100\",\"message\":\"corp_code가 없는 경우 검색기간은 3개월만 가능합니다.\"}\n"
     ]
    },
    {
     "name": "stderr",
     "output_type": "stream",
     "text": [
      " 29%|██▉       | 296/1023 [00:26<01:13,  9.84it/s]"
     ]
    },
    {
     "name": "stdout",
     "output_type": "stream",
     "text": [
      "{\"status\":\"100\",\"message\":\"corp_code가 없는 경우 검색기간은 3개월만 가능합니다.\"}\n"
     ]
    },
    {
     "name": "stderr",
     "output_type": "stream",
     "text": [
      " 29%|██▉       | 300/1023 [00:27<01:01, 11.67it/s]"
     ]
    },
    {
     "name": "stdout",
     "output_type": "stream",
     "text": [
      "{\"status\":\"100\",\"message\":\"corp_code가 없는 경우 검색기간은 3개월만 가능합니다.\"}\n",
      "{\"status\":\"100\",\"message\":\"corp_code가 없는 경우 검색기간은 3개월만 가능합니다.\"}\n",
      "{\"status\":\"100\",\"message\":\"corp_code가 없는 경우 검색기간은 3개월만 가능합니다.\"}\n"
     ]
    },
    {
     "name": "stderr",
     "output_type": "stream",
     "text": [
      " 30%|██▉       | 306/1023 [00:27<01:02, 11.38it/s]"
     ]
    },
    {
     "name": "stdout",
     "output_type": "stream",
     "text": [
      "{\"status\":\"100\",\"message\":\"corp_code가 없는 경우 검색기간은 3개월만 가능합니다.\"}\n",
      "{\"status\":\"013\",\"message\":\"조회된 데이타가 없습니다.\"}\n"
     ]
    },
    {
     "name": "stderr",
     "output_type": "stream",
     "text": [
      " 30%|███       | 312/1023 [00:28<01:04, 10.95it/s]"
     ]
    },
    {
     "name": "stdout",
     "output_type": "stream",
     "text": [
      "{\"status\":\"100\",\"message\":\"corp_code가 없는 경우 검색기간은 3개월만 가능합니다.\"}\n"
     ]
    },
    {
     "name": "stderr",
     "output_type": "stream",
     "text": [
      " 31%|███       | 316/1023 [00:28<01:03, 11.19it/s]"
     ]
    },
    {
     "name": "stdout",
     "output_type": "stream",
     "text": [
      "{\"status\":\"100\",\"message\":\"corp_code가 없는 경우 검색기간은 3개월만 가능합니다.\"}\n",
      "{\"status\":\"013\",\"message\":\"조회된 데이타가 없습니다.\"}\n"
     ]
    },
    {
     "name": "stderr",
     "output_type": "stream",
     "text": [
      " 31%|███       | 318/1023 [00:28<01:01, 11.54it/s]"
     ]
    },
    {
     "name": "stdout",
     "output_type": "stream",
     "text": [
      "{\"status\":\"100\",\"message\":\"corp_code가 없는 경우 검색기간은 3개월만 가능합니다.\"}\n"
     ]
    },
    {
     "name": "stderr",
     "output_type": "stream",
     "text": [
      " 31%|███▏      | 322/1023 [00:29<01:03, 11.10it/s]"
     ]
    },
    {
     "name": "stdout",
     "output_type": "stream",
     "text": [
      "{\"status\":\"100\",\"message\":\"corp_code가 없는 경우 검색기간은 3개월만 가능합니다.\"}\n"
     ]
    },
    {
     "name": "stderr",
     "output_type": "stream",
     "text": [
      " 32%|███▏      | 326/1023 [00:29<00:58, 11.89it/s]"
     ]
    },
    {
     "name": "stdout",
     "output_type": "stream",
     "text": [
      "{\"status\":\"100\",\"message\":\"corp_code가 없는 경우 검색기간은 3개월만 가능합니다.\"}\n",
      "{\"status\":\"100\",\"message\":\"corp_code가 없는 경우 검색기간은 3개월만 가능합니다.\"}\n"
     ]
    },
    {
     "name": "stderr",
     "output_type": "stream",
     "text": [
      " 32%|███▏      | 330/1023 [00:29<01:00, 11.50it/s]"
     ]
    },
    {
     "name": "stdout",
     "output_type": "stream",
     "text": [
      "{\"status\":\"013\",\"message\":\"조회된 데이타가 없습니다.\"}\n"
     ]
    },
    {
     "name": "stderr",
     "output_type": "stream",
     "text": [
      " 33%|███▎      | 334/1023 [00:30<00:57, 11.93it/s]"
     ]
    },
    {
     "name": "stdout",
     "output_type": "stream",
     "text": [
      "{\"status\":\"013\",\"message\":\"조회된 데이타가 없습니다.\"}\n"
     ]
    },
    {
     "name": "stderr",
     "output_type": "stream",
     "text": [
      " 34%|███▍      | 346/1023 [00:31<00:54, 12.37it/s]"
     ]
    },
    {
     "name": "stdout",
     "output_type": "stream",
     "text": [
      "{\"status\":\"100\",\"message\":\"corp_code가 없는 경우 검색기간은 3개월만 가능합니다.\"}\n",
      "{\"status\":\"100\",\"message\":\"corp_code가 없는 경우 검색기간은 3개월만 가능합니다.\"}\n",
      "{\"status\":\"100\",\"message\":\"corp_code가 없는 경우 검색기간은 3개월만 가능합니다.\"}\n"
     ]
    },
    {
     "name": "stderr",
     "output_type": "stream",
     "text": [
      " 34%|███▍      | 350/1023 [00:31<00:53, 12.61it/s]"
     ]
    },
    {
     "name": "stdout",
     "output_type": "stream",
     "text": [
      "{\"status\":\"100\",\"message\":\"corp_code가 없는 경우 검색기간은 3개월만 가능합니다.\"}\n"
     ]
    },
    {
     "name": "stderr",
     "output_type": "stream",
     "text": [
      " 35%|███▌      | 360/1023 [00:32<00:55, 11.85it/s]"
     ]
    },
    {
     "name": "stdout",
     "output_type": "stream",
     "text": [
      "{\"status\":\"100\",\"message\":\"corp_code가 없는 경우 검색기간은 3개월만 가능합니다.\"}\n",
      "{\"status\":\"100\",\"message\":\"corp_code가 없는 경우 검색기간은 3개월만 가능합니다.\"}\n"
     ]
    },
    {
     "name": "stderr",
     "output_type": "stream",
     "text": [
      " 36%|███▌      | 366/1023 [00:32<00:55, 11.87it/s]"
     ]
    },
    {
     "name": "stdout",
     "output_type": "stream",
     "text": [
      "{\"status\":\"013\",\"message\":\"조회된 데이타가 없습니다.\"}\n",
      "{\"status\":\"013\",\"message\":\"조회된 데이타가 없습니다.\"}\n"
     ]
    },
    {
     "name": "stderr",
     "output_type": "stream",
     "text": [
      " 36%|███▌      | 370/1023 [00:33<01:00, 10.77it/s]"
     ]
    },
    {
     "name": "stdout",
     "output_type": "stream",
     "text": [
      "{\"status\":\"100\",\"message\":\"corp_code가 없는 경우 검색기간은 3개월만 가능합니다.\"}\n",
      "{\"status\":\"100\",\"message\":\"corp_code가 없는 경우 검색기간은 3개월만 가능합니다.\"}\n"
     ]
    },
    {
     "name": "stderr",
     "output_type": "stream",
     "text": [
      " 37%|███▋      | 374/1023 [00:33<00:51, 12.67it/s]"
     ]
    },
    {
     "name": "stdout",
     "output_type": "stream",
     "text": [
      "{\"status\":\"100\",\"message\":\"corp_code가 없는 경우 검색기간은 3개월만 가능합니다.\"}\n",
      "{\"status\":\"100\",\"message\":\"corp_code가 없는 경우 검색기간은 3개월만 가능합니다.\"}\n",
      "{\"status\":\"100\",\"message\":\"corp_code가 없는 경우 검색기간은 3개월만 가능합니다.\"}\n"
     ]
    },
    {
     "name": "stderr",
     "output_type": "stream",
     "text": [
      " 37%|███▋      | 376/1023 [00:33<00:50, 12.82it/s]"
     ]
    },
    {
     "name": "stdout",
     "output_type": "stream",
     "text": [
      "{\"status\":\"013\",\"message\":\"조회된 데이타가 없습니다.\"}\n",
      "{\"status\":\"100\",\"message\":\"corp_code가 없는 경우 검색기간은 3개월만 가능합니다.\"}\n"
     ]
    },
    {
     "name": "stderr",
     "output_type": "stream",
     "text": [
      " 37%|███▋      | 382/1023 [00:34<00:57, 11.13it/s]"
     ]
    },
    {
     "name": "stdout",
     "output_type": "stream",
     "text": [
      "{\"status\":\"013\",\"message\":\"조회된 데이타가 없습니다.\"}\n"
     ]
    },
    {
     "name": "stderr",
     "output_type": "stream",
     "text": [
      " 38%|███▊      | 386/1023 [00:34<01:06,  9.62it/s]"
     ]
    },
    {
     "name": "stdout",
     "output_type": "stream",
     "text": [
      "{\"status\":\"100\",\"message\":\"corp_code가 없는 경우 검색기간은 3개월만 가능합니다.\"}\n"
     ]
    },
    {
     "name": "stderr",
     "output_type": "stream",
     "text": [
      " 38%|███▊      | 390/1023 [00:35<01:03,  9.89it/s]"
     ]
    },
    {
     "name": "stdout",
     "output_type": "stream",
     "text": [
      "{\"status\":\"013\",\"message\":\"조회된 데이타가 없습니다.\"}\n"
     ]
    },
    {
     "name": "stderr",
     "output_type": "stream",
     "text": [
      " 39%|███▊      | 394/1023 [00:35<00:56, 11.20it/s]"
     ]
    },
    {
     "name": "stdout",
     "output_type": "stream",
     "text": [
      "{\"status\":\"100\",\"message\":\"corp_code가 없는 경우 검색기간은 3개월만 가능합니다.\"}\n"
     ]
    },
    {
     "name": "stderr",
     "output_type": "stream",
     "text": [
      " 39%|███▉      | 402/1023 [00:35<00:52, 11.77it/s]"
     ]
    },
    {
     "name": "stdout",
     "output_type": "stream",
     "text": [
      "{\"status\":\"013\",\"message\":\"조회된 데이타가 없습니다.\"}\n"
     ]
    },
    {
     "name": "stderr",
     "output_type": "stream",
     "text": [
      " 39%|███▉      | 404/1023 [00:36<00:47, 13.15it/s]"
     ]
    },
    {
     "name": "stdout",
     "output_type": "stream",
     "text": [
      "{\"status\":\"013\",\"message\":\"조회된 데이타가 없습니다.\"}\n",
      "{\"status\":\"013\",\"message\":\"조회된 데이타가 없습니다.\"}\n"
     ]
    },
    {
     "name": "stderr",
     "output_type": "stream",
     "text": [
      " 40%|████      | 410/1023 [00:36<00:45, 13.41it/s]"
     ]
    },
    {
     "name": "stdout",
     "output_type": "stream",
     "text": [
      "{\"status\":\"013\",\"message\":\"조회된 데이타가 없습니다.\"}\n"
     ]
    },
    {
     "name": "stderr",
     "output_type": "stream",
     "text": [
      " 41%|████      | 416/1023 [00:37<00:51, 11.71it/s]"
     ]
    },
    {
     "name": "stdout",
     "output_type": "stream",
     "text": [
      "{\"status\":\"013\",\"message\":\"조회된 데이타가 없습니다.\"}\n",
      "{\"status\":\"100\",\"message\":\"corp_code가 없는 경우 검색기간은 3개월만 가능합니다.\"}\n"
     ]
    },
    {
     "name": "stderr",
     "output_type": "stream",
     "text": [
      " 42%|████▏     | 428/1023 [00:38<00:51, 11.65it/s]"
     ]
    },
    {
     "name": "stdout",
     "output_type": "stream",
     "text": [
      "{\"status\":\"100\",\"message\":\"corp_code가 없는 경우 검색기간은 3개월만 가능합니다.\"}\n"
     ]
    },
    {
     "name": "stderr",
     "output_type": "stream",
     "text": [
      " 42%|████▏     | 432/1023 [00:38<00:51, 11.49it/s]"
     ]
    },
    {
     "name": "stdout",
     "output_type": "stream",
     "text": [
      "{\"status\":\"013\",\"message\":\"조회된 데이타가 없습니다.\"}\n"
     ]
    },
    {
     "name": "stderr",
     "output_type": "stream",
     "text": [
      " 44%|████▍     | 448/1023 [00:40<00:53, 10.79it/s]"
     ]
    },
    {
     "name": "stdout",
     "output_type": "stream",
     "text": [
      "{\"status\":\"013\",\"message\":\"조회된 데이타가 없습니다.\"}\n"
     ]
    },
    {
     "name": "stderr",
     "output_type": "stream",
     "text": [
      " 44%|████▍     | 454/1023 [00:40<00:44, 12.75it/s]"
     ]
    },
    {
     "name": "stdout",
     "output_type": "stream",
     "text": [
      "{\"status\":\"013\",\"message\":\"조회된 데이타가 없습니다.\"}\n",
      "{\"status\":\"013\",\"message\":\"조회된 데이타가 없습니다.\"}\n"
     ]
    },
    {
     "name": "stderr",
     "output_type": "stream",
     "text": [
      " 45%|████▌     | 464/1023 [00:41<00:43, 12.98it/s]"
     ]
    },
    {
     "name": "stdout",
     "output_type": "stream",
     "text": [
      "{\"status\":\"100\",\"message\":\"corp_code가 없는 경우 검색기간은 3개월만 가능합니다.\"}\n",
      "{\"status\":\"100\",\"message\":\"corp_code가 없는 경우 검색기간은 3개월만 가능합니다.\"}\n"
     ]
    },
    {
     "name": "stderr",
     "output_type": "stream",
     "text": [
      " 46%|████▌     | 468/1023 [00:41<00:39, 13.99it/s]"
     ]
    },
    {
     "name": "stdout",
     "output_type": "stream",
     "text": [
      "{\"status\":\"100\",\"message\":\"corp_code가 없는 경우 검색기간은 3개월만 가능합니다.\"}\n",
      "{\"status\":\"013\",\"message\":\"조회된 데이타가 없습니다.\"}\n"
     ]
    },
    {
     "name": "stderr",
     "output_type": "stream",
     "text": [
      " 46%|████▌     | 472/1023 [00:41<00:40, 13.66it/s]"
     ]
    },
    {
     "name": "stdout",
     "output_type": "stream",
     "text": [
      "{\"status\":\"100\",\"message\":\"corp_code가 없는 경우 검색기간은 3개월만 가능합니다.\"}\n",
      "{\"status\":\"013\",\"message\":\"조회된 데이타가 없습니다.\"}\n",
      "{\"status\":\"100\",\"message\":\"corp_code가 없는 경우 검색기간은 3개월만 가능합니다.\"}\n"
     ]
    },
    {
     "name": "stderr",
     "output_type": "stream",
     "text": [
      " 47%|████▋     | 482/1023 [00:42<00:48, 11.20it/s]"
     ]
    },
    {
     "name": "stdout",
     "output_type": "stream",
     "text": [
      "{\"status\":\"100\",\"message\":\"corp_code가 없는 경우 검색기간은 3개월만 가능합니다.\"}\n"
     ]
    },
    {
     "name": "stderr",
     "output_type": "stream",
     "text": [
      " 48%|████▊     | 488/1023 [00:43<00:42, 12.73it/s]"
     ]
    },
    {
     "name": "stdout",
     "output_type": "stream",
     "text": [
      "{\"status\":\"100\",\"message\":\"corp_code가 없는 경우 검색기간은 3개월만 가능합니다.\"}\n",
      "{\"status\":\"100\",\"message\":\"corp_code가 없는 경우 검색기간은 3개월만 가능합니다.\"}\n"
     ]
    },
    {
     "name": "stderr",
     "output_type": "stream",
     "text": [
      " 48%|████▊     | 492/1023 [00:43<00:40, 13.11it/s]"
     ]
    },
    {
     "name": "stdout",
     "output_type": "stream",
     "text": [
      "{\"status\":\"013\",\"message\":\"조회된 데이타가 없습니다.\"}\n",
      "{\"status\":\"100\",\"message\":\"corp_code가 없는 경우 검색기간은 3개월만 가능합니다.\"}\n"
     ]
    },
    {
     "name": "stderr",
     "output_type": "stream",
     "text": [
      " 48%|████▊     | 494/1023 [00:43<00:38, 13.67it/s]"
     ]
    },
    {
     "name": "stdout",
     "output_type": "stream",
     "text": [
      "{\"status\":\"013\",\"message\":\"조회된 데이타가 없습니다.\"}\n"
     ]
    },
    {
     "name": "stderr",
     "output_type": "stream",
     "text": [
      " 49%|████▊     | 498/1023 [00:44<00:43, 12.10it/s]"
     ]
    },
    {
     "name": "stdout",
     "output_type": "stream",
     "text": [
      "{\"status\":\"100\",\"message\":\"corp_code가 없는 경우 검색기간은 3개월만 가능합니다.\"}\n"
     ]
    },
    {
     "name": "stderr",
     "output_type": "stream",
     "text": [
      " 49%|████▉     | 500/1023 [00:44<00:41, 12.59it/s]"
     ]
    },
    {
     "name": "stdout",
     "output_type": "stream",
     "text": [
      "{\"status\":\"100\",\"message\":\"corp_code가 없는 경우 검색기간은 3개월만 가능합니다.\"}\n"
     ]
    },
    {
     "name": "stderr",
     "output_type": "stream",
     "text": [
      " 49%|████▉     | 506/1023 [00:44<00:40, 12.85it/s]"
     ]
    },
    {
     "name": "stdout",
     "output_type": "stream",
     "text": [
      "{\"status\":\"100\",\"message\":\"corp_code가 없는 경우 검색기간은 3개월만 가능합니다.\"}\n",
      "{\"status\":\"100\",\"message\":\"corp_code가 없는 경우 검색기간은 3개월만 가능합니다.\"}\n"
     ]
    },
    {
     "name": "stderr",
     "output_type": "stream",
     "text": [
      " 50%|█████     | 514/1023 [00:45<00:41, 12.20it/s]"
     ]
    },
    {
     "name": "stdout",
     "output_type": "stream",
     "text": [
      "{\"status\":\"100\",\"message\":\"corp_code가 없는 경우 검색기간은 3개월만 가능합니다.\"}\n"
     ]
    },
    {
     "name": "stderr",
     "output_type": "stream",
     "text": [
      " 51%|█████     | 522/1023 [00:46<00:42, 11.88it/s]"
     ]
    },
    {
     "name": "stdout",
     "output_type": "stream",
     "text": [
      "{\"status\":\"100\",\"message\":\"corp_code가 없는 경우 검색기간은 3개월만 가능합니다.\"}\n"
     ]
    },
    {
     "name": "stderr",
     "output_type": "stream",
     "text": [
      " 51%|█████▏    | 526/1023 [00:46<00:42, 11.66it/s]"
     ]
    },
    {
     "name": "stdout",
     "output_type": "stream",
     "text": [
      "{\"status\":\"013\",\"message\":\"조회된 데이타가 없습니다.\"}\n",
      "{\"status\":\"013\",\"message\":\"조회된 데이타가 없습니다.\"}\n"
     ]
    },
    {
     "name": "stderr",
     "output_type": "stream",
     "text": [
      " 52%|█████▏    | 530/1023 [00:46<00:38, 12.75it/s]"
     ]
    },
    {
     "name": "stdout",
     "output_type": "stream",
     "text": [
      "{\"status\":\"013\",\"message\":\"조회된 데이타가 없습니다.\"}\n",
      "{\"status\":\"100\",\"message\":\"corp_code가 없는 경우 검색기간은 3개월만 가능합니다.\"}\n"
     ]
    },
    {
     "name": "stderr",
     "output_type": "stream",
     "text": [
      " 53%|█████▎    | 538/1023 [00:47<00:36, 13.33it/s]"
     ]
    },
    {
     "name": "stdout",
     "output_type": "stream",
     "text": [
      "{\"status\":\"013\",\"message\":\"조회된 데이타가 없습니다.\"}\n",
      "{\"status\":\"100\",\"message\":\"corp_code가 없는 경우 검색기간은 3개월만 가능합니다.\"}\n",
      "{\"status\":\"100\",\"message\":\"corp_code가 없는 경우 검색기간은 3개월만 가능합니다.\"}\n"
     ]
    },
    {
     "name": "stderr",
     "output_type": "stream",
     "text": [
      " 53%|█████▎    | 544/1023 [00:47<00:35, 13.41it/s]"
     ]
    },
    {
     "name": "stdout",
     "output_type": "stream",
     "text": [
      "{\"status\":\"013\",\"message\":\"조회된 데이타가 없습니다.\"}\n",
      "{\"status\":\"100\",\"message\":\"corp_code가 없는 경우 검색기간은 3개월만 가능합니다.\"}\n"
     ]
    },
    {
     "name": "stderr",
     "output_type": "stream",
     "text": [
      " 54%|█████▎    | 548/1023 [00:48<00:36, 13.16it/s]"
     ]
    },
    {
     "name": "stdout",
     "output_type": "stream",
     "text": [
      "{\"status\":\"013\",\"message\":\"조회된 데이타가 없습니다.\"}\n"
     ]
    },
    {
     "name": "stderr",
     "output_type": "stream",
     "text": [
      " 54%|█████▍    | 554/1023 [00:48<00:39, 11.98it/s]"
     ]
    },
    {
     "name": "stdout",
     "output_type": "stream",
     "text": [
      "{\"status\":\"013\",\"message\":\"조회된 데이타가 없습니다.\"}\n"
     ]
    },
    {
     "name": "stderr",
     "output_type": "stream",
     "text": [
      " 54%|█████▍    | 556/1023 [00:48<00:39, 11.95it/s]"
     ]
    },
    {
     "name": "stdout",
     "output_type": "stream",
     "text": [
      "{\"status\":\"013\",\"message\":\"조회된 데이타가 없습니다.\"}\n",
      "{\"status\":\"100\",\"message\":\"corp_code가 없는 경우 검색기간은 3개월만 가능합니다.\"}\n"
     ]
    },
    {
     "name": "stderr",
     "output_type": "stream",
     "text": [
      " 55%|█████▍    | 562/1023 [00:49<00:38, 12.07it/s]"
     ]
    },
    {
     "name": "stdout",
     "output_type": "stream",
     "text": [
      "{\"status\":\"013\",\"message\":\"조회된 데이타가 없습니다.\"}\n"
     ]
    },
    {
     "name": "stderr",
     "output_type": "stream",
     "text": [
      " 56%|█████▌    | 568/1023 [00:49<00:37, 12.01it/s]"
     ]
    },
    {
     "name": "stdout",
     "output_type": "stream",
     "text": [
      "{\"status\":\"100\",\"message\":\"corp_code가 없는 경우 검색기간은 3개월만 가능합니다.\"}\n"
     ]
    },
    {
     "name": "stderr",
     "output_type": "stream",
     "text": [
      " 56%|█████▌    | 572/1023 [00:50<00:35, 12.87it/s]"
     ]
    },
    {
     "name": "stdout",
     "output_type": "stream",
     "text": [
      "{\"status\":\"100\",\"message\":\"corp_code가 없는 경우 검색기간은 3개월만 가능합니다.\"}\n"
     ]
    },
    {
     "name": "stderr",
     "output_type": "stream",
     "text": [
      " 56%|█████▋    | 576/1023 [00:50<00:35, 12.73it/s]"
     ]
    },
    {
     "name": "stdout",
     "output_type": "stream",
     "text": [
      "{\"status\":\"100\",\"message\":\"corp_code가 없는 경우 검색기간은 3개월만 가능합니다.\"}\n"
     ]
    },
    {
     "name": "stderr",
     "output_type": "stream",
     "text": [
      " 57%|█████▋    | 580/1023 [00:50<00:36, 12.21it/s]"
     ]
    },
    {
     "name": "stdout",
     "output_type": "stream",
     "text": [
      "{\"status\":\"100\",\"message\":\"corp_code가 없는 경우 검색기간은 3개월만 가능합니다.\"}\n"
     ]
    },
    {
     "name": "stderr",
     "output_type": "stream",
     "text": [
      " 58%|█████▊    | 590/1023 [00:51<00:37, 11.54it/s]"
     ]
    },
    {
     "name": "stdout",
     "output_type": "stream",
     "text": [
      "{\"status\":\"100\",\"message\":\"corp_code가 없는 경우 검색기간은 3개월만 가능합니다.\"}\n"
     ]
    },
    {
     "name": "stderr",
     "output_type": "stream",
     "text": [
      " 58%|█████▊    | 594/1023 [00:51<00:36, 11.82it/s]"
     ]
    },
    {
     "name": "stdout",
     "output_type": "stream",
     "text": [
      "{\"status\":\"013\",\"message\":\"조회된 데이타가 없습니다.\"}\n"
     ]
    },
    {
     "name": "stderr",
     "output_type": "stream",
     "text": [
      " 58%|█████▊    | 596/1023 [00:52<00:34, 12.52it/s]"
     ]
    },
    {
     "name": "stdout",
     "output_type": "stream",
     "text": [
      "{\"status\":\"100\",\"message\":\"corp_code가 없는 경우 검색기간은 3개월만 가능합니다.\"}\n"
     ]
    },
    {
     "name": "stderr",
     "output_type": "stream",
     "text": [
      " 60%|█████▉    | 610/1023 [00:53<00:36, 11.45it/s]"
     ]
    },
    {
     "name": "stdout",
     "output_type": "stream",
     "text": [
      "{\"status\":\"100\",\"message\":\"corp_code가 없는 경우 검색기간은 3개월만 가능합니다.\"}\n"
     ]
    },
    {
     "name": "stderr",
     "output_type": "stream",
     "text": [
      " 61%|██████    | 622/1023 [00:54<00:33, 12.11it/s]"
     ]
    },
    {
     "name": "stdout",
     "output_type": "stream",
     "text": [
      "{\"status\":\"100\",\"message\":\"corp_code가 없는 경우 검색기간은 3개월만 가능합니다.\"}\n"
     ]
    },
    {
     "name": "stderr",
     "output_type": "stream",
     "text": [
      " 61%|██████    | 626/1023 [00:54<00:29, 13.44it/s]"
     ]
    },
    {
     "name": "stdout",
     "output_type": "stream",
     "text": [
      "{\"status\":\"100\",\"message\":\"corp_code가 없는 경우 검색기간은 3개월만 가능합니다.\"}\n",
      "{\"status\":\"100\",\"message\":\"corp_code가 없는 경우 검색기간은 3개월만 가능합니다.\"}\n"
     ]
    },
    {
     "name": "stderr",
     "output_type": "stream",
     "text": [
      " 62%|██████▏   | 632/1023 [00:55<00:33, 11.76it/s]"
     ]
    },
    {
     "name": "stdout",
     "output_type": "stream",
     "text": [
      "{\"status\":\"100\",\"message\":\"corp_code가 없는 경우 검색기간은 3개월만 가능합니다.\"}\n"
     ]
    },
    {
     "name": "stderr",
     "output_type": "stream",
     "text": [
      " 62%|██████▏   | 636/1023 [00:55<00:34, 11.32it/s]"
     ]
    },
    {
     "name": "stdout",
     "output_type": "stream",
     "text": [
      "{\"status\":\"013\",\"message\":\"조회된 데이타가 없습니다.\"}\n"
     ]
    },
    {
     "name": "stderr",
     "output_type": "stream",
     "text": [
      " 63%|██████▎   | 646/1023 [00:56<00:32, 11.65it/s]"
     ]
    },
    {
     "name": "stdout",
     "output_type": "stream",
     "text": [
      "{\"status\":\"013\",\"message\":\"조회된 데이타가 없습니다.\"}\n",
      "{\"status\":\"100\",\"message\":\"corp_code가 없는 경우 검색기간은 3개월만 가능합니다.\"}\n"
     ]
    },
    {
     "name": "stderr",
     "output_type": "stream",
     "text": [
      " 64%|██████▎   | 650/1023 [00:56<00:30, 12.23it/s]"
     ]
    },
    {
     "name": "stdout",
     "output_type": "stream",
     "text": [
      "{\"status\":\"100\",\"message\":\"corp_code가 없는 경우 검색기간은 3개월만 가능합니다.\"}\n"
     ]
    },
    {
     "name": "stderr",
     "output_type": "stream",
     "text": [
      " 65%|██████▍   | 660/1023 [00:57<00:32, 11.12it/s]"
     ]
    },
    {
     "name": "stdout",
     "output_type": "stream",
     "text": [
      "{\"status\":\"013\",\"message\":\"조회된 데이타가 없습니다.\"}\n",
      "{\"status\":\"013\",\"message\":\"조회된 데이타가 없습니다.\"}\n"
     ]
    },
    {
     "name": "stderr",
     "output_type": "stream",
     "text": [
      " 65%|██████▌   | 666/1023 [00:58<00:29, 12.17it/s]"
     ]
    },
    {
     "name": "stdout",
     "output_type": "stream",
     "text": [
      "{\"status\":\"100\",\"message\":\"corp_code가 없는 경우 검색기간은 3개월만 가능합니다.\"}\n",
      "{\"status\":\"013\",\"message\":\"조회된 데이타가 없습니다.\"}\n"
     ]
    },
    {
     "name": "stderr",
     "output_type": "stream",
     "text": [
      " 66%|██████▌   | 672/1023 [00:58<00:26, 13.33it/s]"
     ]
    },
    {
     "name": "stdout",
     "output_type": "stream",
     "text": [
      "{\"status\":\"013\",\"message\":\"조회된 데이타가 없습니다.\"}\n",
      "{\"status\":\"100\",\"message\":\"corp_code가 없는 경우 검색기간은 3개월만 가능합니다.\"}\n",
      "{\"status\":\"100\",\"message\":\"corp_code가 없는 경우 검색기간은 3개월만 가능합니다.\"}\n"
     ]
    },
    {
     "name": "stderr",
     "output_type": "stream",
     "text": [
      " 67%|██████▋   | 686/1023 [00:59<00:28, 12.00it/s]"
     ]
    },
    {
     "name": "stdout",
     "output_type": "stream",
     "text": [
      "{\"status\":\"100\",\"message\":\"corp_code가 없는 경우 검색기간은 3개월만 가능합니다.\"}\n"
     ]
    },
    {
     "name": "stderr",
     "output_type": "stream",
     "text": [
      " 68%|██████▊   | 694/1023 [01:00<00:28, 11.68it/s]"
     ]
    },
    {
     "name": "stdout",
     "output_type": "stream",
     "text": [
      "{\"status\":\"100\",\"message\":\"corp_code가 없는 경우 검색기간은 3개월만 가능합니다.\"}\n"
     ]
    },
    {
     "name": "stderr",
     "output_type": "stream",
     "text": [
      " 68%|██████▊   | 696/1023 [01:00<00:29, 11.11it/s]"
     ]
    },
    {
     "name": "stdout",
     "output_type": "stream",
     "text": [
      "{\"status\":\"013\",\"message\":\"조회된 데이타가 없습니다.\"}\n"
     ]
    },
    {
     "name": "stderr",
     "output_type": "stream",
     "text": [
      " 69%|██████▉   | 708/1023 [01:01<00:24, 12.65it/s]"
     ]
    },
    {
     "name": "stdout",
     "output_type": "stream",
     "text": [
      "{\"status\":\"013\",\"message\":\"조회된 데이타가 없습니다.\"}\n",
      "{\"status\":\"100\",\"message\":\"corp_code가 없는 경우 검색기간은 3개월만 가능합니다.\"}\n",
      "{\"status\":\"100\",\"message\":\"corp_code가 없는 경우 검색기간은 3개월만 가능합니다.\"}\n"
     ]
    },
    {
     "name": "stderr",
     "output_type": "stream",
     "text": [
      " 70%|██████▉   | 714/1023 [01:02<00:24, 12.62it/s]"
     ]
    },
    {
     "name": "stdout",
     "output_type": "stream",
     "text": [
      "{\"status\":\"100\",\"message\":\"corp_code가 없는 경우 검색기간은 3개월만 가능합니다.\"}\n"
     ]
    },
    {
     "name": "stderr",
     "output_type": "stream",
     "text": [
      " 70%|██████▉   | 716/1023 [01:02<00:24, 12.59it/s]"
     ]
    },
    {
     "name": "stdout",
     "output_type": "stream",
     "text": [
      "{\"status\":\"100\",\"message\":\"corp_code가 없는 경우 검색기간은 3개월만 가능합니다.\"}\n"
     ]
    },
    {
     "name": "stderr",
     "output_type": "stream",
     "text": [
      " 71%|███████▏  | 730/1023 [01:03<00:27, 10.49it/s]"
     ]
    },
    {
     "name": "stdout",
     "output_type": "stream",
     "text": [
      "{\"status\":\"013\",\"message\":\"조회된 데이타가 없습니다.\"}\n"
     ]
    },
    {
     "name": "stderr",
     "output_type": "stream",
     "text": [
      " 72%|███████▏  | 738/1023 [01:04<00:22, 12.65it/s]"
     ]
    },
    {
     "name": "stdout",
     "output_type": "stream",
     "text": [
      "{\"status\":\"013\",\"message\":\"조회된 데이타가 없습니다.\"}\n",
      "{\"status\":\"013\",\"message\":\"조회된 데이타가 없습니다.\"}\n",
      "{\"status\":\"013\",\"message\":\"조회된 데이타가 없습니다.\"}\n"
     ]
    },
    {
     "name": "stderr",
     "output_type": "stream",
     "text": [
      " 73%|███████▎  | 744/1023 [01:04<00:19, 14.10it/s]"
     ]
    },
    {
     "name": "stdout",
     "output_type": "stream",
     "text": [
      "{\"status\":\"013\",\"message\":\"조회된 데이타가 없습니다.\"}\n",
      "{\"status\":\"100\",\"message\":\"corp_code가 없는 경우 검색기간은 3개월만 가능합니다.\"}\n",
      "{\"status\":\"013\",\"message\":\"조회된 데이타가 없습니다.\"}\n",
      "{\"status\":\"100\",\"message\":\"corp_code가 없는 경우 검색기간은 3개월만 가능합니다.\"}\n"
     ]
    },
    {
     "name": "stderr",
     "output_type": "stream",
     "text": [
      " 73%|███████▎  | 748/1023 [01:05<00:20, 13.45it/s]"
     ]
    },
    {
     "name": "stdout",
     "output_type": "stream",
     "text": [
      "{\"status\":\"100\",\"message\":\"corp_code가 없는 경우 검색기간은 3개월만 가능합니다.\"}\n",
      "{\"status\":\"013\",\"message\":\"조회된 데이타가 없습니다.\"}\n"
     ]
    },
    {
     "name": "stderr",
     "output_type": "stream",
     "text": [
      " 74%|███████▎  | 752/1023 [01:05<00:21, 12.45it/s]"
     ]
    },
    {
     "name": "stdout",
     "output_type": "stream",
     "text": [
      "{\"status\":\"100\",\"message\":\"corp_code가 없는 경우 검색기간은 3개월만 가능합니다.\"}\n"
     ]
    },
    {
     "name": "stderr",
     "output_type": "stream",
     "text": [
      " 74%|███████▍  | 756/1023 [01:05<00:21, 12.66it/s]"
     ]
    },
    {
     "name": "stdout",
     "output_type": "stream",
     "text": [
      "{\"status\":\"100\",\"message\":\"corp_code가 없는 경우 검색기간은 3개월만 가능합니다.\"}\n",
      "{\"status\":\"013\",\"message\":\"조회된 데이타가 없습니다.\"}\n"
     ]
    },
    {
     "name": "stderr",
     "output_type": "stream",
     "text": [
      " 74%|███████▍  | 762/1023 [01:06<00:22, 11.76it/s]"
     ]
    },
    {
     "name": "stdout",
     "output_type": "stream",
     "text": [
      "{\"status\":\"013\",\"message\":\"조회된 데이타가 없습니다.\"}\n",
      "{\"status\":\"100\",\"message\":\"corp_code가 없는 경우 검색기간은 3개월만 가능합니다.\"}\n"
     ]
    },
    {
     "name": "stderr",
     "output_type": "stream",
     "text": [
      " 75%|███████▍  | 766/1023 [01:06<00:24, 10.56it/s]"
     ]
    },
    {
     "name": "stdout",
     "output_type": "stream",
     "text": [
      "{\"status\":\"100\",\"message\":\"corp_code가 없는 경우 검색기간은 3개월만 가능합니다.\"}\n"
     ]
    },
    {
     "name": "stderr",
     "output_type": "stream",
     "text": [
      " 76%|███████▌  | 773/1023 [01:07<00:27,  9.07it/s]"
     ]
    },
    {
     "name": "stdout",
     "output_type": "stream",
     "text": [
      "{\"status\":\"013\",\"message\":\"조회된 데이타가 없습니다.\"}\n",
      "{\"status\":\"013\",\"message\":\"조회된 데이타가 없습니다.\"}\n"
     ]
    },
    {
     "name": "stderr",
     "output_type": "stream",
     "text": [
      " 76%|███████▌  | 777/1023 [01:08<00:21, 11.53it/s]"
     ]
    },
    {
     "name": "stdout",
     "output_type": "stream",
     "text": [
      "{\"status\":\"100\",\"message\":\"corp_code가 없는 경우 검색기간은 3개월만 가능합니다.\"}\n",
      "{\"status\":\"013\",\"message\":\"조회된 데이타가 없습니다.\"}\n"
     ]
    },
    {
     "name": "stderr",
     "output_type": "stream",
     "text": [
      " 77%|███████▋  | 785/1023 [01:08<00:18, 13.05it/s]"
     ]
    },
    {
     "name": "stdout",
     "output_type": "stream",
     "text": [
      "{\"status\":\"013\",\"message\":\"조회된 데이타가 없습니다.\"}\n",
      "{\"status\":\"013\",\"message\":\"조회된 데이타가 없습니다.\"}\n"
     ]
    },
    {
     "name": "stderr",
     "output_type": "stream",
     "text": [
      " 77%|███████▋  | 789/1023 [01:08<00:16, 13.94it/s]"
     ]
    },
    {
     "name": "stdout",
     "output_type": "stream",
     "text": [
      "{\"status\":\"013\",\"message\":\"조회된 데이타가 없습니다.\"}\n",
      "{\"status\":\"013\",\"message\":\"조회된 데이타가 없습니다.\"}\n"
     ]
    },
    {
     "name": "stderr",
     "output_type": "stream",
     "text": [
      " 78%|███████▊  | 795/1023 [01:09<00:18, 12.52it/s]"
     ]
    },
    {
     "name": "stdout",
     "output_type": "stream",
     "text": [
      "{\"status\":\"100\",\"message\":\"corp_code가 없는 경우 검색기간은 3개월만 가능합니다.\"}\n"
     ]
    },
    {
     "name": "stderr",
     "output_type": "stream",
     "text": [
      " 78%|███████▊  | 797/1023 [01:09<00:19, 11.77it/s]"
     ]
    },
    {
     "name": "stdout",
     "output_type": "stream",
     "text": [
      "{\"status\":\"100\",\"message\":\"corp_code가 없는 경우 검색기간은 3개월만 가능합니다.\"}\n",
      "{\"status\":\"100\",\"message\":\"corp_code가 없는 경우 검색기간은 3개월만 가능합니다.\"}\n"
     ]
    },
    {
     "name": "stderr",
     "output_type": "stream",
     "text": [
      " 78%|███████▊  | 801/1023 [01:09<00:17, 12.75it/s]"
     ]
    },
    {
     "name": "stdout",
     "output_type": "stream",
     "text": [
      "{\"status\":\"100\",\"message\":\"corp_code가 없는 경우 검색기간은 3개월만 가능합니다.\"}\n",
      "{\"status\":\"100\",\"message\":\"corp_code가 없는 경우 검색기간은 3개월만 가능합니다.\"}\n"
     ]
    },
    {
     "name": "stderr",
     "output_type": "stream",
     "text": [
      " 79%|███████▊  | 805/1023 [01:10<00:19, 11.21it/s]"
     ]
    },
    {
     "name": "stdout",
     "output_type": "stream",
     "text": [
      "{\"status\":\"100\",\"message\":\"corp_code가 없는 경우 검색기간은 3개월만 가능합니다.\"}\n"
     ]
    },
    {
     "name": "stderr",
     "output_type": "stream",
     "text": [
      " 79%|███████▉  | 811/1023 [01:10<00:17, 11.95it/s]"
     ]
    },
    {
     "name": "stdout",
     "output_type": "stream",
     "text": [
      "{\"status\":\"013\",\"message\":\"조회된 데이타가 없습니다.\"}\n",
      "{\"status\":\"013\",\"message\":\"조회된 데이타가 없습니다.\"}\n"
     ]
    },
    {
     "name": "stderr",
     "output_type": "stream",
     "text": [
      " 80%|███████▉  | 815/1023 [01:11<00:17, 11.66it/s]"
     ]
    },
    {
     "name": "stdout",
     "output_type": "stream",
     "text": [
      "{\"status\":\"100\",\"message\":\"corp_code가 없는 경우 검색기간은 3개월만 가능합니다.\"}\n"
     ]
    },
    {
     "name": "stderr",
     "output_type": "stream",
     "text": [
      " 80%|████████  | 821/1023 [01:11<00:15, 13.36it/s]"
     ]
    },
    {
     "name": "stdout",
     "output_type": "stream",
     "text": [
      "{\"status\":\"100\",\"message\":\"corp_code가 없는 경우 검색기간은 3개월만 가능합니다.\"}\n",
      "{\"status\":\"100\",\"message\":\"corp_code가 없는 경우 검색기간은 3개월만 가능합니다.\"}\n",
      "{\"status\":\"100\",\"message\":\"corp_code가 없는 경우 검색기간은 3개월만 가능합니다.\"}\n"
     ]
    },
    {
     "name": "stderr",
     "output_type": "stream",
     "text": [
      " 81%|████████  | 829/1023 [01:12<00:16, 11.68it/s]"
     ]
    },
    {
     "name": "stdout",
     "output_type": "stream",
     "text": [
      "{\"status\":\"100\",\"message\":\"corp_code가 없는 경우 검색기간은 3개월만 가능합니다.\"}\n"
     ]
    },
    {
     "name": "stderr",
     "output_type": "stream",
     "text": [
      " 81%|████████  | 831/1023 [01:12<00:16, 11.67it/s]"
     ]
    },
    {
     "name": "stdout",
     "output_type": "stream",
     "text": [
      "{\"status\":\"013\",\"message\":\"조회된 데이타가 없습니다.\"}\n"
     ]
    },
    {
     "name": "stderr",
     "output_type": "stream",
     "text": [
      " 82%|████████▏ | 835/1023 [01:12<00:15, 12.11it/s]"
     ]
    },
    {
     "name": "stdout",
     "output_type": "stream",
     "text": [
      "{\"status\":\"100\",\"message\":\"corp_code가 없는 경우 검색기간은 3개월만 가능합니다.\"}\n",
      "{\"status\":\"100\",\"message\":\"corp_code가 없는 경우 검색기간은 3개월만 가능합니다.\"}\n"
     ]
    },
    {
     "name": "stderr",
     "output_type": "stream",
     "text": [
      " 82%|████████▏ | 841/1023 [01:13<00:14, 12.54it/s]"
     ]
    },
    {
     "name": "stdout",
     "output_type": "stream",
     "text": [
      "{\"status\":\"100\",\"message\":\"corp_code가 없는 경우 검색기간은 3개월만 가능합니다.\"}\n"
     ]
    },
    {
     "name": "stderr",
     "output_type": "stream",
     "text": [
      " 83%|████████▎ | 853/1023 [01:14<00:14, 11.36it/s]"
     ]
    },
    {
     "name": "stdout",
     "output_type": "stream",
     "text": [
      "{\"status\":\"100\",\"message\":\"corp_code가 없는 경우 검색기간은 3개월만 가능합니다.\"}\n"
     ]
    },
    {
     "name": "stderr",
     "output_type": "stream",
     "text": [
      " 84%|████████▍ | 860/1023 [01:15<00:17,  9.57it/s]"
     ]
    },
    {
     "name": "stdout",
     "output_type": "stream",
     "text": [
      "{\"status\":\"013\",\"message\":\"조회된 데이타가 없습니다.\"}\n",
      "{\"status\":\"100\",\"message\":\"corp_code가 없는 경우 검색기간은 3개월만 가능합니다.\"}\n"
     ]
    },
    {
     "name": "stderr",
     "output_type": "stream",
     "text": [
      " 84%|████████▍ | 864/1023 [01:15<00:15, 10.08it/s]"
     ]
    },
    {
     "name": "stdout",
     "output_type": "stream",
     "text": [
      "{\"status\":\"100\",\"message\":\"corp_code가 없는 경우 검색기간은 3개월만 가능합니다.\"}\n"
     ]
    },
    {
     "name": "stderr",
     "output_type": "stream",
     "text": [
      " 85%|████████▌ | 870/1023 [01:16<00:14, 10.82it/s]"
     ]
    },
    {
     "name": "stdout",
     "output_type": "stream",
     "text": [
      "{\"status\":\"100\",\"message\":\"corp_code가 없는 경우 검색기간은 3개월만 가능합니다.\"}\n"
     ]
    },
    {
     "name": "stderr",
     "output_type": "stream",
     "text": [
      " 85%|████████▌ | 874/1023 [01:16<00:12, 11.51it/s]"
     ]
    },
    {
     "name": "stdout",
     "output_type": "stream",
     "text": [
      "{\"status\":\"013\",\"message\":\"조회된 데이타가 없습니다.\"}\n",
      "{\"status\":\"013\",\"message\":\"조회된 데이타가 없습니다.\"}\n"
     ]
    },
    {
     "name": "stderr",
     "output_type": "stream",
     "text": [
      " 86%|████████▌ | 880/1023 [01:16<00:12, 11.70it/s]"
     ]
    },
    {
     "name": "stdout",
     "output_type": "stream",
     "text": [
      "{\"status\":\"100\",\"message\":\"corp_code가 없는 경우 검색기간은 3개월만 가능합니다.\"}\n"
     ]
    },
    {
     "name": "stderr",
     "output_type": "stream",
     "text": [
      " 90%|█████████ | 923/1023 [01:21<00:08, 12.15it/s]"
     ]
    },
    {
     "name": "stdout",
     "output_type": "stream",
     "text": [
      "{\"status\":\"013\",\"message\":\"조회된 데이타가 없습니다.\"}\n"
     ]
    },
    {
     "name": "stderr",
     "output_type": "stream",
     "text": [
      " 92%|█████████▏| 941/1023 [01:23<00:06, 13.64it/s]"
     ]
    },
    {
     "name": "stdout",
     "output_type": "stream",
     "text": [
      "{\"status\":\"100\",\"message\":\"corp_code가 없는 경우 검색기간은 3개월만 가능합니다.\"}\n",
      "{\"status\":\"013\",\"message\":\"조회된 데이타가 없습니다.\"}\n"
     ]
    },
    {
     "name": "stderr",
     "output_type": "stream",
     "text": [
      " 92%|█████████▏| 945/1023 [01:23<00:05, 14.22it/s]"
     ]
    },
    {
     "name": "stdout",
     "output_type": "stream",
     "text": [
      "{\"status\":\"013\",\"message\":\"조회된 데이타가 없습니다.\"}\n",
      "{\"status\":\"013\",\"message\":\"조회된 데이타가 없습니다.\"}\n"
     ]
    },
    {
     "name": "stderr",
     "output_type": "stream",
     "text": [
      " 93%|█████████▎| 951/1023 [01:23<00:05, 12.67it/s]"
     ]
    },
    {
     "name": "stdout",
     "output_type": "stream",
     "text": [
      "{\"status\":\"013\",\"message\":\"조회된 데이타가 없습니다.\"}\n"
     ]
    },
    {
     "name": "stderr",
     "output_type": "stream",
     "text": [
      " 94%|█████████▎| 957/1023 [01:24<00:04, 13.93it/s]"
     ]
    },
    {
     "name": "stdout",
     "output_type": "stream",
     "text": [
      "{\"status\":\"013\",\"message\":\"조회된 데이타가 없습니다.\"}\n",
      "{\"status\":\"013\",\"message\":\"조회된 데이타가 없습니다.\"}\n"
     ]
    },
    {
     "name": "stderr",
     "output_type": "stream",
     "text": [
      " 96%|█████████▌| 977/1023 [01:25<00:03, 14.21it/s]"
     ]
    },
    {
     "name": "stdout",
     "output_type": "stream",
     "text": [
      "{\"status\":\"013\",\"message\":\"조회된 데이타가 없습니다.\"}\n"
     ]
    },
    {
     "name": "stderr",
     "output_type": "stream",
     "text": [
      " 97%|█████████▋| 989/1023 [01:26<00:02, 13.87it/s]"
     ]
    },
    {
     "name": "stdout",
     "output_type": "stream",
     "text": [
      "{\"status\":\"100\",\"message\":\"corp_code가 없는 경우 검색기간은 3개월만 가능합니다.\"}\n",
      "{\"status\":\"100\",\"message\":\"corp_code가 없는 경우 검색기간은 3개월만 가능합니다.\"}\n"
     ]
    },
    {
     "name": "stderr",
     "output_type": "stream",
     "text": [
      " 97%|█████████▋| 993/1023 [01:26<00:02, 13.90it/s]"
     ]
    },
    {
     "name": "stdout",
     "output_type": "stream",
     "text": [
      "{\"status\":\"100\",\"message\":\"corp_code가 없는 경우 검색기간은 3개월만 가능합니다.\"}\n"
     ]
    },
    {
     "name": "stderr",
     "output_type": "stream",
     "text": [
      " 98%|█████████▊| 1001/1023 [01:27<00:01, 13.22it/s]"
     ]
    },
    {
     "name": "stdout",
     "output_type": "stream",
     "text": [
      "{\"status\":\"013\",\"message\":\"조회된 데이타가 없습니다.\"}\n"
     ]
    },
    {
     "name": "stderr",
     "output_type": "stream",
     "text": [
      " 99%|█████████▉| 1017/1023 [01:28<00:00, 12.12it/s]"
     ]
    },
    {
     "name": "stdout",
     "output_type": "stream",
     "text": [
      "{\"status\":\"013\",\"message\":\"조회된 데이타가 없습니다.\"}\n",
      "{\"status\":\"013\",\"message\":\"조회된 데이타가 없습니다.\"}\n"
     ]
    },
    {
     "name": "stderr",
     "output_type": "stream",
     "text": [
      "100%|█████████▉| 1021/1023 [01:29<00:00, 12.87it/s]"
     ]
    },
    {
     "name": "stdout",
     "output_type": "stream",
     "text": [
      "{\"status\":\"013\",\"message\":\"조회된 데이타가 없습니다.\"}\n",
      "{\"status\":\"013\",\"message\":\"조회된 데이타가 없습니다.\"}\n",
      "{\"status\":\"013\",\"message\":\"조회된 데이타가 없습니다.\"}\n"
     ]
    },
    {
     "name": "stderr",
     "output_type": "stream",
     "text": [
      "100%|██████████| 1023/1023 [01:29<00:00, 11.45it/s]\n"
     ]
    },
    {
     "name": "stdout",
     "output_type": "stream",
     "text": [
      "{\"status\":\"013\",\"message\":\"조회된 데이타가 없습니다.\"}\n"
     ]
    }
   ],
   "source": [
    "folderPath = Path.home().joinpath('Desktop','dataBackUp(211027)')\n",
    "stockN = pd.read_parquet(folderPath/'stockNumberOfSharesDB.parquet')\n",
    "con = stockN.loc[:,'kindOfStock'] == 'commonStock'\n",
    "names = stockN.loc[con, 'name'].unique().tolist()\n",
    "\n",
    "corp_codes = []\n",
    "fail_corp_codes = [] \n",
    "for name in tqdm(names) :\n",
    "    try:\n",
    "        corp_code = dart.find_corp_code(name)\n",
    "        corp_codes.append(corp_code)\n",
    "    except :\n",
    "        fail_corp_codes.append(corp_code)\n",
    "\n",
    "dfs = []\n",
    "fails = []\n",
    "for corp_code in tqdm(corp_codes) :\n",
    "    try:\n",
    "        reportInfoDf = dart.list(corp_code, start='2010-01-01', end='2021-11-01', kind='A', final=False)\n",
    "        addDf = reportInfoDf.report_nm.str.extract(r'\\[?(\\w*)\\]?(사업보고서|반기보고서|분기보고서).*\\((\\d{4}\\.\\d{2})\\)', expand=True).rename(columns={0:'add_info', 1:'kind', 2:'date'})\n",
    "        addedReportInfoDf = pd.concat([reportInfoDf, addDf], axis=1)\n",
    "        addedReportInfoDf = addedReportInfoDf[['corp_code', 'corp_name', 'stock_code','rcept_dt', 'add_info', 'kind', 'date', 'rcept_no']]\n",
    "        con = addedReportInfoDf.loc[:, 'add_info'] == '기재정정'\n",
    "        checkDf = addedReportInfoDf.loc[~con].sort_values(by='rcept_dt').reset_index(drop=True)\n",
    "        checkDf = checkDf.assign(current_m = checkDf.date.str.extract(r'\\d{4}.(\\d{2})'))\n",
    "        checkDf = checkDf.assign(before_m = checkDf.current_m.shift(1))\n",
    "        checkDf['test_result'] = checkDf.apply(lambda row : 'correct' if row.name==0 else checkOrder(row['current_m'], row['before_m']), axis=1, result_type='expand')\n",
    "        dfs.append(checkDf)\n",
    "    except :\n",
    "        fails.append(corp_code)\n",
    "total_result = pd.concat(dfs)"
   ]
  },
  {
   "cell_type": "code",
   "execution_count": 42,
   "metadata": {},
   "outputs": [
    {
     "data": {
      "text/plain": [
       "[None,\n",
       " '00164803',\n",
       " None,\n",
       " None,\n",
       " '00892650',\n",
       " None,\n",
       " None,\n",
       " None,\n",
       " None,\n",
       " None,\n",
       " '00367862',\n",
       " '00521220',\n",
       " None,\n",
       " '00104005',\n",
       " None,\n",
       " None,\n",
       " None,\n",
       " '01217139',\n",
       " None,\n",
       " '00991359',\n",
       " None,\n",
       " None,\n",
       " None,\n",
       " '00174457',\n",
       " None,\n",
       " None,\n",
       " None,\n",
       " None,\n",
       " None,\n",
       " None,\n",
       " None,\n",
       " None,\n",
       " None,\n",
       " None,\n",
       " '01312878',\n",
       " None,\n",
       " '00166050',\n",
       " None,\n",
       " None,\n",
       " None,\n",
       " None,\n",
       " '01333561',\n",
       " None,\n",
       " None,\n",
       " None,\n",
       " None,\n",
       " '00185514',\n",
       " '01016761',\n",
       " None,\n",
       " '00387194',\n",
       " None,\n",
       " None,\n",
       " '00577423',\n",
       " None,\n",
       " None,\n",
       " '01466805',\n",
       " '01029464',\n",
       " None,\n",
       " '00137863',\n",
       " '00318617',\n",
       " None,\n",
       " None,\n",
       " None,\n",
       " None,\n",
       " None,\n",
       " None,\n",
       " None,\n",
       " None,\n",
       " None,\n",
       " None,\n",
       " '00815280',\n",
       " None,\n",
       " '00262196',\n",
       " '00833675',\n",
       " None,\n",
       " None,\n",
       " None,\n",
       " '01499654',\n",
       " None,\n",
       " None,\n",
       " '01581168',\n",
       " None,\n",
       " None,\n",
       " None,\n",
       " None,\n",
       " '00868583',\n",
       " '00814096',\n",
       " None,\n",
       " None,\n",
       " None,\n",
       " '00520799',\n",
       " None,\n",
       " '00109259',\n",
       " None,\n",
       " None,\n",
       " '01088476',\n",
       " None,\n",
       " None,\n",
       " None,\n",
       " None,\n",
       " None,\n",
       " None,\n",
       " None,\n",
       " '00306205',\n",
       " None,\n",
       " None,\n",
       " '00863348',\n",
       " None,\n",
       " None,\n",
       " None,\n",
       " None,\n",
       " '00435297',\n",
       " '00139418',\n",
       " None,\n",
       " None,\n",
       " None,\n",
       " None,\n",
       " None,\n",
       " None,\n",
       " '00973308',\n",
       " '01172270',\n",
       " None,\n",
       " None,\n",
       " None,\n",
       " None,\n",
       " None,\n",
       " '00600013',\n",
       " None,\n",
       " '00626710',\n",
       " None,\n",
       " '00665135',\n",
       " None,\n",
       " '01467770',\n",
       " '00123912',\n",
       " '00486556',\n",
       " '00567569',\n",
       " '00154189',\n",
       " '00627533',\n",
       " None,\n",
       " None,\n",
       " '00482125',\n",
       " '00863339',\n",
       " '00819596',\n",
       " '00828257',\n",
       " None,\n",
       " None,\n",
       " None,\n",
       " '00236410',\n",
       " None,\n",
       " '00818339',\n",
       " None,\n",
       " None,\n",
       " None,\n",
       " None,\n",
       " '00968971',\n",
       " None,\n",
       " '00836210',\n",
       " None,\n",
       " None,\n",
       " None,\n",
       " None,\n",
       " None,\n",
       " None,\n",
       " '00530486',\n",
       " '00605568',\n",
       " '00148267',\n",
       " None,\n",
       " '00563961',\n",
       " None,\n",
       " None,\n",
       " '00535825',\n",
       " None,\n",
       " '00269296',\n",
       " '01404896',\n",
       " '00300414',\n",
       " None,\n",
       " '00409478',\n",
       " None,\n",
       " None,\n",
       " None,\n",
       " None,\n",
       " None,\n",
       " '01547252',\n",
       " None,\n",
       " None,\n",
       " None,\n",
       " None,\n",
       " None,\n",
       " None,\n",
       " '00410049',\n",
       " '00245357',\n",
       " None,\n",
       " None,\n",
       " '00164706',\n",
       " '01221868',\n",
       " '00238588',\n",
       " None,\n",
       " '00432315',\n",
       " '00677918',\n",
       " None,\n",
       " None,\n",
       " None,\n",
       " None,\n",
       " '00962348',\n",
       " '00131203',\n",
       " None,\n",
       " None,\n",
       " None,\n",
       " None,\n",
       " '00253356',\n",
       " '00406709',\n",
       " '00489775',\n",
       " '00490832',\n",
       " '00261708',\n",
       " None,\n",
       " '00507938',\n",
       " None,\n",
       " None,\n",
       " '00487874',\n",
       " None,\n",
       " None,\n",
       " '00224585',\n",
       " '00563651',\n",
       " None,\n",
       " None,\n",
       " '00178763',\n",
       " '00421434',\n",
       " None,\n",
       " '01174773',\n",
       " '01014781',\n",
       " '00929671',\n",
       " '00590211',\n",
       " '00970958',\n",
       " None,\n",
       " None,\n",
       " None,\n",
       " None,\n",
       " None,\n",
       " None,\n",
       " '01171776',\n",
       " '00509079',\n",
       " None,\n",
       " None,\n",
       " None,\n",
       " None,\n",
       " None,\n",
       " '00562917',\n",
       " None,\n",
       " None,\n",
       " None,\n",
       " None,\n",
       " '00907013',\n",
       " None,\n",
       " None,\n",
       " None,\n",
       " '00495129',\n",
       " '00960641',\n",
       " None,\n",
       " '00428321',\n",
       " '01019032',\n",
       " None,\n",
       " '00441854',\n",
       " '00440907',\n",
       " '00918444',\n",
       " '01142729',\n",
       " '00299321',\n",
       " '00421045',\n",
       " '00544452',\n",
       " '00277499',\n",
       " '01391033',\n",
       " None,\n",
       " None,\n",
       " None,\n",
       " '01437292',\n",
       " '01430475',\n",
       " '00293716',\n",
       " '01437186',\n",
       " '00534598',\n",
       " '00486705',\n",
       " '01475609',\n",
       " '00972503',\n",
       " '01535150',\n",
       " '01323032']"
      ]
     },
     "execution_count": 42,
     "metadata": {},
     "output_type": "execute_result"
    }
   ],
   "source": [
    "fails"
   ]
  },
  {
   "cell_type": "code",
   "execution_count": 41,
   "metadata": {},
   "outputs": [],
   "source": [
    "# 삼성전자 1999년~2019년 모든 정기보고서(최종보고서) (82건)\n",
    "reportInfoDf = dart.list('005930', start='2010-01-01', end='2021-11-01', kind='A', final=False)"
   ]
  },
  {
   "cell_type": "code",
   "execution_count": 88,
   "metadata": {},
   "outputs": [
    {
     "data": {
      "text/html": [
       "<div>\n",
       "<style scoped>\n",
       "    .dataframe tbody tr th:only-of-type {\n",
       "        vertical-align: middle;\n",
       "    }\n",
       "\n",
       "    .dataframe tbody tr th {\n",
       "        vertical-align: top;\n",
       "    }\n",
       "\n",
       "    .dataframe thead th {\n",
       "        text-align: right;\n",
       "    }\n",
       "</style>\n",
       "<table border=\"1\" class=\"dataframe\">\n",
       "  <thead>\n",
       "    <tr style=\"text-align: right;\">\n",
       "      <th></th>\n",
       "      <th>corp_code</th>\n",
       "      <th>corp_name</th>\n",
       "      <th>stock_code</th>\n",
       "      <th>rcept_dt</th>\n",
       "      <th>add_info</th>\n",
       "      <th>kind</th>\n",
       "      <th>date</th>\n",
       "      <th>rcept_no</th>\n",
       "    </tr>\n",
       "  </thead>\n",
       "  <tbody>\n",
       "    <tr>\n",
       "      <th>0</th>\n",
       "      <td>00126380</td>\n",
       "      <td>삼성전자</td>\n",
       "      <td>005930</td>\n",
       "      <td>20210817</td>\n",
       "      <td></td>\n",
       "      <td>반기보고서</td>\n",
       "      <td>2021.06</td>\n",
       "      <td>20210817001416</td>\n",
       "    </tr>\n",
       "    <tr>\n",
       "      <th>1</th>\n",
       "      <td>00126380</td>\n",
       "      <td>삼성전자</td>\n",
       "      <td>005930</td>\n",
       "      <td>20210517</td>\n",
       "      <td></td>\n",
       "      <td>분기보고서</td>\n",
       "      <td>2021.03</td>\n",
       "      <td>20210517001185</td>\n",
       "    </tr>\n",
       "    <tr>\n",
       "      <th>2</th>\n",
       "      <td>00126380</td>\n",
       "      <td>삼성전자</td>\n",
       "      <td>005930</td>\n",
       "      <td>20210309</td>\n",
       "      <td></td>\n",
       "      <td>사업보고서</td>\n",
       "      <td>2020.12</td>\n",
       "      <td>20210309000744</td>\n",
       "    </tr>\n",
       "    <tr>\n",
       "      <th>3</th>\n",
       "      <td>00126380</td>\n",
       "      <td>삼성전자</td>\n",
       "      <td>005930</td>\n",
       "      <td>20201116</td>\n",
       "      <td></td>\n",
       "      <td>분기보고서</td>\n",
       "      <td>2020.09</td>\n",
       "      <td>20201116001248</td>\n",
       "    </tr>\n",
       "    <tr>\n",
       "      <th>4</th>\n",
       "      <td>00126380</td>\n",
       "      <td>삼성전자</td>\n",
       "      <td>005930</td>\n",
       "      <td>20200814</td>\n",
       "      <td></td>\n",
       "      <td>반기보고서</td>\n",
       "      <td>2020.06</td>\n",
       "      <td>20200814001766</td>\n",
       "    </tr>\n",
       "    <tr>\n",
       "      <th>5</th>\n",
       "      <td>00126380</td>\n",
       "      <td>삼성전자</td>\n",
       "      <td>005930</td>\n",
       "      <td>20200515</td>\n",
       "      <td></td>\n",
       "      <td>분기보고서</td>\n",
       "      <td>2020.03</td>\n",
       "      <td>20200515001451</td>\n",
       "    </tr>\n",
       "    <tr>\n",
       "      <th>6</th>\n",
       "      <td>00126380</td>\n",
       "      <td>삼성전자</td>\n",
       "      <td>005930</td>\n",
       "      <td>20200330</td>\n",
       "      <td></td>\n",
       "      <td>사업보고서</td>\n",
       "      <td>2019.12</td>\n",
       "      <td>20200330003851</td>\n",
       "    </tr>\n",
       "    <tr>\n",
       "      <th>7</th>\n",
       "      <td>00126380</td>\n",
       "      <td>삼성전자</td>\n",
       "      <td>005930</td>\n",
       "      <td>20191114</td>\n",
       "      <td></td>\n",
       "      <td>분기보고서</td>\n",
       "      <td>2019.09</td>\n",
       "      <td>20191114001273</td>\n",
       "    </tr>\n",
       "    <tr>\n",
       "      <th>8</th>\n",
       "      <td>00126380</td>\n",
       "      <td>삼성전자</td>\n",
       "      <td>005930</td>\n",
       "      <td>20190814</td>\n",
       "      <td></td>\n",
       "      <td>반기보고서</td>\n",
       "      <td>2019.06</td>\n",
       "      <td>20190814002218</td>\n",
       "    </tr>\n",
       "    <tr>\n",
       "      <th>9</th>\n",
       "      <td>00126380</td>\n",
       "      <td>삼성전자</td>\n",
       "      <td>005930</td>\n",
       "      <td>20190515</td>\n",
       "      <td></td>\n",
       "      <td>분기보고서</td>\n",
       "      <td>2019.03</td>\n",
       "      <td>20190515001605</td>\n",
       "    </tr>\n",
       "    <tr>\n",
       "      <th>10</th>\n",
       "      <td>00126380</td>\n",
       "      <td>삼성전자</td>\n",
       "      <td>005930</td>\n",
       "      <td>20190401</td>\n",
       "      <td></td>\n",
       "      <td>사업보고서</td>\n",
       "      <td>2018.12</td>\n",
       "      <td>20190401004781</td>\n",
       "    </tr>\n",
       "    <tr>\n",
       "      <th>11</th>\n",
       "      <td>00126380</td>\n",
       "      <td>삼성전자</td>\n",
       "      <td>005930</td>\n",
       "      <td>20181114</td>\n",
       "      <td></td>\n",
       "      <td>분기보고서</td>\n",
       "      <td>2018.09</td>\n",
       "      <td>20181114001530</td>\n",
       "    </tr>\n",
       "    <tr>\n",
       "      <th>12</th>\n",
       "      <td>00126380</td>\n",
       "      <td>삼성전자</td>\n",
       "      <td>005930</td>\n",
       "      <td>20180814</td>\n",
       "      <td></td>\n",
       "      <td>반기보고서</td>\n",
       "      <td>2018.06</td>\n",
       "      <td>20180814001113</td>\n",
       "    </tr>\n",
       "    <tr>\n",
       "      <th>13</th>\n",
       "      <td>00126380</td>\n",
       "      <td>삼성전자</td>\n",
       "      <td>005930</td>\n",
       "      <td>20180515</td>\n",
       "      <td></td>\n",
       "      <td>분기보고서</td>\n",
       "      <td>2018.03</td>\n",
       "      <td>20180515001699</td>\n",
       "    </tr>\n",
       "    <tr>\n",
       "      <th>14</th>\n",
       "      <td>00126380</td>\n",
       "      <td>삼성전자</td>\n",
       "      <td>005930</td>\n",
       "      <td>20180402</td>\n",
       "      <td></td>\n",
       "      <td>사업보고서</td>\n",
       "      <td>2017.12</td>\n",
       "      <td>20180402005019</td>\n",
       "    </tr>\n",
       "    <tr>\n",
       "      <th>15</th>\n",
       "      <td>00126380</td>\n",
       "      <td>삼성전자</td>\n",
       "      <td>005930</td>\n",
       "      <td>20171114</td>\n",
       "      <td></td>\n",
       "      <td>분기보고서</td>\n",
       "      <td>2017.09</td>\n",
       "      <td>20171114001694</td>\n",
       "    </tr>\n",
       "    <tr>\n",
       "      <th>16</th>\n",
       "      <td>00126380</td>\n",
       "      <td>삼성전자</td>\n",
       "      <td>005930</td>\n",
       "      <td>20170814</td>\n",
       "      <td></td>\n",
       "      <td>반기보고서</td>\n",
       "      <td>2017.06</td>\n",
       "      <td>20170814001832</td>\n",
       "    </tr>\n",
       "    <tr>\n",
       "      <th>17</th>\n",
       "      <td>00126380</td>\n",
       "      <td>삼성전자</td>\n",
       "      <td>005930</td>\n",
       "      <td>20170515</td>\n",
       "      <td></td>\n",
       "      <td>분기보고서</td>\n",
       "      <td>2017.03</td>\n",
       "      <td>20170515003806</td>\n",
       "    </tr>\n",
       "    <tr>\n",
       "      <th>18</th>\n",
       "      <td>00126380</td>\n",
       "      <td>삼성전자</td>\n",
       "      <td>005930</td>\n",
       "      <td>20170331</td>\n",
       "      <td></td>\n",
       "      <td>사업보고서</td>\n",
       "      <td>2016.12</td>\n",
       "      <td>20170331004518</td>\n",
       "    </tr>\n",
       "    <tr>\n",
       "      <th>19</th>\n",
       "      <td>00126380</td>\n",
       "      <td>삼성전자</td>\n",
       "      <td>005930</td>\n",
       "      <td>20161114</td>\n",
       "      <td></td>\n",
       "      <td>분기보고서</td>\n",
       "      <td>2016.09</td>\n",
       "      <td>20161114001491</td>\n",
       "    </tr>\n",
       "    <tr>\n",
       "      <th>20</th>\n",
       "      <td>00126380</td>\n",
       "      <td>삼성전자</td>\n",
       "      <td>005930</td>\n",
       "      <td>20160816</td>\n",
       "      <td></td>\n",
       "      <td>반기보고서</td>\n",
       "      <td>2016.06</td>\n",
       "      <td>20160816001779</td>\n",
       "    </tr>\n",
       "    <tr>\n",
       "      <th>21</th>\n",
       "      <td>00126380</td>\n",
       "      <td>삼성전자</td>\n",
       "      <td>005930</td>\n",
       "      <td>20160516</td>\n",
       "      <td></td>\n",
       "      <td>분기보고서</td>\n",
       "      <td>2016.03</td>\n",
       "      <td>20160516003174</td>\n",
       "    </tr>\n",
       "    <tr>\n",
       "      <th>22</th>\n",
       "      <td>00126380</td>\n",
       "      <td>삼성전자</td>\n",
       "      <td>005930</td>\n",
       "      <td>20160330</td>\n",
       "      <td></td>\n",
       "      <td>사업보고서</td>\n",
       "      <td>2015.12</td>\n",
       "      <td>20160330003536</td>\n",
       "    </tr>\n",
       "    <tr>\n",
       "      <th>23</th>\n",
       "      <td>00126380</td>\n",
       "      <td>삼성전자</td>\n",
       "      <td>005930</td>\n",
       "      <td>20151116</td>\n",
       "      <td></td>\n",
       "      <td>분기보고서</td>\n",
       "      <td>2015.09</td>\n",
       "      <td>20151116000976</td>\n",
       "    </tr>\n",
       "    <tr>\n",
       "      <th>24</th>\n",
       "      <td>00126380</td>\n",
       "      <td>삼성전자</td>\n",
       "      <td>005930</td>\n",
       "      <td>20150817</td>\n",
       "      <td></td>\n",
       "      <td>반기보고서</td>\n",
       "      <td>2015.06</td>\n",
       "      <td>20150817000859</td>\n",
       "    </tr>\n",
       "    <tr>\n",
       "      <th>25</th>\n",
       "      <td>00126380</td>\n",
       "      <td>삼성전자</td>\n",
       "      <td>005930</td>\n",
       "      <td>20150515</td>\n",
       "      <td></td>\n",
       "      <td>분기보고서</td>\n",
       "      <td>2015.03</td>\n",
       "      <td>20150515001379</td>\n",
       "    </tr>\n",
       "    <tr>\n",
       "      <th>26</th>\n",
       "      <td>00126380</td>\n",
       "      <td>삼성전자</td>\n",
       "      <td>005930</td>\n",
       "      <td>20150331</td>\n",
       "      <td></td>\n",
       "      <td>사업보고서</td>\n",
       "      <td>2014.12</td>\n",
       "      <td>20150331002915</td>\n",
       "    </tr>\n",
       "    <tr>\n",
       "      <th>27</th>\n",
       "      <td>00126380</td>\n",
       "      <td>삼성전자</td>\n",
       "      <td>005930</td>\n",
       "      <td>20141114</td>\n",
       "      <td></td>\n",
       "      <td>분기보고서</td>\n",
       "      <td>2014.09</td>\n",
       "      <td>20141114000755</td>\n",
       "    </tr>\n",
       "    <tr>\n",
       "      <th>28</th>\n",
       "      <td>00126380</td>\n",
       "      <td>삼성전자</td>\n",
       "      <td>005930</td>\n",
       "      <td>20140814</td>\n",
       "      <td></td>\n",
       "      <td>반기보고서</td>\n",
       "      <td>2014.06</td>\n",
       "      <td>20140814000743</td>\n",
       "    </tr>\n",
       "    <tr>\n",
       "      <th>29</th>\n",
       "      <td>00126380</td>\n",
       "      <td>삼성전자</td>\n",
       "      <td>005930</td>\n",
       "      <td>20140515</td>\n",
       "      <td></td>\n",
       "      <td>분기보고서</td>\n",
       "      <td>2014.03</td>\n",
       "      <td>20140515001057</td>\n",
       "    </tr>\n",
       "    <tr>\n",
       "      <th>30</th>\n",
       "      <td>00126380</td>\n",
       "      <td>삼성전자</td>\n",
       "      <td>005930</td>\n",
       "      <td>20140331</td>\n",
       "      <td></td>\n",
       "      <td>사업보고서</td>\n",
       "      <td>2013.12</td>\n",
       "      <td>20140331002427</td>\n",
       "    </tr>\n",
       "    <tr>\n",
       "      <th>31</th>\n",
       "      <td>00126380</td>\n",
       "      <td>삼성전자</td>\n",
       "      <td>005930</td>\n",
       "      <td>20131114</td>\n",
       "      <td></td>\n",
       "      <td>분기보고서</td>\n",
       "      <td>2013.09</td>\n",
       "      <td>20131114000520</td>\n",
       "    </tr>\n",
       "    <tr>\n",
       "      <th>32</th>\n",
       "      <td>00126380</td>\n",
       "      <td>삼성전자</td>\n",
       "      <td>005930</td>\n",
       "      <td>20130814</td>\n",
       "      <td></td>\n",
       "      <td>반기보고서</td>\n",
       "      <td>2013.06</td>\n",
       "      <td>20130814000618</td>\n",
       "    </tr>\n",
       "    <tr>\n",
       "      <th>33</th>\n",
       "      <td>00126380</td>\n",
       "      <td>삼성전자</td>\n",
       "      <td>005930</td>\n",
       "      <td>20130515</td>\n",
       "      <td></td>\n",
       "      <td>분기보고서</td>\n",
       "      <td>2013.03</td>\n",
       "      <td>20130515000677</td>\n",
       "    </tr>\n",
       "    <tr>\n",
       "      <th>34</th>\n",
       "      <td>00126380</td>\n",
       "      <td>삼성전자</td>\n",
       "      <td>005930</td>\n",
       "      <td>20130401</td>\n",
       "      <td></td>\n",
       "      <td>사업보고서</td>\n",
       "      <td>2012.12</td>\n",
       "      <td>20130401003031</td>\n",
       "    </tr>\n",
       "    <tr>\n",
       "      <th>35</th>\n",
       "      <td>00126380</td>\n",
       "      <td>삼성전자</td>\n",
       "      <td>005930</td>\n",
       "      <td>20121114</td>\n",
       "      <td></td>\n",
       "      <td>분기보고서</td>\n",
       "      <td>2012.09</td>\n",
       "      <td>20121114000975</td>\n",
       "    </tr>\n",
       "    <tr>\n",
       "      <th>36</th>\n",
       "      <td>00126380</td>\n",
       "      <td>삼성전자</td>\n",
       "      <td>005930</td>\n",
       "      <td>20120814</td>\n",
       "      <td></td>\n",
       "      <td>반기보고서</td>\n",
       "      <td>2012.06</td>\n",
       "      <td>20120814001232</td>\n",
       "    </tr>\n",
       "    <tr>\n",
       "      <th>37</th>\n",
       "      <td>00126380</td>\n",
       "      <td>삼성전자</td>\n",
       "      <td>005930</td>\n",
       "      <td>20120330</td>\n",
       "      <td>첨부추가</td>\n",
       "      <td>사업보고서</td>\n",
       "      <td>2011.12</td>\n",
       "      <td>20120330002110</td>\n",
       "    </tr>\n",
       "    <tr>\n",
       "      <th>38</th>\n",
       "      <td>00126380</td>\n",
       "      <td>삼성전자</td>\n",
       "      <td>005930</td>\n",
       "      <td>20120515</td>\n",
       "      <td></td>\n",
       "      <td>분기보고서</td>\n",
       "      <td>2012.03</td>\n",
       "      <td>20120515001281</td>\n",
       "    </tr>\n",
       "    <tr>\n",
       "      <th>39</th>\n",
       "      <td>00126380</td>\n",
       "      <td>삼성전자</td>\n",
       "      <td>005930</td>\n",
       "      <td>20111129</td>\n",
       "      <td></td>\n",
       "      <td>분기보고서</td>\n",
       "      <td>2011.09</td>\n",
       "      <td>20111129000501</td>\n",
       "    </tr>\n",
       "    <tr>\n",
       "      <th>40</th>\n",
       "      <td>00126380</td>\n",
       "      <td>삼성전자</td>\n",
       "      <td>005930</td>\n",
       "      <td>20110916</td>\n",
       "      <td>기재정정</td>\n",
       "      <td>반기보고서</td>\n",
       "      <td>2011.06</td>\n",
       "      <td>20110916000072</td>\n",
       "    </tr>\n",
       "    <tr>\n",
       "      <th>41</th>\n",
       "      <td>00126380</td>\n",
       "      <td>삼성전자</td>\n",
       "      <td>005930</td>\n",
       "      <td>20110829</td>\n",
       "      <td></td>\n",
       "      <td>반기보고서</td>\n",
       "      <td>2011.06</td>\n",
       "      <td>20110829000539</td>\n",
       "    </tr>\n",
       "    <tr>\n",
       "      <th>42</th>\n",
       "      <td>00126380</td>\n",
       "      <td>삼성전자</td>\n",
       "      <td>005930</td>\n",
       "      <td>20110331</td>\n",
       "      <td>첨부추가</td>\n",
       "      <td>사업보고서</td>\n",
       "      <td>2010.12</td>\n",
       "      <td>20110331002193</td>\n",
       "    </tr>\n",
       "    <tr>\n",
       "      <th>43</th>\n",
       "      <td>00126380</td>\n",
       "      <td>삼성전자</td>\n",
       "      <td>005930</td>\n",
       "      <td>20110530</td>\n",
       "      <td></td>\n",
       "      <td>분기보고서</td>\n",
       "      <td>2011.03</td>\n",
       "      <td>20110530000628</td>\n",
       "    </tr>\n",
       "    <tr>\n",
       "      <th>44</th>\n",
       "      <td>00126380</td>\n",
       "      <td>삼성전자</td>\n",
       "      <td>005930</td>\n",
       "      <td>20101129</td>\n",
       "      <td></td>\n",
       "      <td>분기보고서</td>\n",
       "      <td>2010.09</td>\n",
       "      <td>20101129000419</td>\n",
       "    </tr>\n",
       "    <tr>\n",
       "      <th>45</th>\n",
       "      <td>00126380</td>\n",
       "      <td>삼성전자</td>\n",
       "      <td>005930</td>\n",
       "      <td>20100830</td>\n",
       "      <td></td>\n",
       "      <td>반기보고서</td>\n",
       "      <td>2010.06</td>\n",
       "      <td>20100830000360</td>\n",
       "    </tr>\n",
       "    <tr>\n",
       "      <th>46</th>\n",
       "      <td>00126380</td>\n",
       "      <td>삼성전자</td>\n",
       "      <td>005930</td>\n",
       "      <td>20100331</td>\n",
       "      <td>첨부추가</td>\n",
       "      <td>사업보고서</td>\n",
       "      <td>2009.12</td>\n",
       "      <td>20100331001680</td>\n",
       "    </tr>\n",
       "    <tr>\n",
       "      <th>47</th>\n",
       "      <td>00126380</td>\n",
       "      <td>삼성전자</td>\n",
       "      <td>005930</td>\n",
       "      <td>20100531</td>\n",
       "      <td></td>\n",
       "      <td>분기보고서</td>\n",
       "      <td>2010.03</td>\n",
       "      <td>20100531001169</td>\n",
       "    </tr>\n",
       "  </tbody>\n",
       "</table>\n",
       "</div>"
      ],
      "text/plain": [
       "   corp_code corp_name stock_code  rcept_dt add_info   kind     date  \\\n",
       "0   00126380      삼성전자     005930  20210817           반기보고서  2021.06   \n",
       "1   00126380      삼성전자     005930  20210517           분기보고서  2021.03   \n",
       "2   00126380      삼성전자     005930  20210309           사업보고서  2020.12   \n",
       "3   00126380      삼성전자     005930  20201116           분기보고서  2020.09   \n",
       "4   00126380      삼성전자     005930  20200814           반기보고서  2020.06   \n",
       "5   00126380      삼성전자     005930  20200515           분기보고서  2020.03   \n",
       "6   00126380      삼성전자     005930  20200330           사업보고서  2019.12   \n",
       "7   00126380      삼성전자     005930  20191114           분기보고서  2019.09   \n",
       "8   00126380      삼성전자     005930  20190814           반기보고서  2019.06   \n",
       "9   00126380      삼성전자     005930  20190515           분기보고서  2019.03   \n",
       "10  00126380      삼성전자     005930  20190401           사업보고서  2018.12   \n",
       "11  00126380      삼성전자     005930  20181114           분기보고서  2018.09   \n",
       "12  00126380      삼성전자     005930  20180814           반기보고서  2018.06   \n",
       "13  00126380      삼성전자     005930  20180515           분기보고서  2018.03   \n",
       "14  00126380      삼성전자     005930  20180402           사업보고서  2017.12   \n",
       "15  00126380      삼성전자     005930  20171114           분기보고서  2017.09   \n",
       "16  00126380      삼성전자     005930  20170814           반기보고서  2017.06   \n",
       "17  00126380      삼성전자     005930  20170515           분기보고서  2017.03   \n",
       "18  00126380      삼성전자     005930  20170331           사업보고서  2016.12   \n",
       "19  00126380      삼성전자     005930  20161114           분기보고서  2016.09   \n",
       "20  00126380      삼성전자     005930  20160816           반기보고서  2016.06   \n",
       "21  00126380      삼성전자     005930  20160516           분기보고서  2016.03   \n",
       "22  00126380      삼성전자     005930  20160330           사업보고서  2015.12   \n",
       "23  00126380      삼성전자     005930  20151116           분기보고서  2015.09   \n",
       "24  00126380      삼성전자     005930  20150817           반기보고서  2015.06   \n",
       "25  00126380      삼성전자     005930  20150515           분기보고서  2015.03   \n",
       "26  00126380      삼성전자     005930  20150331           사업보고서  2014.12   \n",
       "27  00126380      삼성전자     005930  20141114           분기보고서  2014.09   \n",
       "28  00126380      삼성전자     005930  20140814           반기보고서  2014.06   \n",
       "29  00126380      삼성전자     005930  20140515           분기보고서  2014.03   \n",
       "30  00126380      삼성전자     005930  20140331           사업보고서  2013.12   \n",
       "31  00126380      삼성전자     005930  20131114           분기보고서  2013.09   \n",
       "32  00126380      삼성전자     005930  20130814           반기보고서  2013.06   \n",
       "33  00126380      삼성전자     005930  20130515           분기보고서  2013.03   \n",
       "34  00126380      삼성전자     005930  20130401           사업보고서  2012.12   \n",
       "35  00126380      삼성전자     005930  20121114           분기보고서  2012.09   \n",
       "36  00126380      삼성전자     005930  20120814           반기보고서  2012.06   \n",
       "37  00126380      삼성전자     005930  20120330     첨부추가  사업보고서  2011.12   \n",
       "38  00126380      삼성전자     005930  20120515           분기보고서  2012.03   \n",
       "39  00126380      삼성전자     005930  20111129           분기보고서  2011.09   \n",
       "40  00126380      삼성전자     005930  20110916     기재정정  반기보고서  2011.06   \n",
       "41  00126380      삼성전자     005930  20110829           반기보고서  2011.06   \n",
       "42  00126380      삼성전자     005930  20110331     첨부추가  사업보고서  2010.12   \n",
       "43  00126380      삼성전자     005930  20110530           분기보고서  2011.03   \n",
       "44  00126380      삼성전자     005930  20101129           분기보고서  2010.09   \n",
       "45  00126380      삼성전자     005930  20100830           반기보고서  2010.06   \n",
       "46  00126380      삼성전자     005930  20100331     첨부추가  사업보고서  2009.12   \n",
       "47  00126380      삼성전자     005930  20100531           분기보고서  2010.03   \n",
       "\n",
       "          rcept_no  \n",
       "0   20210817001416  \n",
       "1   20210517001185  \n",
       "2   20210309000744  \n",
       "3   20201116001248  \n",
       "4   20200814001766  \n",
       "5   20200515001451  \n",
       "6   20200330003851  \n",
       "7   20191114001273  \n",
       "8   20190814002218  \n",
       "9   20190515001605  \n",
       "10  20190401004781  \n",
       "11  20181114001530  \n",
       "12  20180814001113  \n",
       "13  20180515001699  \n",
       "14  20180402005019  \n",
       "15  20171114001694  \n",
       "16  20170814001832  \n",
       "17  20170515003806  \n",
       "18  20170331004518  \n",
       "19  20161114001491  \n",
       "20  20160816001779  \n",
       "21  20160516003174  \n",
       "22  20160330003536  \n",
       "23  20151116000976  \n",
       "24  20150817000859  \n",
       "25  20150515001379  \n",
       "26  20150331002915  \n",
       "27  20141114000755  \n",
       "28  20140814000743  \n",
       "29  20140515001057  \n",
       "30  20140331002427  \n",
       "31  20131114000520  \n",
       "32  20130814000618  \n",
       "33  20130515000677  \n",
       "34  20130401003031  \n",
       "35  20121114000975  \n",
       "36  20120814001232  \n",
       "37  20120330002110  \n",
       "38  20120515001281  \n",
       "39  20111129000501  \n",
       "40  20110916000072  \n",
       "41  20110829000539  \n",
       "42  20110331002193  \n",
       "43  20110530000628  \n",
       "44  20101129000419  \n",
       "45  20100830000360  \n",
       "46  20100331001680  \n",
       "47  20100531001169  "
      ]
     },
     "execution_count": 88,
     "metadata": {},
     "output_type": "execute_result"
    }
   ],
   "source": [
    "addDf = reportInfoDf.report_nm.str.extract(r'\\[?(\\w*)\\]?(사업보고서|반기보고서|분기보고서).*\\((\\d{4}\\.\\d{2})\\)', expand=True).rename(columns={0:'add_info', 1:'kind', 2:'date'})\n",
    "addedReportInfoDf = pd.concat([reportInfoDf, addDf], axis=1)\n",
    "addedReportInfoDf = addedReportInfoDf[['corp_code', 'corp_name', 'stock_code','rcept_dt', 'add_info', 'kind', 'date', 'rcept_no']]\n",
    "addedReportInfoDf"
   ]
  },
  {
   "cell_type": "code",
   "execution_count": 101,
   "metadata": {},
   "outputs": [],
   "source": [
    "def checkOrder(current_m, before_m):\n",
    "    dic = {'03':'12', '06':'03', '09':'06', '12':'09'}\n",
    "\n",
    "    if dic[current_m] == before_m:\n",
    "        return 'correct'\n",
    "    else :\n",
    "        return 'wrong'"
   ]
  },
  {
   "cell_type": "code",
   "execution_count": 113,
   "metadata": {},
   "outputs": [
    {
     "data": {
      "text/html": [
       "<div>\n",
       "<style scoped>\n",
       "    .dataframe tbody tr th:only-of-type {\n",
       "        vertical-align: middle;\n",
       "    }\n",
       "\n",
       "    .dataframe tbody tr th {\n",
       "        vertical-align: top;\n",
       "    }\n",
       "\n",
       "    .dataframe thead th {\n",
       "        text-align: right;\n",
       "    }\n",
       "</style>\n",
       "<table border=\"1\" class=\"dataframe\">\n",
       "  <thead>\n",
       "    <tr style=\"text-align: right;\">\n",
       "      <th></th>\n",
       "      <th>corp_code</th>\n",
       "      <th>corp_name</th>\n",
       "      <th>stock_code</th>\n",
       "      <th>rcept_dt</th>\n",
       "      <th>add_info</th>\n",
       "      <th>kind</th>\n",
       "      <th>date</th>\n",
       "      <th>rcept_no</th>\n",
       "      <th>current_m</th>\n",
       "      <th>before_m</th>\n",
       "      <th>test_result</th>\n",
       "    </tr>\n",
       "  </thead>\n",
       "  <tbody>\n",
       "    <tr>\n",
       "      <th>0</th>\n",
       "      <td>00126380</td>\n",
       "      <td>삼성전자</td>\n",
       "      <td>005930</td>\n",
       "      <td>20100331</td>\n",
       "      <td>첨부추가</td>\n",
       "      <td>사업보고서</td>\n",
       "      <td>2009.12</td>\n",
       "      <td>20100331001680</td>\n",
       "      <td>12</td>\n",
       "      <td>NaN</td>\n",
       "      <td>correct</td>\n",
       "    </tr>\n",
       "    <tr>\n",
       "      <th>1</th>\n",
       "      <td>00126380</td>\n",
       "      <td>삼성전자</td>\n",
       "      <td>005930</td>\n",
       "      <td>20100531</td>\n",
       "      <td></td>\n",
       "      <td>분기보고서</td>\n",
       "      <td>2010.03</td>\n",
       "      <td>20100531001169</td>\n",
       "      <td>03</td>\n",
       "      <td>12</td>\n",
       "      <td>correct</td>\n",
       "    </tr>\n",
       "    <tr>\n",
       "      <th>2</th>\n",
       "      <td>00126380</td>\n",
       "      <td>삼성전자</td>\n",
       "      <td>005930</td>\n",
       "      <td>20100830</td>\n",
       "      <td></td>\n",
       "      <td>반기보고서</td>\n",
       "      <td>2010.06</td>\n",
       "      <td>20100830000360</td>\n",
       "      <td>06</td>\n",
       "      <td>03</td>\n",
       "      <td>correct</td>\n",
       "    </tr>\n",
       "    <tr>\n",
       "      <th>3</th>\n",
       "      <td>00126380</td>\n",
       "      <td>삼성전자</td>\n",
       "      <td>005930</td>\n",
       "      <td>20101129</td>\n",
       "      <td></td>\n",
       "      <td>분기보고서</td>\n",
       "      <td>2010.09</td>\n",
       "      <td>20101129000419</td>\n",
       "      <td>09</td>\n",
       "      <td>06</td>\n",
       "      <td>correct</td>\n",
       "    </tr>\n",
       "    <tr>\n",
       "      <th>4</th>\n",
       "      <td>00126380</td>\n",
       "      <td>삼성전자</td>\n",
       "      <td>005930</td>\n",
       "      <td>20110331</td>\n",
       "      <td>첨부추가</td>\n",
       "      <td>사업보고서</td>\n",
       "      <td>2010.12</td>\n",
       "      <td>20110331002193</td>\n",
       "      <td>12</td>\n",
       "      <td>09</td>\n",
       "      <td>correct</td>\n",
       "    </tr>\n",
       "    <tr>\n",
       "      <th>5</th>\n",
       "      <td>00126380</td>\n",
       "      <td>삼성전자</td>\n",
       "      <td>005930</td>\n",
       "      <td>20110530</td>\n",
       "      <td></td>\n",
       "      <td>분기보고서</td>\n",
       "      <td>2011.03</td>\n",
       "      <td>20110530000628</td>\n",
       "      <td>03</td>\n",
       "      <td>12</td>\n",
       "      <td>correct</td>\n",
       "    </tr>\n",
       "    <tr>\n",
       "      <th>6</th>\n",
       "      <td>00126380</td>\n",
       "      <td>삼성전자</td>\n",
       "      <td>005930</td>\n",
       "      <td>20110829</td>\n",
       "      <td></td>\n",
       "      <td>반기보고서</td>\n",
       "      <td>2011.06</td>\n",
       "      <td>20110829000539</td>\n",
       "      <td>06</td>\n",
       "      <td>03</td>\n",
       "      <td>correct</td>\n",
       "    </tr>\n",
       "    <tr>\n",
       "      <th>7</th>\n",
       "      <td>00126380</td>\n",
       "      <td>삼성전자</td>\n",
       "      <td>005930</td>\n",
       "      <td>20111129</td>\n",
       "      <td></td>\n",
       "      <td>분기보고서</td>\n",
       "      <td>2011.09</td>\n",
       "      <td>20111129000501</td>\n",
       "      <td>09</td>\n",
       "      <td>06</td>\n",
       "      <td>correct</td>\n",
       "    </tr>\n",
       "    <tr>\n",
       "      <th>8</th>\n",
       "      <td>00126380</td>\n",
       "      <td>삼성전자</td>\n",
       "      <td>005930</td>\n",
       "      <td>20120330</td>\n",
       "      <td>첨부추가</td>\n",
       "      <td>사업보고서</td>\n",
       "      <td>2011.12</td>\n",
       "      <td>20120330002110</td>\n",
       "      <td>12</td>\n",
       "      <td>09</td>\n",
       "      <td>correct</td>\n",
       "    </tr>\n",
       "    <tr>\n",
       "      <th>9</th>\n",
       "      <td>00126380</td>\n",
       "      <td>삼성전자</td>\n",
       "      <td>005930</td>\n",
       "      <td>20120515</td>\n",
       "      <td></td>\n",
       "      <td>분기보고서</td>\n",
       "      <td>2012.03</td>\n",
       "      <td>20120515001281</td>\n",
       "      <td>03</td>\n",
       "      <td>12</td>\n",
       "      <td>correct</td>\n",
       "    </tr>\n",
       "    <tr>\n",
       "      <th>10</th>\n",
       "      <td>00126380</td>\n",
       "      <td>삼성전자</td>\n",
       "      <td>005930</td>\n",
       "      <td>20120814</td>\n",
       "      <td></td>\n",
       "      <td>반기보고서</td>\n",
       "      <td>2012.06</td>\n",
       "      <td>20120814001232</td>\n",
       "      <td>06</td>\n",
       "      <td>03</td>\n",
       "      <td>correct</td>\n",
       "    </tr>\n",
       "    <tr>\n",
       "      <th>11</th>\n",
       "      <td>00126380</td>\n",
       "      <td>삼성전자</td>\n",
       "      <td>005930</td>\n",
       "      <td>20121114</td>\n",
       "      <td></td>\n",
       "      <td>분기보고서</td>\n",
       "      <td>2012.09</td>\n",
       "      <td>20121114000975</td>\n",
       "      <td>09</td>\n",
       "      <td>06</td>\n",
       "      <td>correct</td>\n",
       "    </tr>\n",
       "    <tr>\n",
       "      <th>12</th>\n",
       "      <td>00126380</td>\n",
       "      <td>삼성전자</td>\n",
       "      <td>005930</td>\n",
       "      <td>20130401</td>\n",
       "      <td></td>\n",
       "      <td>사업보고서</td>\n",
       "      <td>2012.12</td>\n",
       "      <td>20130401003031</td>\n",
       "      <td>12</td>\n",
       "      <td>09</td>\n",
       "      <td>correct</td>\n",
       "    </tr>\n",
       "    <tr>\n",
       "      <th>13</th>\n",
       "      <td>00126380</td>\n",
       "      <td>삼성전자</td>\n",
       "      <td>005930</td>\n",
       "      <td>20130515</td>\n",
       "      <td></td>\n",
       "      <td>분기보고서</td>\n",
       "      <td>2013.03</td>\n",
       "      <td>20130515000677</td>\n",
       "      <td>03</td>\n",
       "      <td>12</td>\n",
       "      <td>correct</td>\n",
       "    </tr>\n",
       "    <tr>\n",
       "      <th>14</th>\n",
       "      <td>00126380</td>\n",
       "      <td>삼성전자</td>\n",
       "      <td>005930</td>\n",
       "      <td>20130814</td>\n",
       "      <td></td>\n",
       "      <td>반기보고서</td>\n",
       "      <td>2013.06</td>\n",
       "      <td>20130814000618</td>\n",
       "      <td>06</td>\n",
       "      <td>03</td>\n",
       "      <td>correct</td>\n",
       "    </tr>\n",
       "    <tr>\n",
       "      <th>15</th>\n",
       "      <td>00126380</td>\n",
       "      <td>삼성전자</td>\n",
       "      <td>005930</td>\n",
       "      <td>20131114</td>\n",
       "      <td></td>\n",
       "      <td>분기보고서</td>\n",
       "      <td>2013.09</td>\n",
       "      <td>20131114000520</td>\n",
       "      <td>09</td>\n",
       "      <td>06</td>\n",
       "      <td>correct</td>\n",
       "    </tr>\n",
       "    <tr>\n",
       "      <th>16</th>\n",
       "      <td>00126380</td>\n",
       "      <td>삼성전자</td>\n",
       "      <td>005930</td>\n",
       "      <td>20140331</td>\n",
       "      <td></td>\n",
       "      <td>사업보고서</td>\n",
       "      <td>2013.12</td>\n",
       "      <td>20140331002427</td>\n",
       "      <td>12</td>\n",
       "      <td>09</td>\n",
       "      <td>correct</td>\n",
       "    </tr>\n",
       "    <tr>\n",
       "      <th>17</th>\n",
       "      <td>00126380</td>\n",
       "      <td>삼성전자</td>\n",
       "      <td>005930</td>\n",
       "      <td>20140515</td>\n",
       "      <td></td>\n",
       "      <td>분기보고서</td>\n",
       "      <td>2014.03</td>\n",
       "      <td>20140515001057</td>\n",
       "      <td>03</td>\n",
       "      <td>12</td>\n",
       "      <td>correct</td>\n",
       "    </tr>\n",
       "    <tr>\n",
       "      <th>18</th>\n",
       "      <td>00126380</td>\n",
       "      <td>삼성전자</td>\n",
       "      <td>005930</td>\n",
       "      <td>20140814</td>\n",
       "      <td></td>\n",
       "      <td>반기보고서</td>\n",
       "      <td>2014.06</td>\n",
       "      <td>20140814000743</td>\n",
       "      <td>06</td>\n",
       "      <td>03</td>\n",
       "      <td>correct</td>\n",
       "    </tr>\n",
       "    <tr>\n",
       "      <th>19</th>\n",
       "      <td>00126380</td>\n",
       "      <td>삼성전자</td>\n",
       "      <td>005930</td>\n",
       "      <td>20141114</td>\n",
       "      <td></td>\n",
       "      <td>분기보고서</td>\n",
       "      <td>2014.09</td>\n",
       "      <td>20141114000755</td>\n",
       "      <td>09</td>\n",
       "      <td>06</td>\n",
       "      <td>correct</td>\n",
       "    </tr>\n",
       "    <tr>\n",
       "      <th>20</th>\n",
       "      <td>00126380</td>\n",
       "      <td>삼성전자</td>\n",
       "      <td>005930</td>\n",
       "      <td>20150331</td>\n",
       "      <td></td>\n",
       "      <td>사업보고서</td>\n",
       "      <td>2014.12</td>\n",
       "      <td>20150331002915</td>\n",
       "      <td>12</td>\n",
       "      <td>09</td>\n",
       "      <td>correct</td>\n",
       "    </tr>\n",
       "    <tr>\n",
       "      <th>21</th>\n",
       "      <td>00126380</td>\n",
       "      <td>삼성전자</td>\n",
       "      <td>005930</td>\n",
       "      <td>20150515</td>\n",
       "      <td></td>\n",
       "      <td>분기보고서</td>\n",
       "      <td>2015.03</td>\n",
       "      <td>20150515001379</td>\n",
       "      <td>03</td>\n",
       "      <td>12</td>\n",
       "      <td>correct</td>\n",
       "    </tr>\n",
       "    <tr>\n",
       "      <th>22</th>\n",
       "      <td>00126380</td>\n",
       "      <td>삼성전자</td>\n",
       "      <td>005930</td>\n",
       "      <td>20150817</td>\n",
       "      <td></td>\n",
       "      <td>반기보고서</td>\n",
       "      <td>2015.06</td>\n",
       "      <td>20150817000859</td>\n",
       "      <td>06</td>\n",
       "      <td>03</td>\n",
       "      <td>correct</td>\n",
       "    </tr>\n",
       "    <tr>\n",
       "      <th>23</th>\n",
       "      <td>00126380</td>\n",
       "      <td>삼성전자</td>\n",
       "      <td>005930</td>\n",
       "      <td>20151116</td>\n",
       "      <td></td>\n",
       "      <td>분기보고서</td>\n",
       "      <td>2015.09</td>\n",
       "      <td>20151116000976</td>\n",
       "      <td>09</td>\n",
       "      <td>06</td>\n",
       "      <td>correct</td>\n",
       "    </tr>\n",
       "    <tr>\n",
       "      <th>24</th>\n",
       "      <td>00126380</td>\n",
       "      <td>삼성전자</td>\n",
       "      <td>005930</td>\n",
       "      <td>20160330</td>\n",
       "      <td></td>\n",
       "      <td>사업보고서</td>\n",
       "      <td>2015.12</td>\n",
       "      <td>20160330003536</td>\n",
       "      <td>12</td>\n",
       "      <td>09</td>\n",
       "      <td>correct</td>\n",
       "    </tr>\n",
       "    <tr>\n",
       "      <th>25</th>\n",
       "      <td>00126380</td>\n",
       "      <td>삼성전자</td>\n",
       "      <td>005930</td>\n",
       "      <td>20160516</td>\n",
       "      <td></td>\n",
       "      <td>분기보고서</td>\n",
       "      <td>2016.03</td>\n",
       "      <td>20160516003174</td>\n",
       "      <td>03</td>\n",
       "      <td>12</td>\n",
       "      <td>correct</td>\n",
       "    </tr>\n",
       "    <tr>\n",
       "      <th>26</th>\n",
       "      <td>00126380</td>\n",
       "      <td>삼성전자</td>\n",
       "      <td>005930</td>\n",
       "      <td>20160816</td>\n",
       "      <td></td>\n",
       "      <td>반기보고서</td>\n",
       "      <td>2016.06</td>\n",
       "      <td>20160816001779</td>\n",
       "      <td>06</td>\n",
       "      <td>03</td>\n",
       "      <td>correct</td>\n",
       "    </tr>\n",
       "    <tr>\n",
       "      <th>27</th>\n",
       "      <td>00126380</td>\n",
       "      <td>삼성전자</td>\n",
       "      <td>005930</td>\n",
       "      <td>20161114</td>\n",
       "      <td></td>\n",
       "      <td>분기보고서</td>\n",
       "      <td>2016.09</td>\n",
       "      <td>20161114001491</td>\n",
       "      <td>09</td>\n",
       "      <td>06</td>\n",
       "      <td>correct</td>\n",
       "    </tr>\n",
       "    <tr>\n",
       "      <th>28</th>\n",
       "      <td>00126380</td>\n",
       "      <td>삼성전자</td>\n",
       "      <td>005930</td>\n",
       "      <td>20170331</td>\n",
       "      <td></td>\n",
       "      <td>사업보고서</td>\n",
       "      <td>2016.12</td>\n",
       "      <td>20170331004518</td>\n",
       "      <td>12</td>\n",
       "      <td>09</td>\n",
       "      <td>correct</td>\n",
       "    </tr>\n",
       "    <tr>\n",
       "      <th>29</th>\n",
       "      <td>00126380</td>\n",
       "      <td>삼성전자</td>\n",
       "      <td>005930</td>\n",
       "      <td>20170515</td>\n",
       "      <td></td>\n",
       "      <td>분기보고서</td>\n",
       "      <td>2017.03</td>\n",
       "      <td>20170515003806</td>\n",
       "      <td>03</td>\n",
       "      <td>12</td>\n",
       "      <td>correct</td>\n",
       "    </tr>\n",
       "    <tr>\n",
       "      <th>30</th>\n",
       "      <td>00126380</td>\n",
       "      <td>삼성전자</td>\n",
       "      <td>005930</td>\n",
       "      <td>20170814</td>\n",
       "      <td></td>\n",
       "      <td>반기보고서</td>\n",
       "      <td>2017.06</td>\n",
       "      <td>20170814001832</td>\n",
       "      <td>06</td>\n",
       "      <td>03</td>\n",
       "      <td>correct</td>\n",
       "    </tr>\n",
       "    <tr>\n",
       "      <th>31</th>\n",
       "      <td>00126380</td>\n",
       "      <td>삼성전자</td>\n",
       "      <td>005930</td>\n",
       "      <td>20171114</td>\n",
       "      <td></td>\n",
       "      <td>분기보고서</td>\n",
       "      <td>2017.09</td>\n",
       "      <td>20171114001694</td>\n",
       "      <td>09</td>\n",
       "      <td>06</td>\n",
       "      <td>correct</td>\n",
       "    </tr>\n",
       "    <tr>\n",
       "      <th>32</th>\n",
       "      <td>00126380</td>\n",
       "      <td>삼성전자</td>\n",
       "      <td>005930</td>\n",
       "      <td>20180402</td>\n",
       "      <td></td>\n",
       "      <td>사업보고서</td>\n",
       "      <td>2017.12</td>\n",
       "      <td>20180402005019</td>\n",
       "      <td>12</td>\n",
       "      <td>09</td>\n",
       "      <td>correct</td>\n",
       "    </tr>\n",
       "    <tr>\n",
       "      <th>33</th>\n",
       "      <td>00126380</td>\n",
       "      <td>삼성전자</td>\n",
       "      <td>005930</td>\n",
       "      <td>20180515</td>\n",
       "      <td></td>\n",
       "      <td>분기보고서</td>\n",
       "      <td>2018.03</td>\n",
       "      <td>20180515001699</td>\n",
       "      <td>03</td>\n",
       "      <td>12</td>\n",
       "      <td>correct</td>\n",
       "    </tr>\n",
       "    <tr>\n",
       "      <th>34</th>\n",
       "      <td>00126380</td>\n",
       "      <td>삼성전자</td>\n",
       "      <td>005930</td>\n",
       "      <td>20180814</td>\n",
       "      <td></td>\n",
       "      <td>반기보고서</td>\n",
       "      <td>2018.06</td>\n",
       "      <td>20180814001113</td>\n",
       "      <td>06</td>\n",
       "      <td>03</td>\n",
       "      <td>correct</td>\n",
       "    </tr>\n",
       "    <tr>\n",
       "      <th>35</th>\n",
       "      <td>00126380</td>\n",
       "      <td>삼성전자</td>\n",
       "      <td>005930</td>\n",
       "      <td>20181114</td>\n",
       "      <td></td>\n",
       "      <td>분기보고서</td>\n",
       "      <td>2018.09</td>\n",
       "      <td>20181114001530</td>\n",
       "      <td>09</td>\n",
       "      <td>06</td>\n",
       "      <td>correct</td>\n",
       "    </tr>\n",
       "    <tr>\n",
       "      <th>36</th>\n",
       "      <td>00126380</td>\n",
       "      <td>삼성전자</td>\n",
       "      <td>005930</td>\n",
       "      <td>20190401</td>\n",
       "      <td></td>\n",
       "      <td>사업보고서</td>\n",
       "      <td>2018.12</td>\n",
       "      <td>20190401004781</td>\n",
       "      <td>12</td>\n",
       "      <td>09</td>\n",
       "      <td>correct</td>\n",
       "    </tr>\n",
       "    <tr>\n",
       "      <th>37</th>\n",
       "      <td>00126380</td>\n",
       "      <td>삼성전자</td>\n",
       "      <td>005930</td>\n",
       "      <td>20190515</td>\n",
       "      <td></td>\n",
       "      <td>분기보고서</td>\n",
       "      <td>2019.03</td>\n",
       "      <td>20190515001605</td>\n",
       "      <td>03</td>\n",
       "      <td>12</td>\n",
       "      <td>correct</td>\n",
       "    </tr>\n",
       "    <tr>\n",
       "      <th>38</th>\n",
       "      <td>00126380</td>\n",
       "      <td>삼성전자</td>\n",
       "      <td>005930</td>\n",
       "      <td>20190814</td>\n",
       "      <td></td>\n",
       "      <td>반기보고서</td>\n",
       "      <td>2019.06</td>\n",
       "      <td>20190814002218</td>\n",
       "      <td>06</td>\n",
       "      <td>03</td>\n",
       "      <td>correct</td>\n",
       "    </tr>\n",
       "    <tr>\n",
       "      <th>39</th>\n",
       "      <td>00126380</td>\n",
       "      <td>삼성전자</td>\n",
       "      <td>005930</td>\n",
       "      <td>20191114</td>\n",
       "      <td></td>\n",
       "      <td>분기보고서</td>\n",
       "      <td>2019.09</td>\n",
       "      <td>20191114001273</td>\n",
       "      <td>09</td>\n",
       "      <td>06</td>\n",
       "      <td>correct</td>\n",
       "    </tr>\n",
       "    <tr>\n",
       "      <th>40</th>\n",
       "      <td>00126380</td>\n",
       "      <td>삼성전자</td>\n",
       "      <td>005930</td>\n",
       "      <td>20200330</td>\n",
       "      <td></td>\n",
       "      <td>사업보고서</td>\n",
       "      <td>2019.12</td>\n",
       "      <td>20200330003851</td>\n",
       "      <td>12</td>\n",
       "      <td>09</td>\n",
       "      <td>correct</td>\n",
       "    </tr>\n",
       "    <tr>\n",
       "      <th>41</th>\n",
       "      <td>00126380</td>\n",
       "      <td>삼성전자</td>\n",
       "      <td>005930</td>\n",
       "      <td>20200515</td>\n",
       "      <td></td>\n",
       "      <td>분기보고서</td>\n",
       "      <td>2020.03</td>\n",
       "      <td>20200515001451</td>\n",
       "      <td>03</td>\n",
       "      <td>12</td>\n",
       "      <td>correct</td>\n",
       "    </tr>\n",
       "    <tr>\n",
       "      <th>42</th>\n",
       "      <td>00126380</td>\n",
       "      <td>삼성전자</td>\n",
       "      <td>005930</td>\n",
       "      <td>20200814</td>\n",
       "      <td></td>\n",
       "      <td>반기보고서</td>\n",
       "      <td>2020.06</td>\n",
       "      <td>20200814001766</td>\n",
       "      <td>06</td>\n",
       "      <td>03</td>\n",
       "      <td>correct</td>\n",
       "    </tr>\n",
       "    <tr>\n",
       "      <th>43</th>\n",
       "      <td>00126380</td>\n",
       "      <td>삼성전자</td>\n",
       "      <td>005930</td>\n",
       "      <td>20201116</td>\n",
       "      <td></td>\n",
       "      <td>분기보고서</td>\n",
       "      <td>2020.09</td>\n",
       "      <td>20201116001248</td>\n",
       "      <td>09</td>\n",
       "      <td>06</td>\n",
       "      <td>correct</td>\n",
       "    </tr>\n",
       "    <tr>\n",
       "      <th>44</th>\n",
       "      <td>00126380</td>\n",
       "      <td>삼성전자</td>\n",
       "      <td>005930</td>\n",
       "      <td>20210309</td>\n",
       "      <td></td>\n",
       "      <td>사업보고서</td>\n",
       "      <td>2020.12</td>\n",
       "      <td>20210309000744</td>\n",
       "      <td>12</td>\n",
       "      <td>09</td>\n",
       "      <td>correct</td>\n",
       "    </tr>\n",
       "    <tr>\n",
       "      <th>45</th>\n",
       "      <td>00126380</td>\n",
       "      <td>삼성전자</td>\n",
       "      <td>005930</td>\n",
       "      <td>20210517</td>\n",
       "      <td></td>\n",
       "      <td>분기보고서</td>\n",
       "      <td>2021.03</td>\n",
       "      <td>20210517001185</td>\n",
       "      <td>03</td>\n",
       "      <td>12</td>\n",
       "      <td>correct</td>\n",
       "    </tr>\n",
       "    <tr>\n",
       "      <th>46</th>\n",
       "      <td>00126380</td>\n",
       "      <td>삼성전자</td>\n",
       "      <td>005930</td>\n",
       "      <td>20210817</td>\n",
       "      <td></td>\n",
       "      <td>반기보고서</td>\n",
       "      <td>2021.06</td>\n",
       "      <td>20210817001416</td>\n",
       "      <td>06</td>\n",
       "      <td>03</td>\n",
       "      <td>correct</td>\n",
       "    </tr>\n",
       "  </tbody>\n",
       "</table>\n",
       "</div>"
      ],
      "text/plain": [
       "   corp_code corp_name stock_code  rcept_dt add_info   kind     date  \\\n",
       "0   00126380      삼성전자     005930  20100331     첨부추가  사업보고서  2009.12   \n",
       "1   00126380      삼성전자     005930  20100531           분기보고서  2010.03   \n",
       "2   00126380      삼성전자     005930  20100830           반기보고서  2010.06   \n",
       "3   00126380      삼성전자     005930  20101129           분기보고서  2010.09   \n",
       "4   00126380      삼성전자     005930  20110331     첨부추가  사업보고서  2010.12   \n",
       "5   00126380      삼성전자     005930  20110530           분기보고서  2011.03   \n",
       "6   00126380      삼성전자     005930  20110829           반기보고서  2011.06   \n",
       "7   00126380      삼성전자     005930  20111129           분기보고서  2011.09   \n",
       "8   00126380      삼성전자     005930  20120330     첨부추가  사업보고서  2011.12   \n",
       "9   00126380      삼성전자     005930  20120515           분기보고서  2012.03   \n",
       "10  00126380      삼성전자     005930  20120814           반기보고서  2012.06   \n",
       "11  00126380      삼성전자     005930  20121114           분기보고서  2012.09   \n",
       "12  00126380      삼성전자     005930  20130401           사업보고서  2012.12   \n",
       "13  00126380      삼성전자     005930  20130515           분기보고서  2013.03   \n",
       "14  00126380      삼성전자     005930  20130814           반기보고서  2013.06   \n",
       "15  00126380      삼성전자     005930  20131114           분기보고서  2013.09   \n",
       "16  00126380      삼성전자     005930  20140331           사업보고서  2013.12   \n",
       "17  00126380      삼성전자     005930  20140515           분기보고서  2014.03   \n",
       "18  00126380      삼성전자     005930  20140814           반기보고서  2014.06   \n",
       "19  00126380      삼성전자     005930  20141114           분기보고서  2014.09   \n",
       "20  00126380      삼성전자     005930  20150331           사업보고서  2014.12   \n",
       "21  00126380      삼성전자     005930  20150515           분기보고서  2015.03   \n",
       "22  00126380      삼성전자     005930  20150817           반기보고서  2015.06   \n",
       "23  00126380      삼성전자     005930  20151116           분기보고서  2015.09   \n",
       "24  00126380      삼성전자     005930  20160330           사업보고서  2015.12   \n",
       "25  00126380      삼성전자     005930  20160516           분기보고서  2016.03   \n",
       "26  00126380      삼성전자     005930  20160816           반기보고서  2016.06   \n",
       "27  00126380      삼성전자     005930  20161114           분기보고서  2016.09   \n",
       "28  00126380      삼성전자     005930  20170331           사업보고서  2016.12   \n",
       "29  00126380      삼성전자     005930  20170515           분기보고서  2017.03   \n",
       "30  00126380      삼성전자     005930  20170814           반기보고서  2017.06   \n",
       "31  00126380      삼성전자     005930  20171114           분기보고서  2017.09   \n",
       "32  00126380      삼성전자     005930  20180402           사업보고서  2017.12   \n",
       "33  00126380      삼성전자     005930  20180515           분기보고서  2018.03   \n",
       "34  00126380      삼성전자     005930  20180814           반기보고서  2018.06   \n",
       "35  00126380      삼성전자     005930  20181114           분기보고서  2018.09   \n",
       "36  00126380      삼성전자     005930  20190401           사업보고서  2018.12   \n",
       "37  00126380      삼성전자     005930  20190515           분기보고서  2019.03   \n",
       "38  00126380      삼성전자     005930  20190814           반기보고서  2019.06   \n",
       "39  00126380      삼성전자     005930  20191114           분기보고서  2019.09   \n",
       "40  00126380      삼성전자     005930  20200330           사업보고서  2019.12   \n",
       "41  00126380      삼성전자     005930  20200515           분기보고서  2020.03   \n",
       "42  00126380      삼성전자     005930  20200814           반기보고서  2020.06   \n",
       "43  00126380      삼성전자     005930  20201116           분기보고서  2020.09   \n",
       "44  00126380      삼성전자     005930  20210309           사업보고서  2020.12   \n",
       "45  00126380      삼성전자     005930  20210517           분기보고서  2021.03   \n",
       "46  00126380      삼성전자     005930  20210817           반기보고서  2021.06   \n",
       "\n",
       "          rcept_no current_m before_m test_result  \n",
       "0   20100331001680        12      NaN     correct  \n",
       "1   20100531001169        03       12     correct  \n",
       "2   20100830000360        06       03     correct  \n",
       "3   20101129000419        09       06     correct  \n",
       "4   20110331002193        12       09     correct  \n",
       "5   20110530000628        03       12     correct  \n",
       "6   20110829000539        06       03     correct  \n",
       "7   20111129000501        09       06     correct  \n",
       "8   20120330002110        12       09     correct  \n",
       "9   20120515001281        03       12     correct  \n",
       "10  20120814001232        06       03     correct  \n",
       "11  20121114000975        09       06     correct  \n",
       "12  20130401003031        12       09     correct  \n",
       "13  20130515000677        03       12     correct  \n",
       "14  20130814000618        06       03     correct  \n",
       "15  20131114000520        09       06     correct  \n",
       "16  20140331002427        12       09     correct  \n",
       "17  20140515001057        03       12     correct  \n",
       "18  20140814000743        06       03     correct  \n",
       "19  20141114000755        09       06     correct  \n",
       "20  20150331002915        12       09     correct  \n",
       "21  20150515001379        03       12     correct  \n",
       "22  20150817000859        06       03     correct  \n",
       "23  20151116000976        09       06     correct  \n",
       "24  20160330003536        12       09     correct  \n",
       "25  20160516003174        03       12     correct  \n",
       "26  20160816001779        06       03     correct  \n",
       "27  20161114001491        09       06     correct  \n",
       "28  20170331004518        12       09     correct  \n",
       "29  20170515003806        03       12     correct  \n",
       "30  20170814001832        06       03     correct  \n",
       "31  20171114001694        09       06     correct  \n",
       "32  20180402005019        12       09     correct  \n",
       "33  20180515001699        03       12     correct  \n",
       "34  20180814001113        06       03     correct  \n",
       "35  20181114001530        09       06     correct  \n",
       "36  20190401004781        12       09     correct  \n",
       "37  20190515001605        03       12     correct  \n",
       "38  20190814002218        06       03     correct  \n",
       "39  20191114001273        09       06     correct  \n",
       "40  20200330003851        12       09     correct  \n",
       "41  20200515001451        03       12     correct  \n",
       "42  20200814001766        06       03     correct  \n",
       "43  20201116001248        09       06     correct  \n",
       "44  20210309000744        12       09     correct  \n",
       "45  20210517001185        03       12     correct  \n",
       "46  20210817001416        06       03     correct  "
      ]
     },
     "execution_count": 113,
     "metadata": {},
     "output_type": "execute_result"
    }
   ],
   "source": [
    "con = addedReportInfoDf.loc[:, 'add_info'] == '기재정정'\n",
    "checkDf = addedReportInfoDf.loc[~con].sort_values(by='rcept_dt').reset_index(drop=True)\n",
    "checkDf = checkDf.assign(current_m = checkDf.date.str.extract(r'\\d{4}.(\\d{2})'))\n",
    "checkDf = checkDf.assign(before_m = checkDf.current_m.shift(1))\n",
    "checkDf['test_result'] = checkDf.apply(lambda row : 'correct' if row.name==0 else checkOrder(row['current_m'], row['before_m']), axis=1, result_type='expand')\n",
    "checkDf"
   ]
  },
  {
   "cell_type": "code",
   "execution_count": 116,
   "metadata": {},
   "outputs": [],
   "source": [
    "reprt_code = '20210309000744'\n",
    "url = f'https://dart.fss.or.kr/dsaf001/main.do?rcpNo={reprt_code}'\n",
    "r = requests.get(url)\n",
    "if r.status_code == 200 :\n",
    "    string = r.text\n",
    "else :\n",
    "    print('''it's fail''')"
   ]
  },
  {
   "cell_type": "code",
   "execution_count": 117,
   "metadata": {},
   "outputs": [],
   "source": [
    "def get_regex_search_node2(key, scriipt_tag) :\n",
    "    return re.findall(r'node2\\[\\'' + key + '\\'\\]\\s*=\\s*(\".*?\")', scriipt_tag)"
   ]
  },
  {
   "cell_type": "code",
   "execution_count": 118,
   "metadata": {},
   "outputs": [
    {
     "name": "stdout",
     "output_type": "stream",
     "text": [
      "20\n",
      "20\n",
      "20\n",
      "20\n",
      "20\n",
      "20\n",
      "20\n",
      "20\n",
      "20\n"
     ]
    }
   ],
   "source": [
    "text_list = get_regex_search_node2('text', string)\n",
    "id_list = get_regex_search_node2('id', string)\n",
    "rcpNo_list = get_regex_search_node2('rcpNo', string)\n",
    "dcmNo_list = get_regex_search_node2('dcmNo', string)\n",
    "eleId_list = get_regex_search_node2('eleId', string)\n",
    "offset_list = get_regex_search_node2('offset', string)\n",
    "length_list = get_regex_search_node2('length', string)\n",
    "dtd_list = get_regex_search_node2('dtd', string)\n",
    "tocNo_list = get_regex_search_node2('tocNo', string)\n",
    "\n",
    "\n",
    "print(len(text_list))\n",
    "print(len(id_list))\n",
    "print(len(rcpNo_list))\n",
    "print(len(dcmNo_list))\n",
    "print(len(eleId_list))\n",
    "print(len(offset_list))\n",
    "print(len(length_list))\n",
    "print(len(dtd_list))\n",
    "print(len(tocNo_list))\n"
   ]
  },
  {
   "cell_type": "code",
   "execution_count": 119,
   "metadata": {},
   "outputs": [],
   "source": [
    "dic = {'text' : text_list,\n",
    "        'id' : id_list,\n",
    "        'rcpNo' : rcpNo_list, \n",
    "        'dcmNo' : dcmNo_list, \n",
    "        'eleId' : eleId_list, \n",
    "        'offset' : offset_list,\n",
    "        'length' : length_list,\n",
    "        'dtd' : dtd_list,\n",
    "        'tocNo' : tocNo_list,\n",
    "}\n",
    "\n",
    "df = pd.DataFrame(dic)"
   ]
  },
  {
   "cell_type": "code",
   "execution_count": 120,
   "metadata": {},
   "outputs": [
    {
     "data": {
      "text/html": [
       "<div>\n",
       "<style scoped>\n",
       "    .dataframe tbody tr th:only-of-type {\n",
       "        vertical-align: middle;\n",
       "    }\n",
       "\n",
       "    .dataframe tbody tr th {\n",
       "        vertical-align: top;\n",
       "    }\n",
       "\n",
       "    .dataframe thead th {\n",
       "        text-align: right;\n",
       "    }\n",
       "</style>\n",
       "<table border=\"1\" class=\"dataframe\">\n",
       "  <thead>\n",
       "    <tr style=\"text-align: right;\">\n",
       "      <th></th>\n",
       "      <th>text</th>\n",
       "      <th>id</th>\n",
       "      <th>rcpNo</th>\n",
       "      <th>dcmNo</th>\n",
       "      <th>eleId</th>\n",
       "      <th>offset</th>\n",
       "      <th>length</th>\n",
       "      <th>dtd</th>\n",
       "      <th>tocNo</th>\n",
       "    </tr>\n",
       "  </thead>\n",
       "  <tbody>\n",
       "    <tr>\n",
       "      <th>0</th>\n",
       "      <td>1. 회사의 개요</td>\n",
       "      <td>4</td>\n",
       "      <td>20210309000744</td>\n",
       "      <td>7861003</td>\n",
       "      <td>4</td>\n",
       "      <td>13800</td>\n",
       "      <td>241107</td>\n",
       "      <td>dart3.xsd</td>\n",
       "      <td>4</td>\n",
       "    </tr>\n",
       "    <tr>\n",
       "      <th>1</th>\n",
       "      <td>2. 회사의 연혁</td>\n",
       "      <td>5</td>\n",
       "      <td>20210309000744</td>\n",
       "      <td>7861003</td>\n",
       "      <td>5</td>\n",
       "      <td>254911</td>\n",
       "      <td>18093</td>\n",
       "      <td>dart3.xsd</td>\n",
       "      <td>5</td>\n",
       "    </tr>\n",
       "    <tr>\n",
       "      <th>2</th>\n",
       "      <td>3. 자본금 변동사항</td>\n",
       "      <td>6</td>\n",
       "      <td>20210309000744</td>\n",
       "      <td>7861003</td>\n",
       "      <td>6</td>\n",
       "      <td>273008</td>\n",
       "      <td>3576</td>\n",
       "      <td>dart3.xsd</td>\n",
       "      <td>6</td>\n",
       "    </tr>\n",
       "    <tr>\n",
       "      <th>3</th>\n",
       "      <td>4. 주식의 총수 등</td>\n",
       "      <td>7</td>\n",
       "      <td>20210309000744</td>\n",
       "      <td>7861003</td>\n",
       "      <td>7</td>\n",
       "      <td>276588</td>\n",
       "      <td>62302</td>\n",
       "      <td>dart3.xsd</td>\n",
       "      <td>7</td>\n",
       "    </tr>\n",
       "    <tr>\n",
       "      <th>4</th>\n",
       "      <td>5. 의결권 현황</td>\n",
       "      <td>8</td>\n",
       "      <td>20210309000744</td>\n",
       "      <td>7861003</td>\n",
       "      <td>8</td>\n",
       "      <td>338894</td>\n",
       "      <td>7901</td>\n",
       "      <td>dart3.xsd</td>\n",
       "      <td>8</td>\n",
       "    </tr>\n",
       "    <tr>\n",
       "      <th>5</th>\n",
       "      <td>6. 배당에 관한 사항 등</td>\n",
       "      <td>9</td>\n",
       "      <td>20210309000744</td>\n",
       "      <td>7861003</td>\n",
       "      <td>9</td>\n",
       "      <td>346799</td>\n",
       "      <td>18765</td>\n",
       "      <td>dart3.xsd</td>\n",
       "      <td>9</td>\n",
       "    </tr>\n",
       "    <tr>\n",
       "      <th>6</th>\n",
       "      <td>7. 정관에 관한 사항</td>\n",
       "      <td>10</td>\n",
       "      <td>20210309000744</td>\n",
       "      <td>7861003</td>\n",
       "      <td>10</td>\n",
       "      <td>365568</td>\n",
       "      <td>2291</td>\n",
       "      <td>dart3.xsd</td>\n",
       "      <td>10</td>\n",
       "    </tr>\n",
       "    <tr>\n",
       "      <th>7</th>\n",
       "      <td>1. 요약재무정보</td>\n",
       "      <td>13</td>\n",
       "      <td>20210309000744</td>\n",
       "      <td>7861003</td>\n",
       "      <td>13</td>\n",
       "      <td>664835</td>\n",
       "      <td>22260</td>\n",
       "      <td>dart3.xsd</td>\n",
       "      <td>13</td>\n",
       "    </tr>\n",
       "    <tr>\n",
       "      <th>8</th>\n",
       "      <td>2. 연결재무제표</td>\n",
       "      <td>14</td>\n",
       "      <td>20210309000744</td>\n",
       "      <td>7861003</td>\n",
       "      <td>14</td>\n",
       "      <td>687340</td>\n",
       "      <td>115750</td>\n",
       "      <td>dart3.xsd</td>\n",
       "      <td>14</td>\n",
       "    </tr>\n",
       "    <tr>\n",
       "      <th>9</th>\n",
       "      <td>3. 연결재무제표 주석</td>\n",
       "      <td>15</td>\n",
       "      <td>20210309000744</td>\n",
       "      <td>7861003</td>\n",
       "      <td>15</td>\n",
       "      <td>803094</td>\n",
       "      <td>555908</td>\n",
       "      <td>dart3.xsd</td>\n",
       "      <td>15</td>\n",
       "    </tr>\n",
       "    <tr>\n",
       "      <th>10</th>\n",
       "      <td>4. 재무제표</td>\n",
       "      <td>16</td>\n",
       "      <td>20210309000744</td>\n",
       "      <td>7861003</td>\n",
       "      <td>16</td>\n",
       "      <td>1359006</td>\n",
       "      <td>85216</td>\n",
       "      <td>dart3.xsd</td>\n",
       "      <td>16</td>\n",
       "    </tr>\n",
       "    <tr>\n",
       "      <th>11</th>\n",
       "      <td>5. 재무제표 주석</td>\n",
       "      <td>17</td>\n",
       "      <td>20210309000744</td>\n",
       "      <td>7861003</td>\n",
       "      <td>17</td>\n",
       "      <td>1444226</td>\n",
       "      <td>476709</td>\n",
       "      <td>dart3.xsd</td>\n",
       "      <td>17</td>\n",
       "    </tr>\n",
       "    <tr>\n",
       "      <th>12</th>\n",
       "      <td>6. 기타 재무에 관한 사항</td>\n",
       "      <td>18</td>\n",
       "      <td>20210309000744</td>\n",
       "      <td>7861003</td>\n",
       "      <td>18</td>\n",
       "      <td>1920965</td>\n",
       "      <td>239719</td>\n",
       "      <td>dart3.xsd</td>\n",
       "      <td>18</td>\n",
       "    </tr>\n",
       "    <tr>\n",
       "      <th>13</th>\n",
       "      <td>1. 이사회에 관한 사항</td>\n",
       "      <td>22</td>\n",
       "      <td>20210309000744</td>\n",
       "      <td>7861003</td>\n",
       "      <td>22</td>\n",
       "      <td>2295104</td>\n",
       "      <td>117992</td>\n",
       "      <td>dart3.xsd</td>\n",
       "      <td>22</td>\n",
       "    </tr>\n",
       "    <tr>\n",
       "      <th>14</th>\n",
       "      <td>2. 감사제도에 관한 사항</td>\n",
       "      <td>23</td>\n",
       "      <td>20210309000744</td>\n",
       "      <td>7861003</td>\n",
       "      <td>23</td>\n",
       "      <td>2413100</td>\n",
       "      <td>45177</td>\n",
       "      <td>dart3.xsd</td>\n",
       "      <td>23</td>\n",
       "    </tr>\n",
       "    <tr>\n",
       "      <th>15</th>\n",
       "      <td>3. 주주의 의결권 행사에 관한 사항</td>\n",
       "      <td>24</td>\n",
       "      <td>20210309000744</td>\n",
       "      <td>7861003</td>\n",
       "      <td>24</td>\n",
       "      <td>2458281</td>\n",
       "      <td>1496</td>\n",
       "      <td>dart3.xsd</td>\n",
       "      <td>24</td>\n",
       "    </tr>\n",
       "    <tr>\n",
       "      <th>16</th>\n",
       "      <td>1. 임원 및 직원 등의 현황</td>\n",
       "      <td>27</td>\n",
       "      <td>20210309000744</td>\n",
       "      <td>7861003</td>\n",
       "      <td>27</td>\n",
       "      <td>2524279</td>\n",
       "      <td>853089</td>\n",
       "      <td>dart3.xsd</td>\n",
       "      <td>27</td>\n",
       "    </tr>\n",
       "    <tr>\n",
       "      <th>17</th>\n",
       "      <td>2. 임원의 보수 등</td>\n",
       "      <td>28</td>\n",
       "      <td>20210309000744</td>\n",
       "      <td>7861003</td>\n",
       "      <td>28</td>\n",
       "      <td>3377372</td>\n",
       "      <td>67179</td>\n",
       "      <td>dart3.xsd</td>\n",
       "      <td>28</td>\n",
       "    </tr>\n",
       "    <tr>\n",
       "      <th>18</th>\n",
       "      <td>1. 전문가의 확인</td>\n",
       "      <td>33</td>\n",
       "      <td>20210309000744</td>\n",
       "      <td>7861003</td>\n",
       "      <td>33</td>\n",
       "      <td>4139294</td>\n",
       "      <td>112</td>\n",
       "      <td>dart3.xsd</td>\n",
       "      <td>33</td>\n",
       "    </tr>\n",
       "    <tr>\n",
       "      <th>19</th>\n",
       "      <td>2. 전문가와의 이해관계</td>\n",
       "      <td>34</td>\n",
       "      <td>20210309000744</td>\n",
       "      <td>7861003</td>\n",
       "      <td>34</td>\n",
       "      <td>4139410</td>\n",
       "      <td>115</td>\n",
       "      <td>dart3.xsd</td>\n",
       "      <td>34</td>\n",
       "    </tr>\n",
       "  </tbody>\n",
       "</table>\n",
       "</div>"
      ],
      "text/plain": [
       "                    text  id           rcpNo    dcmNo eleId   offset  length  \\\n",
       "0              1. 회사의 개요   4  20210309000744  7861003     4    13800  241107   \n",
       "1              2. 회사의 연혁   5  20210309000744  7861003     5   254911   18093   \n",
       "2            3. 자본금 변동사항   6  20210309000744  7861003     6   273008    3576   \n",
       "3            4. 주식의 총수 등   7  20210309000744  7861003     7   276588   62302   \n",
       "4              5. 의결권 현황   8  20210309000744  7861003     8   338894    7901   \n",
       "5         6. 배당에 관한 사항 등   9  20210309000744  7861003     9   346799   18765   \n",
       "6           7. 정관에 관한 사항  10  20210309000744  7861003    10   365568    2291   \n",
       "7              1. 요약재무정보  13  20210309000744  7861003    13   664835   22260   \n",
       "8              2. 연결재무제표  14  20210309000744  7861003    14   687340  115750   \n",
       "9           3. 연결재무제표 주석  15  20210309000744  7861003    15   803094  555908   \n",
       "10               4. 재무제표  16  20210309000744  7861003    16  1359006   85216   \n",
       "11            5. 재무제표 주석  17  20210309000744  7861003    17  1444226  476709   \n",
       "12       6. 기타 재무에 관한 사항  18  20210309000744  7861003    18  1920965  239719   \n",
       "13         1. 이사회에 관한 사항  22  20210309000744  7861003    22  2295104  117992   \n",
       "14        2. 감사제도에 관한 사항  23  20210309000744  7861003    23  2413100   45177   \n",
       "15  3. 주주의 의결권 행사에 관한 사항  24  20210309000744  7861003    24  2458281    1496   \n",
       "16      1. 임원 및 직원 등의 현황  27  20210309000744  7861003    27  2524279  853089   \n",
       "17           2. 임원의 보수 등  28  20210309000744  7861003    28  3377372   67179   \n",
       "18            1. 전문가의 확인  33  20210309000744  7861003    33  4139294     112   \n",
       "19         2. 전문가와의 이해관계  34  20210309000744  7861003    34  4139410     115   \n",
       "\n",
       "          dtd tocNo  \n",
       "0   dart3.xsd     4  \n",
       "1   dart3.xsd     5  \n",
       "2   dart3.xsd     6  \n",
       "3   dart3.xsd     7  \n",
       "4   dart3.xsd     8  \n",
       "5   dart3.xsd     9  \n",
       "6   dart3.xsd    10  \n",
       "7   dart3.xsd    13  \n",
       "8   dart3.xsd    14  \n",
       "9   dart3.xsd    15  \n",
       "10  dart3.xsd    16  \n",
       "11  dart3.xsd    17  \n",
       "12  dart3.xsd    18  \n",
       "13  dart3.xsd    22  \n",
       "14  dart3.xsd    23  \n",
       "15  dart3.xsd    24  \n",
       "16  dart3.xsd    27  \n",
       "17  dart3.xsd    28  \n",
       "18  dart3.xsd    33  \n",
       "19  dart3.xsd    34  "
      ]
     },
     "execution_count": 120,
     "metadata": {},
     "output_type": "execute_result"
    }
   ],
   "source": [
    "df = df.applymap(lambda x: x.strip('\"'))\n",
    "df"
   ]
  },
  {
   "cell_type": "code",
   "execution_count": 121,
   "metadata": {},
   "outputs": [
    {
     "data": {
      "text/html": [
       "<div>\n",
       "<style scoped>\n",
       "    .dataframe tbody tr th:only-of-type {\n",
       "        vertical-align: middle;\n",
       "    }\n",
       "\n",
       "    .dataframe tbody tr th {\n",
       "        vertical-align: top;\n",
       "    }\n",
       "\n",
       "    .dataframe thead th {\n",
       "        text-align: right;\n",
       "    }\n",
       "</style>\n",
       "<table border=\"1\" class=\"dataframe\">\n",
       "  <thead>\n",
       "    <tr style=\"text-align: right;\">\n",
       "      <th></th>\n",
       "      <th>text</th>\n",
       "      <th>id</th>\n",
       "      <th>rcpNo</th>\n",
       "      <th>dcmNo</th>\n",
       "      <th>eleId</th>\n",
       "      <th>offset</th>\n",
       "      <th>length</th>\n",
       "      <th>dtd</th>\n",
       "      <th>tocNo</th>\n",
       "    </tr>\n",
       "  </thead>\n",
       "  <tbody>\n",
       "    <tr>\n",
       "      <th>8</th>\n",
       "      <td>2. 연결재무제표</td>\n",
       "      <td>14</td>\n",
       "      <td>20210309000744</td>\n",
       "      <td>7861003</td>\n",
       "      <td>14</td>\n",
       "      <td>687340</td>\n",
       "      <td>115750</td>\n",
       "      <td>dart3.xsd</td>\n",
       "      <td>14</td>\n",
       "    </tr>\n",
       "  </tbody>\n",
       "</table>\n",
       "</div>"
      ],
      "text/plain": [
       "        text  id           rcpNo    dcmNo eleId  offset  length        dtd  \\\n",
       "8  2. 연결재무제표  14  20210309000744  7861003    14  687340  115750  dart3.xsd   \n",
       "\n",
       "  tocNo  \n",
       "8    14  "
      ]
     },
     "metadata": {},
     "output_type": "display_data"
    },
    {
     "data": {
      "text/plain": [
       "{'text': '2. 연결재무제표',\n",
       " 'id': '14',\n",
       " 'rcpNo': '20210309000744',\n",
       " 'dcmNo': '7861003',\n",
       " 'eleId': '14',\n",
       " 'offset': '687340',\n",
       " 'length': '115750',\n",
       " 'dtd': 'dart3.xsd',\n",
       " 'tocNo': '14'}"
      ]
     },
     "execution_count": 121,
     "metadata": {},
     "output_type": "execute_result"
    }
   ],
   "source": [
    "con = df.text.str.contains('.*연결재무제표$')\n",
    "display(df.loc[con])\n",
    "dic = df.loc[con].to_dict('records')[0]\n",
    "dic"
   ]
  },
  {
   "cell_type": "code",
   "execution_count": 149,
   "metadata": {},
   "outputs": [
    {
     "name": "stdout",
     "output_type": "stream",
     "text": [
      "0:연결 재무상태표\n"
     ]
    },
    {
     "data": {
      "text/html": [
       "<div>\n",
       "<style scoped>\n",
       "    .dataframe tbody tr th:only-of-type {\n",
       "        vertical-align: middle;\n",
       "    }\n",
       "\n",
       "    .dataframe tbody tr th {\n",
       "        vertical-align: top;\n",
       "    }\n",
       "\n",
       "    .dataframe thead th {\n",
       "        text-align: right;\n",
       "    }\n",
       "</style>\n",
       "<table border=\"1\" class=\"dataframe\">\n",
       "  <thead>\n",
       "    <tr style=\"text-align: right;\">\n",
       "      <th></th>\n",
       "      <th>Unnamed: 0</th>\n",
       "      <th>제 52 기</th>\n",
       "      <th>제 51 기</th>\n",
       "      <th>제 50 기</th>\n",
       "    </tr>\n",
       "  </thead>\n",
       "  <tbody>\n",
       "    <tr>\n",
       "      <th>0</th>\n",
       "      <td>자산</td>\n",
       "      <td>NaN</td>\n",
       "      <td>NaN</td>\n",
       "      <td>NaN</td>\n",
       "    </tr>\n",
       "    <tr>\n",
       "      <th>1</th>\n",
       "      <td>유동자산</td>\n",
       "      <td>198215579</td>\n",
       "      <td>181385260</td>\n",
       "      <td>174697424</td>\n",
       "    </tr>\n",
       "    <tr>\n",
       "      <th>2</th>\n",
       "      <td>현금및현금성자산</td>\n",
       "      <td>29382578</td>\n",
       "      <td>26885999</td>\n",
       "      <td>30340505</td>\n",
       "    </tr>\n",
       "    <tr>\n",
       "      <th>3</th>\n",
       "      <td>단기금융상품</td>\n",
       "      <td>92441703</td>\n",
       "      <td>76252052</td>\n",
       "      <td>65893797</td>\n",
       "    </tr>\n",
       "    <tr>\n",
       "      <th>4</th>\n",
       "      <td>단기상각후원가금융자산</td>\n",
       "      <td>2757111</td>\n",
       "      <td>3914216</td>\n",
       "      <td>2703693</td>\n",
       "    </tr>\n",
       "    <tr>\n",
       "      <th>5</th>\n",
       "      <td>단기당기손익-공정가치금융자산</td>\n",
       "      <td>71451</td>\n",
       "      <td>1727436</td>\n",
       "      <td>2001948</td>\n",
       "    </tr>\n",
       "    <tr>\n",
       "      <th>6</th>\n",
       "      <td>매출채권</td>\n",
       "      <td>30965058</td>\n",
       "      <td>35131343</td>\n",
       "      <td>33867733</td>\n",
       "    </tr>\n",
       "    <tr>\n",
       "      <th>7</th>\n",
       "      <td>미수금</td>\n",
       "      <td>3604539</td>\n",
       "      <td>4179120</td>\n",
       "      <td>3080733</td>\n",
       "    </tr>\n",
       "    <tr>\n",
       "      <th>8</th>\n",
       "      <td>선급비용</td>\n",
       "      <td>2266100</td>\n",
       "      <td>2406220</td>\n",
       "      <td>4136167</td>\n",
       "    </tr>\n",
       "    <tr>\n",
       "      <th>9</th>\n",
       "      <td>재고자산</td>\n",
       "      <td>32043145</td>\n",
       "      <td>26766464</td>\n",
       "      <td>28984704</td>\n",
       "    </tr>\n",
       "    <tr>\n",
       "      <th>10</th>\n",
       "      <td>기타유동자산</td>\n",
       "      <td>3754462</td>\n",
       "      <td>4122410</td>\n",
       "      <td>3688144</td>\n",
       "    </tr>\n",
       "    <tr>\n",
       "      <th>11</th>\n",
       "      <td>매각예정분류자산</td>\n",
       "      <td>929432</td>\n",
       "      <td>0</td>\n",
       "      <td>0</td>\n",
       "    </tr>\n",
       "    <tr>\n",
       "      <th>12</th>\n",
       "      <td>비유동자산</td>\n",
       "      <td>180020139</td>\n",
       "      <td>171179237</td>\n",
       "      <td>164659820</td>\n",
       "    </tr>\n",
       "    <tr>\n",
       "      <th>13</th>\n",
       "      <td>상각후원가금융자산</td>\n",
       "      <td>0</td>\n",
       "      <td>0</td>\n",
       "      <td>238309</td>\n",
       "    </tr>\n",
       "    <tr>\n",
       "      <th>14</th>\n",
       "      <td>기타포괄손익-공정가치금융자산</td>\n",
       "      <td>12575216</td>\n",
       "      <td>8920712</td>\n",
       "      <td>7301351</td>\n",
       "    </tr>\n",
       "    <tr>\n",
       "      <th>15</th>\n",
       "      <td>당기손익-공정가치금융자산</td>\n",
       "      <td>1202969</td>\n",
       "      <td>1049004</td>\n",
       "      <td>775427</td>\n",
       "    </tr>\n",
       "    <tr>\n",
       "      <th>16</th>\n",
       "      <td>관계기업 및 공동기업 투자</td>\n",
       "      <td>8076779</td>\n",
       "      <td>7591612</td>\n",
       "      <td>7313206</td>\n",
       "    </tr>\n",
       "    <tr>\n",
       "      <th>17</th>\n",
       "      <td>유형자산</td>\n",
       "      <td>128952892</td>\n",
       "      <td>119825474</td>\n",
       "      <td>115416724</td>\n",
       "    </tr>\n",
       "    <tr>\n",
       "      <th>18</th>\n",
       "      <td>무형자산</td>\n",
       "      <td>18468502</td>\n",
       "      <td>20703504</td>\n",
       "      <td>14891598</td>\n",
       "    </tr>\n",
       "    <tr>\n",
       "      <th>19</th>\n",
       "      <td>순확정급여자산</td>\n",
       "      <td>1355502</td>\n",
       "      <td>589832</td>\n",
       "      <td>562356</td>\n",
       "    </tr>\n",
       "    <tr>\n",
       "      <th>20</th>\n",
       "      <td>이연법인세자산</td>\n",
       "      <td>4275000</td>\n",
       "      <td>4505049</td>\n",
       "      <td>5468002</td>\n",
       "    </tr>\n",
       "    <tr>\n",
       "      <th>21</th>\n",
       "      <td>기타비유동자산</td>\n",
       "      <td>5113279</td>\n",
       "      <td>7994050</td>\n",
       "      <td>12692847</td>\n",
       "    </tr>\n",
       "    <tr>\n",
       "      <th>22</th>\n",
       "      <td>자산총계</td>\n",
       "      <td>378235718</td>\n",
       "      <td>352564497</td>\n",
       "      <td>339357244</td>\n",
       "    </tr>\n",
       "    <tr>\n",
       "      <th>23</th>\n",
       "      <td>부채</td>\n",
       "      <td>NaN</td>\n",
       "      <td>NaN</td>\n",
       "      <td>NaN</td>\n",
       "    </tr>\n",
       "    <tr>\n",
       "      <th>24</th>\n",
       "      <td>유동부채</td>\n",
       "      <td>75604351</td>\n",
       "      <td>63782764</td>\n",
       "      <td>69081510</td>\n",
       "    </tr>\n",
       "    <tr>\n",
       "      <th>25</th>\n",
       "      <td>매입채무</td>\n",
       "      <td>9739222</td>\n",
       "      <td>8718222</td>\n",
       "      <td>8479916</td>\n",
       "    </tr>\n",
       "    <tr>\n",
       "      <th>26</th>\n",
       "      <td>단기차입금</td>\n",
       "      <td>16553429</td>\n",
       "      <td>14393468</td>\n",
       "      <td>13586660</td>\n",
       "    </tr>\n",
       "    <tr>\n",
       "      <th>27</th>\n",
       "      <td>미지급금</td>\n",
       "      <td>11899022</td>\n",
       "      <td>12002513</td>\n",
       "      <td>10711536</td>\n",
       "    </tr>\n",
       "    <tr>\n",
       "      <th>28</th>\n",
       "      <td>선수금</td>\n",
       "      <td>1145423</td>\n",
       "      <td>1072062</td>\n",
       "      <td>820265</td>\n",
       "    </tr>\n",
       "    <tr>\n",
       "      <th>29</th>\n",
       "      <td>예수금</td>\n",
       "      <td>974521</td>\n",
       "      <td>897355</td>\n",
       "      <td>951254</td>\n",
       "    </tr>\n",
       "    <tr>\n",
       "      <th>30</th>\n",
       "      <td>미지급비용</td>\n",
       "      <td>24330339</td>\n",
       "      <td>19359624</td>\n",
       "      <td>20339687</td>\n",
       "    </tr>\n",
       "    <tr>\n",
       "      <th>31</th>\n",
       "      <td>당기법인세부채</td>\n",
       "      <td>4430272</td>\n",
       "      <td>1387773</td>\n",
       "      <td>8720050</td>\n",
       "    </tr>\n",
       "    <tr>\n",
       "      <th>32</th>\n",
       "      <td>유동성장기부채</td>\n",
       "      <td>716099</td>\n",
       "      <td>846090</td>\n",
       "      <td>33386</td>\n",
       "    </tr>\n",
       "    <tr>\n",
       "      <th>33</th>\n",
       "      <td>충당부채</td>\n",
       "      <td>4349563</td>\n",
       "      <td>4068627</td>\n",
       "      <td>4384038</td>\n",
       "    </tr>\n",
       "    <tr>\n",
       "      <th>34</th>\n",
       "      <td>기타유동부채</td>\n",
       "      <td>1127719</td>\n",
       "      <td>1037030</td>\n",
       "      <td>1054718</td>\n",
       "    </tr>\n",
       "    <tr>\n",
       "      <th>35</th>\n",
       "      <td>매각예정분류부채</td>\n",
       "      <td>338742</td>\n",
       "      <td>0</td>\n",
       "      <td>0</td>\n",
       "    </tr>\n",
       "    <tr>\n",
       "      <th>36</th>\n",
       "      <td>비유동부채</td>\n",
       "      <td>26683351</td>\n",
       "      <td>25901312</td>\n",
       "      <td>22522557</td>\n",
       "    </tr>\n",
       "    <tr>\n",
       "      <th>37</th>\n",
       "      <td>사채</td>\n",
       "      <td>948137</td>\n",
       "      <td>975298</td>\n",
       "      <td>961972</td>\n",
       "    </tr>\n",
       "    <tr>\n",
       "      <th>38</th>\n",
       "      <td>장기차입금</td>\n",
       "      <td>1999716</td>\n",
       "      <td>2197181</td>\n",
       "      <td>85085</td>\n",
       "    </tr>\n",
       "    <tr>\n",
       "      <th>39</th>\n",
       "      <td>장기미지급금</td>\n",
       "      <td>1682910</td>\n",
       "      <td>2184249</td>\n",
       "      <td>3194043</td>\n",
       "    </tr>\n",
       "    <tr>\n",
       "      <th>40</th>\n",
       "      <td>순확정급여부채</td>\n",
       "      <td>464458</td>\n",
       "      <td>470780</td>\n",
       "      <td>504064</td>\n",
       "    </tr>\n",
       "    <tr>\n",
       "      <th>41</th>\n",
       "      <td>이연법인세부채</td>\n",
       "      <td>18810845</td>\n",
       "      <td>17053808</td>\n",
       "      <td>15162523</td>\n",
       "    </tr>\n",
       "    <tr>\n",
       "      <th>42</th>\n",
       "      <td>장기충당부채</td>\n",
       "      <td>1051428</td>\n",
       "      <td>611100</td>\n",
       "      <td>663619</td>\n",
       "    </tr>\n",
       "    <tr>\n",
       "      <th>43</th>\n",
       "      <td>기타비유동부채</td>\n",
       "      <td>1725857</td>\n",
       "      <td>2408896</td>\n",
       "      <td>1951251</td>\n",
       "    </tr>\n",
       "    <tr>\n",
       "      <th>44</th>\n",
       "      <td>부채총계</td>\n",
       "      <td>102287702</td>\n",
       "      <td>89684076</td>\n",
       "      <td>91604067</td>\n",
       "    </tr>\n",
       "    <tr>\n",
       "      <th>45</th>\n",
       "      <td>자본</td>\n",
       "      <td>NaN</td>\n",
       "      <td>NaN</td>\n",
       "      <td>NaN</td>\n",
       "    </tr>\n",
       "    <tr>\n",
       "      <th>46</th>\n",
       "      <td>지배기업 소유주지분</td>\n",
       "      <td>267670331</td>\n",
       "      <td>254915472</td>\n",
       "      <td>240068993</td>\n",
       "    </tr>\n",
       "    <tr>\n",
       "      <th>47</th>\n",
       "      <td>자본금</td>\n",
       "      <td>897514</td>\n",
       "      <td>897514</td>\n",
       "      <td>897514</td>\n",
       "    </tr>\n",
       "    <tr>\n",
       "      <th>48</th>\n",
       "      <td>우선주자본금</td>\n",
       "      <td>119467</td>\n",
       "      <td>119467</td>\n",
       "      <td>119467</td>\n",
       "    </tr>\n",
       "    <tr>\n",
       "      <th>49</th>\n",
       "      <td>보통주자본금</td>\n",
       "      <td>778047</td>\n",
       "      <td>778047</td>\n",
       "      <td>778047</td>\n",
       "    </tr>\n",
       "    <tr>\n",
       "      <th>50</th>\n",
       "      <td>주식발행초과금</td>\n",
       "      <td>4403893</td>\n",
       "      <td>4403893</td>\n",
       "      <td>4403893</td>\n",
       "    </tr>\n",
       "    <tr>\n",
       "      <th>51</th>\n",
       "      <td>이익잉여금(결손금)</td>\n",
       "      <td>271068211</td>\n",
       "      <td>254582894</td>\n",
       "      <td>242698956</td>\n",
       "    </tr>\n",
       "    <tr>\n",
       "      <th>52</th>\n",
       "      <td>기타자본항목</td>\n",
       "      <td>(8,687,155)</td>\n",
       "      <td>(4,968,829)</td>\n",
       "      <td>(7,931,370)</td>\n",
       "    </tr>\n",
       "    <tr>\n",
       "      <th>53</th>\n",
       "      <td>매각예정분류기타자본항목</td>\n",
       "      <td>(12,132)</td>\n",
       "      <td>0</td>\n",
       "      <td>0</td>\n",
       "    </tr>\n",
       "    <tr>\n",
       "      <th>54</th>\n",
       "      <td>비지배지분</td>\n",
       "      <td>8277685</td>\n",
       "      <td>7964949</td>\n",
       "      <td>7684184</td>\n",
       "    </tr>\n",
       "    <tr>\n",
       "      <th>55</th>\n",
       "      <td>자본총계</td>\n",
       "      <td>275948016</td>\n",
       "      <td>262880421</td>\n",
       "      <td>247753177</td>\n",
       "    </tr>\n",
       "    <tr>\n",
       "      <th>56</th>\n",
       "      <td>부채와자본총계</td>\n",
       "      <td>378235718</td>\n",
       "      <td>352564497</td>\n",
       "      <td>339357244</td>\n",
       "    </tr>\n",
       "  </tbody>\n",
       "</table>\n",
       "</div>"
      ],
      "text/plain": [
       "         Unnamed: 0       제 52 기       제 51 기       제 50 기\n",
       "0                자산          NaN          NaN          NaN\n",
       "1              유동자산    198215579    181385260    174697424\n",
       "2          현금및현금성자산     29382578     26885999     30340505\n",
       "3            단기금융상품     92441703     76252052     65893797\n",
       "4       단기상각후원가금융자산      2757111      3914216      2703693\n",
       "5   단기당기손익-공정가치금융자산        71451      1727436      2001948\n",
       "6              매출채권     30965058     35131343     33867733\n",
       "7               미수금      3604539      4179120      3080733\n",
       "8              선급비용      2266100      2406220      4136167\n",
       "9              재고자산     32043145     26766464     28984704\n",
       "10           기타유동자산      3754462      4122410      3688144\n",
       "11         매각예정분류자산       929432            0            0\n",
       "12            비유동자산    180020139    171179237    164659820\n",
       "13        상각후원가금융자산            0            0       238309\n",
       "14  기타포괄손익-공정가치금융자산     12575216      8920712      7301351\n",
       "15    당기손익-공정가치금융자산      1202969      1049004       775427\n",
       "16   관계기업 및 공동기업 투자      8076779      7591612      7313206\n",
       "17             유형자산    128952892    119825474    115416724\n",
       "18             무형자산     18468502     20703504     14891598\n",
       "19          순확정급여자산      1355502       589832       562356\n",
       "20          이연법인세자산      4275000      4505049      5468002\n",
       "21          기타비유동자산      5113279      7994050     12692847\n",
       "22             자산총계    378235718    352564497    339357244\n",
       "23               부채          NaN          NaN          NaN\n",
       "24             유동부채     75604351     63782764     69081510\n",
       "25             매입채무      9739222      8718222      8479916\n",
       "26            단기차입금     16553429     14393468     13586660\n",
       "27             미지급금     11899022     12002513     10711536\n",
       "28              선수금      1145423      1072062       820265\n",
       "29              예수금       974521       897355       951254\n",
       "30            미지급비용     24330339     19359624     20339687\n",
       "31          당기법인세부채      4430272      1387773      8720050\n",
       "32          유동성장기부채       716099       846090        33386\n",
       "33             충당부채      4349563      4068627      4384038\n",
       "34           기타유동부채      1127719      1037030      1054718\n",
       "35         매각예정분류부채       338742            0            0\n",
       "36            비유동부채     26683351     25901312     22522557\n",
       "37               사채       948137       975298       961972\n",
       "38            장기차입금      1999716      2197181        85085\n",
       "39           장기미지급금      1682910      2184249      3194043\n",
       "40          순확정급여부채       464458       470780       504064\n",
       "41          이연법인세부채     18810845     17053808     15162523\n",
       "42           장기충당부채      1051428       611100       663619\n",
       "43          기타비유동부채      1725857      2408896      1951251\n",
       "44             부채총계    102287702     89684076     91604067\n",
       "45               자본          NaN          NaN          NaN\n",
       "46       지배기업 소유주지분    267670331    254915472    240068993\n",
       "47              자본금       897514       897514       897514\n",
       "48           우선주자본금       119467       119467       119467\n",
       "49           보통주자본금       778047       778047       778047\n",
       "50          주식발행초과금      4403893      4403893      4403893\n",
       "51       이익잉여금(결손금)    271068211    254582894    242698956\n",
       "52           기타자본항목  (8,687,155)  (4,968,829)  (7,931,370)\n",
       "53     매각예정분류기타자본항목     (12,132)            0            0\n",
       "54            비지배지분      8277685      7964949      7684184\n",
       "55             자본총계    275948016    262880421    247753177\n",
       "56          부채와자본총계    378235718    352564497    339357244"
      ]
     },
     "metadata": {},
     "output_type": "display_data"
    },
    {
     "name": "stdout",
     "output_type": "stream",
     "text": [
      "3:연결 손익계산서\n"
     ]
    },
    {
     "data": {
      "text/html": [
       "<div>\n",
       "<style scoped>\n",
       "    .dataframe tbody tr th:only-of-type {\n",
       "        vertical-align: middle;\n",
       "    }\n",
       "\n",
       "    .dataframe tbody tr th {\n",
       "        vertical-align: top;\n",
       "    }\n",
       "\n",
       "    .dataframe thead th {\n",
       "        text-align: right;\n",
       "    }\n",
       "</style>\n",
       "<table border=\"1\" class=\"dataframe\">\n",
       "  <thead>\n",
       "    <tr style=\"text-align: right;\">\n",
       "      <th></th>\n",
       "      <th>Unnamed: 0</th>\n",
       "      <th>제 52 기</th>\n",
       "      <th>제 51 기</th>\n",
       "      <th>제 50 기</th>\n",
       "    </tr>\n",
       "  </thead>\n",
       "  <tbody>\n",
       "    <tr>\n",
       "      <th>0</th>\n",
       "      <td>수익(매출액)</td>\n",
       "      <td>236806988.0</td>\n",
       "      <td>230400881.0</td>\n",
       "      <td>243771415.0</td>\n",
       "    </tr>\n",
       "    <tr>\n",
       "      <th>1</th>\n",
       "      <td>매출원가</td>\n",
       "      <td>144488296.0</td>\n",
       "      <td>147239549.0</td>\n",
       "      <td>132394411.0</td>\n",
       "    </tr>\n",
       "    <tr>\n",
       "      <th>2</th>\n",
       "      <td>매출총이익</td>\n",
       "      <td>92318692.0</td>\n",
       "      <td>83161332.0</td>\n",
       "      <td>111377004.0</td>\n",
       "    </tr>\n",
       "    <tr>\n",
       "      <th>3</th>\n",
       "      <td>판매비와관리비</td>\n",
       "      <td>56324816.0</td>\n",
       "      <td>55392823.0</td>\n",
       "      <td>52490335.0</td>\n",
       "    </tr>\n",
       "    <tr>\n",
       "      <th>4</th>\n",
       "      <td>영업이익</td>\n",
       "      <td>35993876.0</td>\n",
       "      <td>27768509.0</td>\n",
       "      <td>58886669.0</td>\n",
       "    </tr>\n",
       "    <tr>\n",
       "      <th>5</th>\n",
       "      <td>기타수익</td>\n",
       "      <td>1384068.0</td>\n",
       "      <td>1778666.0</td>\n",
       "      <td>1485037.0</td>\n",
       "    </tr>\n",
       "    <tr>\n",
       "      <th>6</th>\n",
       "      <td>기타비용</td>\n",
       "      <td>2488902.0</td>\n",
       "      <td>1414707.0</td>\n",
       "      <td>1142018.0</td>\n",
       "    </tr>\n",
       "    <tr>\n",
       "      <th>7</th>\n",
       "      <td>지분법이익</td>\n",
       "      <td>506530.0</td>\n",
       "      <td>412960.0</td>\n",
       "      <td>539845.0</td>\n",
       "    </tr>\n",
       "    <tr>\n",
       "      <th>8</th>\n",
       "      <td>금융수익</td>\n",
       "      <td>12267600.0</td>\n",
       "      <td>10161632.0</td>\n",
       "      <td>9999321.0</td>\n",
       "    </tr>\n",
       "    <tr>\n",
       "      <th>9</th>\n",
       "      <td>금융비용</td>\n",
       "      <td>11318055.0</td>\n",
       "      <td>8274871.0</td>\n",
       "      <td>8608896.0</td>\n",
       "    </tr>\n",
       "    <tr>\n",
       "      <th>10</th>\n",
       "      <td>법인세비용차감전순이익(손실)</td>\n",
       "      <td>36345117.0</td>\n",
       "      <td>30432189.0</td>\n",
       "      <td>61159958.0</td>\n",
       "    </tr>\n",
       "    <tr>\n",
       "      <th>11</th>\n",
       "      <td>법인세비용</td>\n",
       "      <td>9937285.0</td>\n",
       "      <td>8693324.0</td>\n",
       "      <td>16815101.0</td>\n",
       "    </tr>\n",
       "    <tr>\n",
       "      <th>12</th>\n",
       "      <td>계속영업이익(손실)</td>\n",
       "      <td>26407832.0</td>\n",
       "      <td>21738865.0</td>\n",
       "      <td>44344857.0</td>\n",
       "    </tr>\n",
       "    <tr>\n",
       "      <th>13</th>\n",
       "      <td>당기순이익(손실)</td>\n",
       "      <td>26407832.0</td>\n",
       "      <td>21738865.0</td>\n",
       "      <td>44344857.0</td>\n",
       "    </tr>\n",
       "    <tr>\n",
       "      <th>14</th>\n",
       "      <td>당기순이익(손실)의 귀속</td>\n",
       "      <td>NaN</td>\n",
       "      <td>NaN</td>\n",
       "      <td>NaN</td>\n",
       "    </tr>\n",
       "    <tr>\n",
       "      <th>15</th>\n",
       "      <td>지배기업의 소유주에게 귀속되는 당기순이익(손실)</td>\n",
       "      <td>26090846.0</td>\n",
       "      <td>21505054.0</td>\n",
       "      <td>43890877.0</td>\n",
       "    </tr>\n",
       "    <tr>\n",
       "      <th>16</th>\n",
       "      <td>비지배지분에 귀속되는 당기순이익(손실)</td>\n",
       "      <td>316986.0</td>\n",
       "      <td>233811.0</td>\n",
       "      <td>453980.0</td>\n",
       "    </tr>\n",
       "    <tr>\n",
       "      <th>17</th>\n",
       "      <td>주당이익</td>\n",
       "      <td>NaN</td>\n",
       "      <td>NaN</td>\n",
       "      <td>NaN</td>\n",
       "    </tr>\n",
       "    <tr>\n",
       "      <th>18</th>\n",
       "      <td>기본주당이익(손실) (단위 : 원)</td>\n",
       "      <td>3841.0</td>\n",
       "      <td>3166.0</td>\n",
       "      <td>6461.0</td>\n",
       "    </tr>\n",
       "    <tr>\n",
       "      <th>19</th>\n",
       "      <td>희석주당이익(손실) (단위 : 원)</td>\n",
       "      <td>3841.0</td>\n",
       "      <td>3166.0</td>\n",
       "      <td>6461.0</td>\n",
       "    </tr>\n",
       "  </tbody>\n",
       "</table>\n",
       "</div>"
      ],
      "text/plain": [
       "                    Unnamed: 0       제 52 기       제 51 기       제 50 기\n",
       "0                      수익(매출액)  236806988.0  230400881.0  243771415.0\n",
       "1                         매출원가  144488296.0  147239549.0  132394411.0\n",
       "2                        매출총이익   92318692.0   83161332.0  111377004.0\n",
       "3                      판매비와관리비   56324816.0   55392823.0   52490335.0\n",
       "4                         영업이익   35993876.0   27768509.0   58886669.0\n",
       "5                         기타수익    1384068.0    1778666.0    1485037.0\n",
       "6                         기타비용    2488902.0    1414707.0    1142018.0\n",
       "7                        지분법이익     506530.0     412960.0     539845.0\n",
       "8                         금융수익   12267600.0   10161632.0    9999321.0\n",
       "9                         금융비용   11318055.0    8274871.0    8608896.0\n",
       "10             법인세비용차감전순이익(손실)   36345117.0   30432189.0   61159958.0\n",
       "11                       법인세비용    9937285.0    8693324.0   16815101.0\n",
       "12                  계속영업이익(손실)   26407832.0   21738865.0   44344857.0\n",
       "13                   당기순이익(손실)   26407832.0   21738865.0   44344857.0\n",
       "14               당기순이익(손실)의 귀속          NaN          NaN          NaN\n",
       "15  지배기업의 소유주에게 귀속되는 당기순이익(손실)   26090846.0   21505054.0   43890877.0\n",
       "16       비지배지분에 귀속되는 당기순이익(손실)     316986.0     233811.0     453980.0\n",
       "17                        주당이익          NaN          NaN          NaN\n",
       "18         기본주당이익(손실) (단위 : 원)       3841.0       3166.0       6461.0\n",
       "19         희석주당이익(손실) (단위 : 원)       3841.0       3166.0       6461.0"
      ]
     },
     "metadata": {},
     "output_type": "display_data"
    },
    {
     "name": "stdout",
     "output_type": "stream",
     "text": [
      "6:연결 포괄손익계산서\n"
     ]
    },
    {
     "data": {
      "text/html": [
       "<div>\n",
       "<style scoped>\n",
       "    .dataframe tbody tr th:only-of-type {\n",
       "        vertical-align: middle;\n",
       "    }\n",
       "\n",
       "    .dataframe tbody tr th {\n",
       "        vertical-align: top;\n",
       "    }\n",
       "\n",
       "    .dataframe thead th {\n",
       "        text-align: right;\n",
       "    }\n",
       "</style>\n",
       "<table border=\"1\" class=\"dataframe\">\n",
       "  <thead>\n",
       "    <tr style=\"text-align: right;\">\n",
       "      <th></th>\n",
       "      <th>Unnamed: 0</th>\n",
       "      <th>제 52 기</th>\n",
       "      <th>제 51 기</th>\n",
       "      <th>제 50 기</th>\n",
       "    </tr>\n",
       "  </thead>\n",
       "  <tbody>\n",
       "    <tr>\n",
       "      <th>0</th>\n",
       "      <td>당기순이익(손실)</td>\n",
       "      <td>26407832</td>\n",
       "      <td>21738865</td>\n",
       "      <td>44344857</td>\n",
       "    </tr>\n",
       "    <tr>\n",
       "      <th>1</th>\n",
       "      <td>기타포괄손익</td>\n",
       "      <td>(3,673,905)</td>\n",
       "      <td>3016194</td>\n",
       "      <td>(12,242)</td>\n",
       "    </tr>\n",
       "    <tr>\n",
       "      <th>2</th>\n",
       "      <td>후속적으로 당기손익으로 재분류되지 않는 포괄손익</td>\n",
       "      <td>1788764</td>\n",
       "      <td>(50,765)</td>\n",
       "      <td>(656,647)</td>\n",
       "    </tr>\n",
       "    <tr>\n",
       "      <th>3</th>\n",
       "      <td>기타포괄손익-공정가치금융자산평가손익</td>\n",
       "      <td>2502733</td>\n",
       "      <td>1146599</td>\n",
       "      <td>(235,865)</td>\n",
       "    </tr>\n",
       "    <tr>\n",
       "      <th>4</th>\n",
       "      <td>관계기업 및 공동기업의 기타포괄손익에 대한 지분</td>\n",
       "      <td>5591</td>\n",
       "      <td>(16,896)</td>\n",
       "      <td>(10,631)</td>\n",
       "    </tr>\n",
       "    <tr>\n",
       "      <th>5</th>\n",
       "      <td>순확정급여부채(자산) 재측정요소</td>\n",
       "      <td>(719,560)</td>\n",
       "      <td>(1,180,468)</td>\n",
       "      <td>(410,151)</td>\n",
       "    </tr>\n",
       "    <tr>\n",
       "      <th>6</th>\n",
       "      <td>후속적으로 당기손익으로 재분류되는 포괄손익</td>\n",
       "      <td>(5,462,669)</td>\n",
       "      <td>3066959</td>\n",
       "      <td>644405</td>\n",
       "    </tr>\n",
       "    <tr>\n",
       "      <th>7</th>\n",
       "      <td>관계기업 및 공동기업의 기타포괄손익에 대한 지분</td>\n",
       "      <td>(48,888)</td>\n",
       "      <td>48649</td>\n",
       "      <td>6688</td>\n",
       "    </tr>\n",
       "    <tr>\n",
       "      <th>8</th>\n",
       "      <td>해외사업장환산외환차이</td>\n",
       "      <td>(5,380,375)</td>\n",
       "      <td>3016499</td>\n",
       "      <td>590638</td>\n",
       "    </tr>\n",
       "    <tr>\n",
       "      <th>9</th>\n",
       "      <td>현금흐름위험회피파생상품평가손익</td>\n",
       "      <td>(33,406)</td>\n",
       "      <td>1811</td>\n",
       "      <td>47079</td>\n",
       "    </tr>\n",
       "    <tr>\n",
       "      <th>10</th>\n",
       "      <td>총포괄손익</td>\n",
       "      <td>22733927</td>\n",
       "      <td>24755059</td>\n",
       "      <td>44332615</td>\n",
       "    </tr>\n",
       "    <tr>\n",
       "      <th>11</th>\n",
       "      <td>포괄손익의 귀속</td>\n",
       "      <td>NaN</td>\n",
       "      <td>NaN</td>\n",
       "      <td>NaN</td>\n",
       "    </tr>\n",
       "    <tr>\n",
       "      <th>12</th>\n",
       "      <td>지배기업 소유주지분</td>\n",
       "      <td>22374398</td>\n",
       "      <td>24466985</td>\n",
       "      <td>43882473</td>\n",
       "    </tr>\n",
       "    <tr>\n",
       "      <th>13</th>\n",
       "      <td>비지배지분</td>\n",
       "      <td>359529</td>\n",
       "      <td>288074</td>\n",
       "      <td>450142</td>\n",
       "    </tr>\n",
       "  </tbody>\n",
       "</table>\n",
       "</div>"
      ],
      "text/plain": [
       "                    Unnamed: 0       제 52 기       제 51 기     제 50 기\n",
       "0                    당기순이익(손실)     26407832     21738865   44344857\n",
       "1                       기타포괄손익  (3,673,905)      3016194   (12,242)\n",
       "2   후속적으로 당기손익으로 재분류되지 않는 포괄손익      1788764     (50,765)  (656,647)\n",
       "3          기타포괄손익-공정가치금융자산평가손익      2502733      1146599  (235,865)\n",
       "4   관계기업 및 공동기업의 기타포괄손익에 대한 지분         5591     (16,896)   (10,631)\n",
       "5            순확정급여부채(자산) 재측정요소    (719,560)  (1,180,468)  (410,151)\n",
       "6      후속적으로 당기손익으로 재분류되는 포괄손익  (5,462,669)      3066959     644405\n",
       "7   관계기업 및 공동기업의 기타포괄손익에 대한 지분     (48,888)        48649       6688\n",
       "8                  해외사업장환산외환차이  (5,380,375)      3016499     590638\n",
       "9             현금흐름위험회피파생상품평가손익     (33,406)         1811      47079\n",
       "10                       총포괄손익     22733927     24755059   44332615\n",
       "11                    포괄손익의 귀속          NaN          NaN        NaN\n",
       "12                  지배기업 소유주지분     22374398     24466985   43882473\n",
       "13                       비지배지분       359529       288074     450142"
      ]
     },
     "metadata": {},
     "output_type": "display_data"
    },
    {
     "name": "stdout",
     "output_type": "stream",
     "text": [
      "12:연결 현금흐름표\n"
     ]
    },
    {
     "data": {
      "text/html": [
       "<div>\n",
       "<style scoped>\n",
       "    .dataframe tbody tr th:only-of-type {\n",
       "        vertical-align: middle;\n",
       "    }\n",
       "\n",
       "    .dataframe tbody tr th {\n",
       "        vertical-align: top;\n",
       "    }\n",
       "\n",
       "    .dataframe thead th {\n",
       "        text-align: right;\n",
       "    }\n",
       "</style>\n",
       "<table border=\"1\" class=\"dataframe\">\n",
       "  <thead>\n",
       "    <tr style=\"text-align: right;\">\n",
       "      <th></th>\n",
       "      <th>Unnamed: 0</th>\n",
       "      <th>제 52 기</th>\n",
       "      <th>제 51 기</th>\n",
       "      <th>제 50 기</th>\n",
       "    </tr>\n",
       "  </thead>\n",
       "  <tbody>\n",
       "    <tr>\n",
       "      <th>0</th>\n",
       "      <td>영업활동 현금흐름</td>\n",
       "      <td>65287009</td>\n",
       "      <td>45382915</td>\n",
       "      <td>67031863</td>\n",
       "    </tr>\n",
       "    <tr>\n",
       "      <th>1</th>\n",
       "      <td>영업에서 창출된 현금흐름</td>\n",
       "      <td>68148810</td>\n",
       "      <td>56635791</td>\n",
       "      <td>78025064</td>\n",
       "    </tr>\n",
       "    <tr>\n",
       "      <th>2</th>\n",
       "      <td>당기순이익</td>\n",
       "      <td>26407832</td>\n",
       "      <td>21738865</td>\n",
       "      <td>44344857</td>\n",
       "    </tr>\n",
       "    <tr>\n",
       "      <th>3</th>\n",
       "      <td>조정</td>\n",
       "      <td>41618554</td>\n",
       "      <td>37442682</td>\n",
       "      <td>43604573</td>\n",
       "    </tr>\n",
       "    <tr>\n",
       "      <th>4</th>\n",
       "      <td>영업활동으로 인한 자산부채의 변동</td>\n",
       "      <td>122424</td>\n",
       "      <td>(2,545,756)</td>\n",
       "      <td>(9,924,366)</td>\n",
       "    </tr>\n",
       "    <tr>\n",
       "      <th>5</th>\n",
       "      <td>이자의 수취</td>\n",
       "      <td>2220209</td>\n",
       "      <td>2306401</td>\n",
       "      <td>1788520</td>\n",
       "    </tr>\n",
       "    <tr>\n",
       "      <th>6</th>\n",
       "      <td>이자의 지급</td>\n",
       "      <td>(555,321)</td>\n",
       "      <td>(579,979)</td>\n",
       "      <td>(548,272)</td>\n",
       "    </tr>\n",
       "    <tr>\n",
       "      <th>7</th>\n",
       "      <td>배당금 수입</td>\n",
       "      <td>243666</td>\n",
       "      <td>241801</td>\n",
       "      <td>215992</td>\n",
       "    </tr>\n",
       "    <tr>\n",
       "      <th>8</th>\n",
       "      <td>법인세 납부액</td>\n",
       "      <td>(4,770,355)</td>\n",
       "      <td>(13,221,099)</td>\n",
       "      <td>(12,449,441)</td>\n",
       "    </tr>\n",
       "    <tr>\n",
       "      <th>9</th>\n",
       "      <td>투자활동 현금흐름</td>\n",
       "      <td>(53,628,591)</td>\n",
       "      <td>(39,948,171)</td>\n",
       "      <td>(52,240,453)</td>\n",
       "    </tr>\n",
       "    <tr>\n",
       "      <th>10</th>\n",
       "      <td>단기금융상품의 순감소(증가)</td>\n",
       "      <td>(20,369,616)</td>\n",
       "      <td>(2,030,913)</td>\n",
       "      <td>(12,368,298)</td>\n",
       "    </tr>\n",
       "    <tr>\n",
       "      <th>11</th>\n",
       "      <td>단기상각후원가금융자산의 순감소(증가)</td>\n",
       "      <td>184104</td>\n",
       "      <td>(818,089)</td>\n",
       "      <td>(1,436,844)</td>\n",
       "    </tr>\n",
       "    <tr>\n",
       "      <th>12</th>\n",
       "      <td>단기당기손익-공정가치금융자산의 순감소(증가)</td>\n",
       "      <td>1704512</td>\n",
       "      <td>374982</td>\n",
       "      <td>(139,668)</td>\n",
       "    </tr>\n",
       "    <tr>\n",
       "      <th>13</th>\n",
       "      <td>장기금융상품의 처분</td>\n",
       "      <td>12184301</td>\n",
       "      <td>4586610</td>\n",
       "      <td>255850</td>\n",
       "    </tr>\n",
       "    <tr>\n",
       "      <th>14</th>\n",
       "      <td>장기금융상품의 취득</td>\n",
       "      <td>(8,019,263)</td>\n",
       "      <td>(12,725,465)</td>\n",
       "      <td>(7,678,654)</td>\n",
       "    </tr>\n",
       "    <tr>\n",
       "      <th>15</th>\n",
       "      <td>상각후원가금융자산의 처분</td>\n",
       "      <td>1023117</td>\n",
       "      <td>694584</td>\n",
       "      <td>0</td>\n",
       "    </tr>\n",
       "    <tr>\n",
       "      <th>16</th>\n",
       "      <td>상각후원가금융자산의 취득</td>\n",
       "      <td>0</td>\n",
       "      <td>(825,027)</td>\n",
       "      <td>(158,716)</td>\n",
       "    </tr>\n",
       "    <tr>\n",
       "      <th>17</th>\n",
       "      <td>기타포괄손익-공정가치금융자산의 처분</td>\n",
       "      <td>32128</td>\n",
       "      <td>1575</td>\n",
       "      <td>16211</td>\n",
       "    </tr>\n",
       "    <tr>\n",
       "      <th>18</th>\n",
       "      <td>기타포괄손익-공정가치금융자산의 취득</td>\n",
       "      <td>(245,497)</td>\n",
       "      <td>(63,773)</td>\n",
       "      <td>(456,134)</td>\n",
       "    </tr>\n",
       "    <tr>\n",
       "      <th>19</th>\n",
       "      <td>당기손익-공정가치금융자산의 처분</td>\n",
       "      <td>39746</td>\n",
       "      <td>64321</td>\n",
       "      <td>80138</td>\n",
       "    </tr>\n",
       "    <tr>\n",
       "      <th>20</th>\n",
       "      <td>당기손익-공정가치금융자산의 취득</td>\n",
       "      <td>(84,184)</td>\n",
       "      <td>(135,826)</td>\n",
       "      <td>(193,848)</td>\n",
       "    </tr>\n",
       "    <tr>\n",
       "      <th>21</th>\n",
       "      <td>관계기업 및 공동기업 투자의 처분</td>\n",
       "      <td>0</td>\n",
       "      <td>12149</td>\n",
       "      <td>148</td>\n",
       "    </tr>\n",
       "    <tr>\n",
       "      <th>22</th>\n",
       "      <td>관계기업 및 공동기업 투자의 취득</td>\n",
       "      <td>(83,280)</td>\n",
       "      <td>(12,778)</td>\n",
       "      <td>(51,226)</td>\n",
       "    </tr>\n",
       "    <tr>\n",
       "      <th>23</th>\n",
       "      <td>유형자산의 처분</td>\n",
       "      <td>376744</td>\n",
       "      <td>513265</td>\n",
       "      <td>556973</td>\n",
       "    </tr>\n",
       "    <tr>\n",
       "      <th>24</th>\n",
       "      <td>유형자산의 취득</td>\n",
       "      <td>(37,592,034)</td>\n",
       "      <td>(25,367,756)</td>\n",
       "      <td>(29,556,406)</td>\n",
       "    </tr>\n",
       "    <tr>\n",
       "      <th>25</th>\n",
       "      <td>무형자산의 처분</td>\n",
       "      <td>7027</td>\n",
       "      <td>7241</td>\n",
       "      <td>11935</td>\n",
       "    </tr>\n",
       "    <tr>\n",
       "      <th>26</th>\n",
       "      <td>무형자산의 취득</td>\n",
       "      <td>(2,679,779)</td>\n",
       "      <td>(3,249,914)</td>\n",
       "      <td>(1,020,517)</td>\n",
       "    </tr>\n",
       "    <tr>\n",
       "      <th>27</th>\n",
       "      <td>사업결합으로 인한 현금유출액</td>\n",
       "      <td>(49,420)</td>\n",
       "      <td>(1,019,405)</td>\n",
       "      <td>(99,108)</td>\n",
       "    </tr>\n",
       "    <tr>\n",
       "      <th>28</th>\n",
       "      <td>기타투자활동으로 인한 현금유출입액</td>\n",
       "      <td>(57,197)</td>\n",
       "      <td>46048</td>\n",
       "      <td>(2,289)</td>\n",
       "    </tr>\n",
       "    <tr>\n",
       "      <th>29</th>\n",
       "      <td>재무활동 현금흐름</td>\n",
       "      <td>(8,327,839)</td>\n",
       "      <td>(9,484,510)</td>\n",
       "      <td>(15,090,222)</td>\n",
       "    </tr>\n",
       "    <tr>\n",
       "      <th>30</th>\n",
       "      <td>단기차입금의 순증가(감소)</td>\n",
       "      <td>2191186</td>\n",
       "      <td>865792</td>\n",
       "      <td>(2,046,470)</td>\n",
       "    </tr>\n",
       "    <tr>\n",
       "      <th>31</th>\n",
       "      <td>자기주식의 취득</td>\n",
       "      <td>0</td>\n",
       "      <td>0</td>\n",
       "      <td>(875,111)</td>\n",
       "    </tr>\n",
       "    <tr>\n",
       "      <th>32</th>\n",
       "      <td>장기차입금의 차입</td>\n",
       "      <td>14495</td>\n",
       "      <td>0</td>\n",
       "      <td>3580</td>\n",
       "    </tr>\n",
       "    <tr>\n",
       "      <th>33</th>\n",
       "      <td>사채 및 장기차입금의 상환</td>\n",
       "      <td>(864,947)</td>\n",
       "      <td>(709,400)</td>\n",
       "      <td>(1,986,597)</td>\n",
       "    </tr>\n",
       "    <tr>\n",
       "      <th>34</th>\n",
       "      <td>배당금의 지급</td>\n",
       "      <td>(9,676,760)</td>\n",
       "      <td>(9,639,202)</td>\n",
       "      <td>(10,193,695)</td>\n",
       "    </tr>\n",
       "    <tr>\n",
       "      <th>35</th>\n",
       "      <td>비지배지분의 증감</td>\n",
       "      <td>8187</td>\n",
       "      <td>(1,700)</td>\n",
       "      <td>8071</td>\n",
       "    </tr>\n",
       "    <tr>\n",
       "      <th>36</th>\n",
       "      <td>매각예정분류</td>\n",
       "      <td>(139)</td>\n",
       "      <td>0</td>\n",
       "      <td>0</td>\n",
       "    </tr>\n",
       "    <tr>\n",
       "      <th>37</th>\n",
       "      <td>외화환산으로 인한 현금의 변동</td>\n",
       "      <td>(833,861)</td>\n",
       "      <td>595260</td>\n",
       "      <td>94187</td>\n",
       "    </tr>\n",
       "    <tr>\n",
       "      <th>38</th>\n",
       "      <td>현금및현금성자산의 순증감</td>\n",
       "      <td>2496579</td>\n",
       "      <td>(3,454,506)</td>\n",
       "      <td>(204,625)</td>\n",
       "    </tr>\n",
       "    <tr>\n",
       "      <th>39</th>\n",
       "      <td>기초의 현금및현금성자산</td>\n",
       "      <td>26885999</td>\n",
       "      <td>30340505</td>\n",
       "      <td>30545130</td>\n",
       "    </tr>\n",
       "    <tr>\n",
       "      <th>40</th>\n",
       "      <td>기말의 현금및현금성자산</td>\n",
       "      <td>29382578</td>\n",
       "      <td>26885999</td>\n",
       "      <td>30340505</td>\n",
       "    </tr>\n",
       "  </tbody>\n",
       "</table>\n",
       "</div>"
      ],
      "text/plain": [
       "                  Unnamed: 0        제 52 기        제 51 기        제 50 기\n",
       "0                  영업활동 현금흐름      65287009      45382915      67031863\n",
       "1              영업에서 창출된 현금흐름      68148810      56635791      78025064\n",
       "2                      당기순이익      26407832      21738865      44344857\n",
       "3                         조정      41618554      37442682      43604573\n",
       "4         영업활동으로 인한 자산부채의 변동        122424   (2,545,756)   (9,924,366)\n",
       "5                     이자의 수취       2220209       2306401       1788520\n",
       "6                     이자의 지급     (555,321)     (579,979)     (548,272)\n",
       "7                     배당금 수입        243666        241801        215992\n",
       "8                    법인세 납부액   (4,770,355)  (13,221,099)  (12,449,441)\n",
       "9                  투자활동 현금흐름  (53,628,591)  (39,948,171)  (52,240,453)\n",
       "10           단기금융상품의 순감소(증가)  (20,369,616)   (2,030,913)  (12,368,298)\n",
       "11      단기상각후원가금융자산의 순감소(증가)        184104     (818,089)   (1,436,844)\n",
       "12  단기당기손익-공정가치금융자산의 순감소(증가)       1704512        374982     (139,668)\n",
       "13                장기금융상품의 처분      12184301       4586610        255850\n",
       "14                장기금융상품의 취득   (8,019,263)  (12,725,465)   (7,678,654)\n",
       "15             상각후원가금융자산의 처분       1023117        694584             0\n",
       "16             상각후원가금융자산의 취득             0     (825,027)     (158,716)\n",
       "17       기타포괄손익-공정가치금융자산의 처분         32128          1575         16211\n",
       "18       기타포괄손익-공정가치금융자산의 취득     (245,497)      (63,773)     (456,134)\n",
       "19         당기손익-공정가치금융자산의 처분         39746         64321         80138\n",
       "20         당기손익-공정가치금융자산의 취득      (84,184)     (135,826)     (193,848)\n",
       "21        관계기업 및 공동기업 투자의 처분             0         12149           148\n",
       "22        관계기업 및 공동기업 투자의 취득      (83,280)      (12,778)      (51,226)\n",
       "23                  유형자산의 처분        376744        513265        556973\n",
       "24                  유형자산의 취득  (37,592,034)  (25,367,756)  (29,556,406)\n",
       "25                  무형자산의 처분          7027          7241         11935\n",
       "26                  무형자산의 취득   (2,679,779)   (3,249,914)   (1,020,517)\n",
       "27           사업결합으로 인한 현금유출액      (49,420)   (1,019,405)      (99,108)\n",
       "28        기타투자활동으로 인한 현금유출입액      (57,197)         46048       (2,289)\n",
       "29                 재무활동 현금흐름   (8,327,839)   (9,484,510)  (15,090,222)\n",
       "30            단기차입금의 순증가(감소)       2191186        865792   (2,046,470)\n",
       "31                  자기주식의 취득             0             0     (875,111)\n",
       "32                 장기차입금의 차입         14495             0          3580\n",
       "33            사채 및 장기차입금의 상환     (864,947)     (709,400)   (1,986,597)\n",
       "34                   배당금의 지급   (9,676,760)   (9,639,202)  (10,193,695)\n",
       "35                 비지배지분의 증감          8187       (1,700)          8071\n",
       "36                    매각예정분류         (139)             0             0\n",
       "37          외화환산으로 인한 현금의 변동     (833,861)        595260         94187\n",
       "38             현금및현금성자산의 순증감       2496579   (3,454,506)     (204,625)\n",
       "39              기초의 현금및현금성자산      26885999      30340505      30545130\n",
       "40              기말의 현금및현금성자산      29382578      26885999      30340505"
      ]
     },
     "metadata": {},
     "output_type": "display_data"
    }
   ],
   "source": [
    "params={\n",
    "    'rcpNo': dic['rcpNo'],\n",
    "    'dcmNo': dic['dcmNo'],\n",
    "    'eleId': dic['eleId'],\n",
    "    'offset': dic['offset'],\n",
    "    'length': dic['length'],\n",
    "    'dtd': dic['dtd']\n",
    "    }\n",
    "\n",
    "url = f'https://dart.fss.or.kr/report/viewer.do?'\n",
    "r = requests.get(url, params=params)\n",
    "html = r.text\n",
    "\n",
    "table = pd.read_html(html)\n",
    "length = len(table)\n",
    "for k in range(0, length):\n",
    "    title_candi = table[k].iat[0,0]\n",
    "    lst = re.findall('.*재무상태표|손익계산서|현금흐름표', title_candi)\n",
    "    if lst :\n",
    "        print(k, title_candi, sep=':')\n",
    "        display(table[k+1])"
   ]
  },
  {
   "cell_type": "code",
   "execution_count": 59,
   "metadata": {},
   "outputs": [],
   "source": [
    "qeury = QueryStockDataDB.QueryStockData(folderPath)\n",
    "nDf = qeury.queryStockNumberOfSharesDB(by='parquet')"
   ]
  },
  {
   "cell_type": "code",
   "execution_count": 62,
   "metadata": {},
   "outputs": [
    {
     "data": {
      "text/plain": [
       "['동북아1호',\n",
       " '동북아2호',\n",
       " '아시아1호',\n",
       " '동북아6호',\n",
       " '동북아3호',\n",
       " '동북아4호',\n",
       " '동북아5호',\n",
       " '아시아2호',\n",
       " '아시아3호',\n",
       " '동북아13호',\n",
       " '동북아14호',\n",
       " '아시아10호',\n",
       " '아시아11호',\n",
       " '아시아12호',\n",
       " '아시아13호',\n",
       " '아시아14호',\n",
       " '아시아15호',\n",
       " '동북아15호',\n",
       " '동북아12호',\n",
       " '동북아11호',\n",
       " '아시아4호',\n",
       " '아시아8호',\n",
       " '아시아9호',\n",
       " '동북아8호',\n",
       " '아시아5호',\n",
       " '아시아6호',\n",
       " '아시아7호',\n",
       " '동북아9호',\n",
       " '동북아10호',\n",
       " '거북선4호',\n",
       " '거북선5호',\n",
       " '거북선6호',\n",
       " '케이알제2호',\n",
       " '거북선3호',\n",
       " '거북선2호',\n",
       " '코크렙8호',\n",
       " '코리아01호',\n",
       " '코리아02호',\n",
       " '코리아03호',\n",
       " '코리아04호',\n",
       " '코크렙7호',\n",
       " '동북아21호',\n",
       " '코리아07호',\n",
       " '하나니켈1호',\n",
       " '하나니켈2호',\n",
       " '바다로3호',\n",
       " '코리아05호',\n",
       " '코리아06호',\n",
       " '코크렙15호',\n",
       " '우리스팩1호',\n",
       " '거북선7호',\n",
       " '하이골드2호',\n",
       " '트러스제7호',\n",
       " '하이골드3호',\n",
       " '바다로19호',\n",
       " '하이골드8호',\n",
       " '하이골드12호',\n",
       " '엔에이치스팩19호']"
      ]
     },
     "execution_count": 62,
     "metadata": {},
     "output_type": "execute_result"
    }
   ],
   "source": [
    "con = nDf.name.str.contains(r'\\d+호')\n",
    "lst = nDf.loc[con].name.unique().tolist()\n",
    "lst"
   ]
  }
 ],
 "metadata": {
  "interpreter": {
   "hash": "402f732f45210a8f3cf204d18ac474bcfde6f1d7d558ffc6d28a7b91f39123e2"
  },
  "kernelspec": {
   "display_name": "Python 3.8.6 64-bit ('pythonProject': venv)",
   "name": "python3"
  },
  "language_info": {
   "codemirror_mode": {
    "name": "ipython",
    "version": 3
   },
   "file_extension": ".py",
   "mimetype": "text/x-python",
   "name": "python",
   "nbconvert_exporter": "python",
   "pygments_lexer": "ipython3",
   "version": "3.8.6"
  },
  "orig_nbformat": 4
 },
 "nbformat": 4,
 "nbformat_minor": 2
}
