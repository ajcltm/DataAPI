{
 "cells": [
  {
   "cell_type": "code",
   "execution_count": 1,
   "metadata": {},
   "outputs": [],
   "source": [
    "import abc\n",
    "import requests\n",
    "from tqdm import tqdm\n",
    "\n",
    "from pathlib import Path\n",
    "import pandas as pd\n",
    "\n",
    "import stockInfo\n",
    "import rceptnoInfo\n",
    "\n",
    "import re\n",
    "import time"
   ]
  },
  {
   "cell_type": "code",
   "execution_count": 2,
   "metadata": {},
   "outputs": [],
   "source": [
    "path = Path.home().joinpath('Desktop', 'dataBackUp(211021)')\n",
    "commonStockProvider = stockInfo.commonStockProvider()\n",
    "stockinfo = stockInfo.StockInfo(path, commonStockProvider)"
   ]
  },
  {
   "cell_type": "code",
   "execution_count": 5,
   "metadata": {},
   "outputs": [
    {
     "name": "stderr",
     "output_type": "stream",
     "text": [
      "100%|██████████| 1026/1026 [01:04<00:00, 15.84it/s]\n"
     ]
    }
   ],
   "source": [
    "stockinfo.get_stockInfo('000020')\n",
    "stockInfoDic = stockinfo.get_batch_stockInfo()"
   ]
  },
  {
   "cell_type": "code",
   "execution_count": 6,
   "metadata": {},
   "outputs": [
    {
     "data": {
      "text/plain": [
       "'000020'"
      ]
     },
     "execution_count": 6,
     "metadata": {},
     "output_type": "execute_result"
    }
   ],
   "source": [
    "tickerLst = list(stockInfoDic.keys())\n",
    "tickerLst[0]"
   ]
  },
  {
   "cell_type": "code",
   "execution_count": 7,
   "metadata": {},
   "outputs": [
    {
     "data": {
      "text/plain": [
       "'00119195'"
      ]
     },
     "execution_count": 7,
     "metadata": {},
     "output_type": "execute_result"
    }
   ],
   "source": [
    "corp_code = stockInfoDic[tickerLst[0]]['corp_code']\n",
    "corp_code"
   ]
  },
  {
   "cell_type": "code",
   "execution_count": 8,
   "metadata": {},
   "outputs": [
    {
     "name": "stdout",
     "output_type": "stream",
     "text": [
      "['00119195', '00475286', '00121932', '00500254', '00132211', '00127167']\n"
     ]
    }
   ],
   "source": [
    "corp_codeLst = []\n",
    "for k in range(0, len(tickerLst)):\n",
    "    corp_code = stockInfoDic[tickerLst[k]]['corp_code']\n",
    "    corp_codeLst.append(corp_code)\n",
    "    if k == 5:\n",
    "        break\n",
    "print(corp_codeLst)"
   ]
  },
  {
   "cell_type": "code",
   "execution_count": 9,
   "metadata": {},
   "outputs": [],
   "source": [
    "preprocessor = rceptnoInfo.PreprocessorRceptnoInfo()\n",
    "rc = rceptnoInfo.RceptnoInfo(preprocessor)"
   ]
  },
  {
   "cell_type": "code",
   "execution_count": 11,
   "metadata": {},
   "outputs": [
    {
     "name": "stderr",
     "output_type": "stream",
     "text": [
      "100%|██████████| 6/6 [00:06<00:00,  1.11s/it]\n"
     ]
    }
   ],
   "source": [
    "dic = rc.get_batch_rceptnoInfo(corp_codeLst, '20100101', '20211130')"
   ]
  },
  {
   "cell_type": "code",
   "execution_count": 12,
   "metadata": {},
   "outputs": [
    {
     "data": {
      "text/plain": [
       "'20211115'"
      ]
     },
     "execution_count": 12,
     "metadata": {},
     "output_type": "execute_result"
    }
   ],
   "source": [
    "dic['00119195'][0]['rcept_dt']"
   ]
  },
  {
   "cell_type": "code",
   "execution_count": 13,
   "metadata": {},
   "outputs": [],
   "source": [
    "class Nord2Parser:\n",
    "    parameterKeyLst = ['text', 'id', 'rcpNo', 'dcmNo', \n",
    "                'eleId', 'offset', 'length', 'dtd', 'tocNo']\n",
    "\n",
    "\n",
    "    def get_parameterValue(self, key):\n",
    "        return re.findall(r'node2\\[\\'' + key + '\\'\\]\\s*=\\s*(\".*?\")', self.html)\n",
    "\n",
    "    def get_parameterDic(self):\n",
    "        parameterDic = {}\n",
    "        for key in self.parameterKeyLst :\n",
    "            parameterDic[key] = self.get_parameterValue(key)\n",
    "        return parameterDic\n",
    "    \n",
    "    def parse_nord(self, parser):\n",
    "        stripedDf = pd.DataFrame(self.parameterDic).applymap(lambda x:x.strip('\"'))\n",
    "        con = stripedDf.text.str.contains(parser)\n",
    "        dic = stripedDf.loc[con].to_dict('records')\n",
    "        return dic\n",
    "\n",
    "    def __init__(self, reportHtml):\n",
    "        self.html = reportHtml\n",
    "        self.parameterDic = self.get_parameterDic()\n",
    "        \n"
   ]
  },
  {
   "cell_type": "code",
   "execution_count": 14,
   "metadata": {},
   "outputs": [],
   "source": [
    "class Nord1Parser:\n",
    "    parameterKeyLst = ['text', 'id', 'rcpNo', 'dcmNo', \n",
    "                'eleId', 'offset', 'length', 'dtd', 'tocNo']\n",
    "\n",
    "\n",
    "    def get_parameterValue(self, key):\n",
    "        return re.findall(r'node1\\[\\'' + key + '\\'\\]\\s*=\\s*(\".*?\")', self.html)\n",
    "\n",
    "    def get_parameterDic(self):\n",
    "        parameterDic = {}\n",
    "        for key in self.parameterKeyLst :\n",
    "            parameterDic[key] = self.get_parameterValue(key)\n",
    "        return parameterDic\n",
    "    \n",
    "    def parse_nord(self, parser):\n",
    "        stripedDf = pd.DataFrame(self.parameterDic).applymap(lambda x:x.strip('\"'))\n",
    "        con = stripedDf.text.str.contains(parser)\n",
    "        dic = stripedDf.loc[con].to_dict('records')\n",
    "        return dic\n",
    "\n",
    "    def __init__(self, reportHtml):\n",
    "        self.html = reportHtml\n",
    "        self.parameterDic = self.get_parameterDic()"
   ]
  },
  {
   "cell_type": "code",
   "execution_count": 15,
   "metadata": {},
   "outputs": [
    {
     "name": "stdout",
     "output_type": "stream",
     "text": [
      "20211115001703\n"
     ]
    }
   ],
   "source": [
    "tickerLst = list(dic.keys())\n",
    "rcept_no = dic[tickerLst[0]][0]['rcept_no']\n",
    "print(rcept_no)"
   ]
  },
  {
   "cell_type": "code",
   "execution_count": 17,
   "metadata": {},
   "outputs": [],
   "source": [
    "class ParseNordABC(metaclass=abc.ABCMeta):\n",
    "\n",
    "    def __init__(self, nord, parser_format) :\n",
    "        self.nord = nord\n",
    "        self.parser_format = parser_format\n",
    "    @abc.abstractclassmethod\n",
    "    def operation(self):\n",
    "        pass"
   ]
  },
  {
   "cell_type": "code",
   "execution_count": 18,
   "metadata": {},
   "outputs": [],
   "source": [
    "class Parser(ParseNordABC):\n",
    "    def operation(self):\n",
    "        return self.nord.parse_nord(self.parser_format)"
   ]
  },
  {
   "cell_type": "code",
   "execution_count": 19,
   "metadata": {},
   "outputs": [],
   "source": [
    "class Handler:\n",
    "\n",
    "    def __init__(self, parser, successor=None):\n",
    "        self.parser = parser\n",
    "        self.successor = successor\n",
    "    \n",
    "    def handle_request(self):\n",
    "        detailReportParameter = self.parser.operation()\n",
    "        print(detailReportParameter)\n",
    "        if detailReportParameter :\n",
    "            return detailReportParameter[0]\n",
    "        elif self.successor is not None:\n",
    "            self.successor.handle_request()\n",
    "        else:\n",
    "            return None"
   ]
  },
  {
   "cell_type": "code",
   "execution_count": 22,
   "metadata": {},
   "outputs": [
    {
     "name": "stderr",
     "output_type": "stream",
     "text": [
      "  0%|          | 0/51 [00:00<?, ?it/s]"
     ]
    },
    {
     "name": "stdout",
     "output_type": "stream",
     "text": [
      "00119195\n",
      "51\n",
      "0\n"
     ]
    },
    {
     "name": "stderr",
     "output_type": "stream",
     "text": [
      "  2%|▏         | 1/51 [00:01<00:55,  1.12s/it]"
     ]
    },
    {
     "name": "stdout",
     "output_type": "stream",
     "text": [
      "here\n",
      "20211115001703\n",
      "[{'text': '2. 연결재무제표', 'id': '19', 'rcpNo': '20211115001703', 'dcmNo': '8277451', 'eleId': '19', 'offset': '251297', 'length': '86078', 'dtd': 'dart3.xsd', 'tocNo': '19'}]\n",
      "1\n"
     ]
    },
    {
     "name": "stderr",
     "output_type": "stream",
     "text": [
      "  2%|▏         | 1/51 [00:02<01:46,  2.12s/it]\n"
     ]
    }
   ],
   "source": [
    "tickerLst = list(dic.keys())\n",
    "detailReportParameterDic = {}\n",
    "ticker = tickerLst[0]\n",
    "print(ticker)\n",
    "print(len(dic[ticker]))\n",
    "for k in tqdm(range(0, len(dic[ticker]))) :\n",
    "    print(k)\n",
    "    time.sleep(1)\n",
    "    if k > 0:\n",
    "        break\n",
    "    if not dic[ticker][k]['add_info']:\n",
    "        print('here')\n",
    "        rcept_no = dic[ticker][k]['rcept_no']\n",
    "        print(rcept_no)\n",
    "        url = f'http://dart.fss.or.kr/dsaf001/main.do?rcpNo={rcept_no}'\n",
    "        r = requests.get(url)\n",
    "        reportHtml = r.text\n",
    "        parser1 = Parser(nord = Nord2Parser(reportHtml), parser_format = r'.*연결재무제표$')\n",
    "        parser2 = Parser(nord = Nord1Parser(reportHtml), parser_format = r'.*재무제표.*$')\n",
    "        successor = Handler(parser = parser2)\n",
    "        detailReportParameter = Handler(parser = parser1, successor = successor).handle_request()\n",
    "    "
   ]
  },
  {
   "cell_type": "code",
   "execution_count": 23,
   "metadata": {},
   "outputs": [
    {
     "name": "stdout",
     "output_type": "stream",
     "text": [
      "{'text': '2. 연결재무제표', 'id': '19', 'rcpNo': '20211115001703', 'dcmNo': '8277451', 'eleId': '19', 'offset': '251297', 'length': '86078', 'dtd': 'dart3.xsd', 'tocNo': '19'}\n"
     ]
    }
   ],
   "source": [
    "print(detailReportParameter)"
   ]
  }
 ],
 "metadata": {
  "interpreter": {
   "hash": "402f732f45210a8f3cf204d18ac474bcfde6f1d7d558ffc6d28a7b91f39123e2"
  },
  "kernelspec": {
   "display_name": "Python 3.8.6 64-bit ('pythonProject': venv)",
   "language": "python",
   "name": "python3"
  },
  "language_info": {
   "codemirror_mode": {
    "name": "ipython",
    "version": 3
   },
   "file_extension": ".py",
   "mimetype": "text/x-python",
   "name": "python",
   "nbconvert_exporter": "python",
   "pygments_lexer": "ipython3",
   "version": "3.8.6"
  },
  "orig_nbformat": 4
 },
 "nbformat": 4,
 "nbformat_minor": 2
}
