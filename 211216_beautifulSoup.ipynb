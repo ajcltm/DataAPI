{
 "cells": [
  {
   "cell_type": "code",
   "execution_count": 1,
   "metadata": {},
   "outputs": [],
   "source": [
    "from pathlib import Path\n",
    "import pandas as pd\n",
    "import random\n",
    "import stockInfo\n",
    "import rceptnoInfo\n",
    "import report\n",
    "import requests\n",
    "from bs4 import BeautifulSoup\n",
    "import re"
   ]
  },
  {
   "cell_type": "code",
   "execution_count": 53,
   "metadata": {},
   "outputs": [
    {
     "data": {
      "text/html": [
       "<div>\n",
       "<style scoped>\n",
       "    .dataframe tbody tr th:only-of-type {\n",
       "        vertical-align: middle;\n",
       "    }\n",
       "\n",
       "    .dataframe tbody tr th {\n",
       "        vertical-align: top;\n",
       "    }\n",
       "\n",
       "    .dataframe thead th {\n",
       "        text-align: right;\n",
       "    }\n",
       "</style>\n",
       "<table border=\"1\" class=\"dataframe\">\n",
       "  <thead>\n",
       "    <tr style=\"text-align: right;\">\n",
       "      <th></th>\n",
       "      <th>제 44기 3분기말</th>\n",
       "      <th>43기말</th>\n",
       "      <th>c</th>\n",
       "    </tr>\n",
       "  </thead>\n",
       "  <tbody>\n",
       "    <tr>\n",
       "      <th>0</th>\n",
       "      <td>0.740334</td>\n",
       "      <td>0.554753</td>\n",
       "      <td>0.023149</td>\n",
       "    </tr>\n",
       "    <tr>\n",
       "      <th>1</th>\n",
       "      <td>0.727797</td>\n",
       "      <td>0.427087</td>\n",
       "      <td>0.174363</td>\n",
       "    </tr>\n",
       "    <tr>\n",
       "      <th>2</th>\n",
       "      <td>0.471091</td>\n",
       "      <td>0.149400</td>\n",
       "      <td>0.818632</td>\n",
       "    </tr>\n",
       "    <tr>\n",
       "      <th>3</th>\n",
       "      <td>0.150951</td>\n",
       "      <td>0.756514</td>\n",
       "      <td>0.363646</td>\n",
       "    </tr>\n",
       "    <tr>\n",
       "      <th>4</th>\n",
       "      <td>0.688285</td>\n",
       "      <td>0.708857</td>\n",
       "      <td>0.432153</td>\n",
       "    </tr>\n",
       "  </tbody>\n",
       "</table>\n",
       "</div>"
      ],
      "text/plain": [
       "   제 44기 3분기말      43기말         c\n",
       "0    0.740334  0.554753  0.023149\n",
       "1    0.727797  0.427087  0.174363\n",
       "2    0.471091  0.149400  0.818632\n",
       "3    0.150951  0.756514  0.363646\n",
       "4    0.688285  0.708857  0.432153"
      ]
     },
     "execution_count": 53,
     "metadata": {},
     "output_type": "execute_result"
    }
   ],
   "source": [
    "import numpy as np\n",
    "array = np.random.rand(5,3)\n",
    "df = pd.DataFrame(array, columns=['제 44기 3분기말', '43기말', 'c'])\n",
    "df"
   ]
  },
  {
   "cell_type": "code",
   "execution_count": 63,
   "metadata": {},
   "outputs": [
    {
     "data": {
      "text/plain": [
       "True"
      ]
     },
     "execution_count": 63,
     "metadata": {},
     "output_type": "execute_result"
    }
   ],
   "source": [
    "df.values.dtype == 'float'"
   ]
  },
  {
   "cell_type": "code",
   "execution_count": 52,
   "metadata": {},
   "outputs": [
    {
     "name": "stdout",
     "output_type": "stream",
     "text": [
      "dtype~: 제 44기 3분기말    float64\n",
      "dtype: object\n",
      "float64\n",
      "True\n",
      "False\n",
      "dtype~: 43기말    float64\n",
      "dtype: object\n",
      "float64\n",
      "True\n",
      "False\n"
     ]
    }
   ],
   "source": [
    "for column in columns:\n",
    "    result = re.findall(f'^.*[0-9]*.?[기].*', column)\n",
    "    if result:\n",
    "        seris = df.loc[:, result]\n",
    "        print(f'dtype~: {seris.dtypes}')\n",
    "        print(seris.dtypes[0])\n",
    "        print(bool(seris.dtypes[0]=='float64'))\n",
    "        print(isinstance(seris.dtypes[0], float))"
   ]
  },
  {
   "cell_type": "code",
   "execution_count": 11,
   "metadata": {},
   "outputs": [],
   "source": [
    "rcept_no = '20160516003644'\n",
    "# rcept_no = '20211115001521'\n",
    "# rcept_no = '20210309000744'\n",
    "# rcept_no = '20121129001089'"
   ]
  },
  {
   "cell_type": "code",
   "execution_count": 12,
   "metadata": {},
   "outputs": [],
   "source": [
    "url = f'http://dart.fss.or.kr/dsaf001/main.do?rcpNo={rcept_no}'\n",
    "r = requests.get(url)\n",
    "reportHtml = r.text"
   ]
  },
  {
   "cell_type": "code",
   "execution_count": 13,
   "metadata": {},
   "outputs": [],
   "source": [
    "parser1 = report.Parser(nord = report.Nord2Parser(reportHtml), parser_format = r'.*연결재무제표$')\n",
    "parser2 = report.Parser(nord = report.Nord1Parser(reportHtml), parser_format = r'.*재무제표 등$')\n",
    "parser3 = report.Parser(nord = report.Nord2Parser(reportHtml), parser_format = r'^[^가-힣]*재무제표$')"
   ]
  },
  {
   "cell_type": "code",
   "execution_count": 14,
   "metadata": {},
   "outputs": [],
   "source": [
    "dic = parser1.operation()"
   ]
  },
  {
   "cell_type": "code",
   "execution_count": 15,
   "metadata": {},
   "outputs": [
    {
     "data": {
      "text/plain": [
       "<!DOCTYPE HTML PUBLIC \"-//W3C//DTD HTML 4.01 Transitional//EN\" \"http://www.w3.org/TR/html4/loose.dtd\">\n",
       "\n",
       "<html style=\"border:0\">\n",
       "<head>\n",
       "<title></title>\n",
       "<meta content=\"IE=EmulateIE8\" http-equiv=\"X-UA-Compatible\"/>\n",
       "<meta content=\"gdi\" http-equiv=\"X-UA-TextLayoutMetrics\"/>\n",
       "<meta content=\"text/html; charset=utf-8\" http-equiv=\"Content-Type\"/>\n",
       "<link href=\"/css/report_xml.css\" rel=\"stylesheet\" type=\"text/css\"/>\n",
       "</head>\n",
       "<body bgcolor=\"#FFFFFF\">\n",
       "<p><br/></p>\n",
       "<p class=\"section-2\"><a name=\"toc1\">2. 연결재무제표</a></p>\n",
       "<p><br/></p>\n",
       "<p>- 당사는 보고서 제출일 현재 연결재무제표와 관련된 사항이 없습니다.</p>\n",
       "<p><br/><br/></p>\n",
       "<p><br/></p>\n",
       "</body>\n",
       "</html>"
      ]
     },
     "execution_count": 15,
     "metadata": {},
     "output_type": "execute_result"
    }
   ],
   "source": [
    "url = f'http://dart.fss.or.kr/report/viewer.do?'\n",
    "r = requests.get(url, params=dic[0])\n",
    "html = r.text\n",
    "soup = BeautifulSoup(html, 'html.parser')\n",
    "soup"
   ]
  },
  {
   "cell_type": "code",
   "execution_count": 17,
   "metadata": {},
   "outputs": [
    {
     "data": {
      "text/plain": [
       "[]"
      ]
     },
     "execution_count": 17,
     "metadata": {},
     "output_type": "execute_result"
    }
   ],
   "source": [
    "soup.find_all('table')"
   ]
  },
  {
   "cell_type": "code",
   "execution_count": 16,
   "metadata": {},
   "outputs": [
    {
     "ename": "IndexError",
     "evalue": "list index out of range",
     "output_type": "error",
     "traceback": [
      "\u001b[1;31m---------------------------------------------------------------------------\u001b[0m",
      "\u001b[1;31mIndexError\u001b[0m                                Traceback (most recent call last)",
      "\u001b[1;32m<ipython-input-16-46fa362d7cd5>\u001b[0m in \u001b[0;36m<module>\u001b[1;34m\u001b[0m\n\u001b[1;32m----> 1\u001b[1;33m \u001b[0mtable\u001b[0m \u001b[1;33m=\u001b[0m \u001b[0msoup\u001b[0m\u001b[1;33m.\u001b[0m\u001b[0mfind_all\u001b[0m\u001b[1;33m(\u001b[0m\u001b[0mstring\u001b[0m\u001b[1;33m=\u001b[0m\u001b[0mre\u001b[0m\u001b[1;33m.\u001b[0m\u001b[0mcompile\u001b[0m\u001b[1;33m(\u001b[0m\u001b[1;34mr'연\\s*결\\s*재\\s*무\\s*상\\s*태\\s*표\\s*'\u001b[0m\u001b[1;33m)\u001b[0m\u001b[1;33m)\u001b[0m\u001b[1;33m[\u001b[0m\u001b[1;36m0\u001b[0m\u001b[1;33m]\u001b[0m\u001b[1;33m.\u001b[0m\u001b[0mfind_all_next\u001b[0m\u001b[1;33m(\u001b[0m\u001b[1;34m'table'\u001b[0m\u001b[1;33m)\u001b[0m\u001b[1;33m\u001b[0m\u001b[1;33m\u001b[0m\u001b[0m\n\u001b[0m\u001b[0;32m      2\u001b[0m \u001b[1;31m# print(table)\u001b[0m\u001b[1;33m\u001b[0m\u001b[1;33m\u001b[0m\u001b[1;33m\u001b[0m\u001b[0m\n\u001b[0;32m      3\u001b[0m \u001b[0mpd\u001b[0m\u001b[1;33m.\u001b[0m\u001b[0mread_html\u001b[0m\u001b[1;33m(\u001b[0m\u001b[0mstr\u001b[0m\u001b[1;33m(\u001b[0m\u001b[0mtable\u001b[0m\u001b[1;33m)\u001b[0m\u001b[1;33m)\u001b[0m\u001b[1;33m[\u001b[0m\u001b[1;36m2\u001b[0m\u001b[1;33m]\u001b[0m\u001b[1;33m.\u001b[0m\u001b[0minfo\u001b[0m\u001b[1;33m(\u001b[0m\u001b[1;33m)\u001b[0m\u001b[1;33m\u001b[0m\u001b[1;33m\u001b[0m\u001b[0m\n",
      "\u001b[1;31mIndexError\u001b[0m: list index out of range"
     ]
    }
   ],
   "source": [
    "table = soup.find_all(string=re.compile(r'연\\s*결\\s*재\\s*무\\s*상\\s*태\\s*표\\s*'))[0].find_all_next('table')\n",
    "# print(table)\n",
    "pd.read_html(str(table))[2].info()"
   ]
  }
 ],
 "metadata": {
  "interpreter": {
   "hash": "402f732f45210a8f3cf204d18ac474bcfde6f1d7d558ffc6d28a7b91f39123e2"
  },
  "kernelspec": {
   "display_name": "Python 3.8.6 64-bit ('pythonProject': venv)",
   "language": "python",
   "name": "python3"
  },
  "language_info": {
   "codemirror_mode": {
    "name": "ipython",
    "version": 3
   },
   "file_extension": ".py",
   "mimetype": "text/x-python",
   "name": "python",
   "nbconvert_exporter": "python",
   "pygments_lexer": "ipython3",
   "version": "3.8.6"
  },
  "orig_nbformat": 4
 },
 "nbformat": 4,
 "nbformat_minor": 2
}
